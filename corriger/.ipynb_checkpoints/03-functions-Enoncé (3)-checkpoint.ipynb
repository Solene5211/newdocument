{
 "cells": [
  {
   "cell_type": "markdown",
   "metadata": {
    "id": "OhMBE7P44oF_"
   },
   "source": [
    "# Python the basics: functions\n",
    "\n",
    "> *DS Data manipulation, analysis and visualisation in Python*  \n",
    "> *September, 2020*\n"
   ]
  },
  {
   "cell_type": "markdown",
   "metadata": {
    "id": "6x3rRKU34oGM"
   },
   "source": [
    "## Functions"
   ]
  },
  {
   "cell_type": "markdown",
   "metadata": {
    "id": "zBMldMON4oGO"
   },
   "source": [
    "### Function definition"
   ]
  },
  {
   "cell_type": "markdown",
   "metadata": {
    "id": "coHRg8yW4oGP"
   },
   "source": [
    "Function blocks must be indented as other control-flow blocks"
   ]
  },
  {
   "cell_type": "code",
   "execution_count": 1,
   "metadata": {
    "executionInfo": {
     "elapsed": 18,
     "status": "ok",
     "timestamp": 1635356135074,
     "user": {
      "displayName": "Yacine ASLIMI",
      "photoUrl": "https://lh3.googleusercontent.com/a/default-user=s64",
      "userId": "17203730376393528118"
     },
     "user_tz": -120
    },
    "id": "CFMzUCcJ0dhG"
   },
   "outputs": [],
   "source": [
    "a = 3\n",
    "b = 6"
   ]
  },
  {
   "cell_type": "code",
   "execution_count": 3,
   "metadata": {
    "colab": {
     "base_uri": "https://localhost:8080/"
    },
    "executionInfo": {
     "elapsed": 375,
     "status": "ok",
     "timestamp": 1635356138979,
     "user": {
      "displayName": "Yacine ASLIMI",
      "photoUrl": "https://lh3.googleusercontent.com/a/default-user=s64",
      "userId": "17203730376393528118"
     },
     "user_tz": -120
    },
    "id": "rmLtVQAi0jF-",
    "outputId": "0c1e9398-d605-40eb-ddbc-3d4090349530"
   },
   "outputs": [
    {
     "data": {
      "text/plain": [
       "9"
      ]
     },
     "execution_count": 3,
     "metadata": {},
     "output_type": "execute_result"
    }
   ],
   "source": [
    "a + b"
   ]
  },
  {
   "cell_type": "code",
   "execution_count": 6,
   "metadata": {
    "executionInfo": {
     "elapsed": 338,
     "status": "ok",
     "timestamp": 1635356341769,
     "user": {
      "displayName": "Yacine ASLIMI",
      "photoUrl": "https://lh3.googleusercontent.com/a/default-user=s64",
      "userId": "17203730376393528118"
     },
     "user_tz": -120
    },
    "id": "h7ZHzfQX0sV3"
   },
   "outputs": [],
   "source": [
    "#### CRéation de la fonction\n",
    "def addition(a, b): ### Définir une fonction avec 2 arguments (a et b)\n",
    "  print(a+b) #### Afficher en sortie la somme des 2"
   ]
  },
  {
   "cell_type": "code",
   "execution_count": 7,
   "metadata": {
    "colab": {
     "base_uri": "https://localhost:8080/"
    },
    "executionInfo": {
     "elapsed": 13,
     "status": "ok",
     "timestamp": 1635356342965,
     "user": {
      "displayName": "Yacine ASLIMI",
      "photoUrl": "https://lh3.googleusercontent.com/a/default-user=s64",
      "userId": "17203730376393528118"
     },
     "user_tz": -120
    },
    "id": "cPnUeInt1Kat",
    "outputId": "010e3d0c-5faf-4fba-9fb0-7e9ca988cb8b"
   },
   "outputs": [
    {
     "name": "stdout",
     "output_type": "stream",
     "text": [
      "9\n"
     ]
    }
   ],
   "source": [
    "#### Appel de la fonction\n",
    "addition(3, 6)"
   ]
  },
  {
   "cell_type": "code",
   "execution_count": 8,
   "metadata": {
    "colab": {
     "base_uri": "https://localhost:8080/"
    },
    "executionInfo": {
     "elapsed": 352,
     "status": "ok",
     "timestamp": 1635356375394,
     "user": {
      "displayName": "Yacine ASLIMI",
      "photoUrl": "https://lh3.googleusercontent.com/a/default-user=s64",
      "userId": "17203730376393528118"
     },
     "user_tz": -120
    },
    "id": "GGqtmpzi1bUO",
    "outputId": "5563fd8d-aa6c-4330-98eb-422f7194b952"
   },
   "outputs": [
    {
     "name": "stdout",
     "output_type": "stream",
     "text": [
      "15\n"
     ]
    }
   ],
   "source": [
    "#### Appel de la fonction\n",
    "addition(6, 9)"
   ]
  },
  {
   "cell_type": "code",
   "execution_count": 9,
   "metadata": {
    "colab": {
     "base_uri": "https://localhost:8080/"
    },
    "executionInfo": {
     "elapsed": 374,
     "status": "ok",
     "timestamp": 1635356388131,
     "user": {
      "displayName": "Yacine ASLIMI",
      "photoUrl": "https://lh3.googleusercontent.com/a/default-user=s64",
      "userId": "17203730376393528118"
     },
     "user_tz": -120
    },
    "id": "-HGxueVU1gtY",
    "outputId": "f32781fb-80a5-4687-fb5c-e9ee3e35fd07"
   },
   "outputs": [
    {
     "name": "stdout",
     "output_type": "stream",
     "text": [
      "94\n"
     ]
    }
   ],
   "source": [
    "#### Appel de la fonction\n",
    "addition(88, 6)"
   ]
  },
  {
   "cell_type": "code",
   "execution_count": 10,
   "metadata": {
    "colab": {
     "base_uri": "https://localhost:8080/"
    },
    "executionInfo": {
     "elapsed": 362,
     "status": "ok",
     "timestamp": 1635356421674,
     "user": {
      "displayName": "Yacine ASLIMI",
      "photoUrl": "https://lh3.googleusercontent.com/a/default-user=s64",
      "userId": "17203730376393528118"
     },
     "user_tz": -120
    },
    "id": "QvpKJwlx1ppr",
    "outputId": "f1d062c6-92e6-4903-c424-4cafb42e317b"
   },
   "outputs": [
    {
     "name": "stdout",
     "output_type": "stream",
     "text": [
      "Variable   Type        Data/Info\n",
      "--------------------------------\n",
      "a          int         3\n",
      "addition   function    <function addition at 0x7f5df45e2cb0>\n",
      "b          int         6\n"
     ]
    }
   ],
   "source": [
    "%whos"
   ]
  },
  {
   "cell_type": "code",
   "execution_count": 11,
   "metadata": {
    "executionInfo": {
     "elapsed": 345,
     "status": "ok",
     "timestamp": 1635356470913,
     "user": {
      "displayName": "Yacine ASLIMI",
      "photoUrl": "https://lh3.googleusercontent.com/a/default-user=s64",
      "userId": "17203730376393528118"
     },
     "user_tz": -120
    },
    "id": "rr34ghy64oGQ",
    "run_control": {
     "frozen": false,
     "read_only": false
    }
   },
   "outputs": [],
   "source": [
    "def the_answer_to_the_universe(): #### Fonction sans argument\n",
    "    print(42)"
   ]
  },
  {
   "cell_type": "code",
   "execution_count": 13,
   "metadata": {
    "colab": {
     "base_uri": "https://localhost:8080/"
    },
    "executionInfo": {
     "elapsed": 365,
     "status": "ok",
     "timestamp": 1635356510778,
     "user": {
      "displayName": "Yacine ASLIMI",
      "photoUrl": "https://lh3.googleusercontent.com/a/default-user=s64",
      "userId": "17203730376393528118"
     },
     "user_tz": -120
    },
    "id": "xrBZsZ-p117a",
    "outputId": "4cbe49a5-abc7-46fd-feb4-821f01fc7dbb"
   },
   "outputs": [
    {
     "name": "stdout",
     "output_type": "stream",
     "text": [
      "42\n"
     ]
    }
   ],
   "source": [
    "the_answer_to_the_universe() #### Affiche la sortie"
   ]
  },
  {
   "cell_type": "markdown",
   "metadata": {
    "id": "0lVd_y9u4oGU"
   },
   "source": [
    "**Note**: the syntax to define a function:\n",
    "\n",
    "* the def keyword;\n",
    "* is followed by the function’s name, then\n",
    "* the arguments of the function are given between parentheses followed by a colon.\n",
    "* the function body;\n",
    "* and return object for optionally returning values.\n"
   ]
  },
  {
   "cell_type": "markdown",
   "metadata": {
    "id": "LpJoZqme4oGY"
   },
   "source": [
    "### Return statement"
   ]
  },
  {
   "cell_type": "markdown",
   "metadata": {
    "id": "_OvFdUu24oGZ"
   },
   "source": [
    "Functions can *optionally* return values"
   ]
  },
  {
   "cell_type": "code",
   "execution_count": 14,
   "metadata": {
    "executionInfo": {
     "elapsed": 366,
     "status": "ok",
     "timestamp": 1635356611750,
     "user": {
      "displayName": "Yacine ASLIMI",
      "photoUrl": "https://lh3.googleusercontent.com/a/default-user=s64",
      "userId": "17203730376393528118"
     },
     "user_tz": -120
    },
    "id": "y4T2Kc174oGd",
    "run_control": {
     "frozen": false,
     "read_only": false
    }
   },
   "outputs": [],
   "source": [
    "def calcAreaSquare(edge): #### Définition de l'air d'un carré\n",
    "    return edge**2 #### Aire du carré"
   ]
  },
  {
   "cell_type": "code",
   "execution_count": 15,
   "metadata": {
    "colab": {
     "base_uri": "https://localhost:8080/"
    },
    "executionInfo": {
     "elapsed": 357,
     "status": "ok",
     "timestamp": 1635356627734,
     "user": {
      "displayName": "Yacine ASLIMI",
      "photoUrl": "https://lh3.googleusercontent.com/a/default-user=s64",
      "userId": "17203730376393528118"
     },
     "user_tz": -120
    },
    "id": "94nXhbeT2M0q",
    "outputId": "c73efc0b-9235-485b-885a-790969a28d60"
   },
   "outputs": [
    {
     "data": {
      "text/plain": [
       "5.289999999999999"
      ]
     },
     "execution_count": 15,
     "metadata": {},
     "output_type": "execute_result"
    }
   ],
   "source": [
    "calcAreaSquare(2.3) #### Appel de la fonction: coté 2,3"
   ]
  },
  {
   "cell_type": "markdown",
   "metadata": {
    "id": "RBMqxYdI4oGf"
   },
   "source": [
    "### Parameters"
   ]
  },
  {
   "cell_type": "markdown",
   "metadata": {
    "id": "EwM8JsIj4oGg"
   },
   "source": [
    "Mandatory parameters (positional arguments)"
   ]
  },
  {
   "cell_type": "code",
   "execution_count": 16,
   "metadata": {
    "executionInfo": {
     "elapsed": 354,
     "status": "ok",
     "timestamp": 1635356708719,
     "user": {
      "displayName": "Yacine ASLIMI",
      "photoUrl": "https://lh3.googleusercontent.com/a/default-user=s64",
      "userId": "17203730376393528118"
     },
     "user_tz": -120
    },
    "id": "K_QVntPK4oGh",
    "run_control": {
     "frozen": false,
     "read_only": false
    }
   },
   "outputs": [],
   "source": [
    "def double_it(x): ### Argument :affcher x et x est obligatoire\n",
    "    return 2*x"
   ]
  },
  {
   "cell_type": "code",
   "execution_count": 17,
   "metadata": {
    "colab": {
     "base_uri": "https://localhost:8080/"
    },
    "executionInfo": {
     "elapsed": 359,
     "status": "ok",
     "timestamp": 1635356720060,
     "user": {
      "displayName": "Yacine ASLIMI",
      "photoUrl": "https://lh3.googleusercontent.com/a/default-user=s64",
      "userId": "17203730376393528118"
     },
     "user_tz": -120
    },
    "id": "G8_eJxtJ2vDD",
    "outputId": "feb5fd70-0934-4d05-fe15-38ffd0950c7b"
   },
   "outputs": [
    {
     "data": {
      "text/plain": [
       "6"
      ]
     },
     "execution_count": 17,
     "metadata": {},
     "output_type": "execute_result"
    }
   ],
   "source": [
    "double_it(3)"
   ]
  },
  {
   "cell_type": "code",
   "execution_count": 18,
   "metadata": {
    "colab": {
     "base_uri": "https://localhost:8080/",
     "height": 166
    },
    "executionInfo": {
     "elapsed": 369,
     "status": "error",
     "timestamp": 1635356726952,
     "user": {
      "displayName": "Yacine ASLIMI",
      "photoUrl": "https://lh3.googleusercontent.com/a/default-user=s64",
      "userId": "17203730376393528118"
     },
     "user_tz": -120
    },
    "id": "fvE83H1Y4oGn",
    "outputId": "c6f67a64-01a3-43ce-f008-05f58093931f",
    "run_control": {
     "frozen": false,
     "read_only": false
    }
   },
   "outputs": [
    {
     "ename": "TypeError",
     "evalue": "ignored",
     "output_type": "error",
     "traceback": [
      "\u001b[0;31m---------------------------------------------------------------------------\u001b[0m",
      "\u001b[0;31mTypeError\u001b[0m                                 Traceback (most recent call last)",
      "\u001b[0;32m<ipython-input-18-7e40baa67e25>\u001b[0m in \u001b[0;36m<module>\u001b[0;34m()\u001b[0m\n\u001b[0;32m----> 1\u001b[0;31m \u001b[0mdouble_it\u001b[0m\u001b[0;34m(\u001b[0m\u001b[0;34m)\u001b[0m\u001b[0;34m\u001b[0m\u001b[0;34m\u001b[0m\u001b[0m\n\u001b[0m",
      "\u001b[0;31mTypeError\u001b[0m: double_it() missing 1 required positional argument: 'x'"
     ]
    }
   ],
   "source": [
    "double_it()"
   ]
  },
  {
   "cell_type": "markdown",
   "metadata": {
    "id": "VhC_37oB4oGq"
   },
   "source": [
    "Optional parameters (keyword or named arguments)\n",
    "\n",
    "The order of the keyword arguments does not matter, but it is good practice to use the same ordering as the function's definition\n",
    "\n",
    "*Keyword arguments* are a very convenient feature for defining functions with a variable number of arguments, especially when default values are to be used in most calls to the function."
   ]
  },
  {
   "cell_type": "code",
   "execution_count": 19,
   "metadata": {
    "executionInfo": {
     "elapsed": 6,
     "status": "ok",
     "timestamp": 1635356852820,
     "user": {
      "displayName": "Yacine ASLIMI",
      "photoUrl": "https://lh3.googleusercontent.com/a/default-user=s64",
      "userId": "17203730376393528118"
     },
     "user_tz": -120
    },
    "id": "Ia8OJ87o4oGs",
    "run_control": {
     "frozen": false,
     "read_only": false
    }
   },
   "outputs": [],
   "source": [
    "def double_it (x=1): ### Par défaut, la valeur de l'argument x vaudra 1\n",
    "    return 2*x"
   ]
  },
  {
   "cell_type": "code",
   "execution_count": 22,
   "metadata": {
    "colab": {
     "base_uri": "https://localhost:8080/"
    },
    "executionInfo": {
     "elapsed": 365,
     "status": "ok",
     "timestamp": 1635356910372,
     "user": {
      "displayName": "Yacine ASLIMI",
      "photoUrl": "https://lh3.googleusercontent.com/a/default-user=s64",
      "userId": "17203730376393528118"
     },
     "user_tz": -120
    },
    "id": "BZgpWmvP3FFb",
    "outputId": "3e8ac4a6-4acf-4829-a2f4-ac2ba6fed5b4"
   },
   "outputs": [
    {
     "name": "stdout",
     "output_type": "stream",
     "text": [
      "6\n"
     ]
    }
   ],
   "source": [
    "print(double_it(3)) #### Si un argument est présent, argument *2"
   ]
  },
  {
   "cell_type": "code",
   "execution_count": 21,
   "metadata": {
    "colab": {
     "base_uri": "https://localhost:8080/"
    },
    "executionInfo": {
     "elapsed": 344,
     "status": "ok",
     "timestamp": 1635356884923,
     "user": {
      "displayName": "Yacine ASLIMI",
      "photoUrl": "https://lh3.googleusercontent.com/a/default-user=s64",
      "userId": "17203730376393528118"
     },
     "user_tz": -120
    },
    "id": "yU8LuHSB4oGt",
    "outputId": "c0828e8d-1639-4a58-c067-08169109472c",
    "run_control": {
     "frozen": false,
     "read_only": false
    }
   },
   "outputs": [
    {
     "name": "stdout",
     "output_type": "stream",
     "text": [
      "2\n"
     ]
    }
   ],
   "source": [
    "print(double_it()) ### Pas d'argument ici => Par défaut, l'argument associé est 1"
   ]
  },
  {
   "cell_type": "code",
   "execution_count": 24,
   "metadata": {
    "executionInfo": {
     "elapsed": 351,
     "status": "ok",
     "timestamp": 1635357025284,
     "user": {
      "displayName": "Yacine ASLIMI",
      "photoUrl": "https://lh3.googleusercontent.com/a/default-user=s64",
      "userId": "17203730376393528118"
     },
     "user_tz": -120
    },
    "id": "jFp7BJJg4oGu",
    "run_control": {
     "frozen": false,
     "read_only": false
    }
   },
   "outputs": [],
   "source": [
    "def addition(int1=1, int2=1, int3=1): #### Par défaut, les argument valent 1\n",
    "    return int1 + 2*int2 + 3*int3"
   ]
  },
  {
   "cell_type": "code",
   "execution_count": 25,
   "metadata": {
    "colab": {
     "base_uri": "https://localhost:8080/"
    },
    "executionInfo": {
     "elapsed": 9,
     "status": "ok",
     "timestamp": 1635357033112,
     "user": {
      "displayName": "Yacine ASLIMI",
      "photoUrl": "https://lh3.googleusercontent.com/a/default-user=s64",
      "userId": "17203730376393528118"
     },
     "user_tz": -120
    },
    "id": "uynBRpLS32lE",
    "outputId": "5382e3be-014d-495d-dd02-51a505c8d6bd"
   },
   "outputs": [
    {
     "name": "stdout",
     "output_type": "stream",
     "text": [
      "6\n"
     ]
    }
   ],
   "source": [
    "print(addition()) #### Par défaut, 6"
   ]
  },
  {
   "cell_type": "code",
   "execution_count": 26,
   "metadata": {
    "colab": {
     "base_uri": "https://localhost:8080/"
    },
    "executionInfo": {
     "elapsed": 365,
     "status": "ok",
     "timestamp": 1635357059140,
     "user": {
      "displayName": "Yacine ASLIMI",
      "photoUrl": "https://lh3.googleusercontent.com/a/default-user=s64",
      "userId": "17203730376393528118"
     },
     "user_tz": -120
    },
    "id": "WpMLCn1p3seY",
    "outputId": "eb7f6509-46d7-4287-8b4f-ed464d4c3f85"
   },
   "outputs": [
    {
     "name": "stdout",
     "output_type": "stream",
     "text": [
      "6\n"
     ]
    }
   ],
   "source": [
    "print(addition(int1=1, int2=1, int3=1))"
   ]
  },
  {
   "cell_type": "code",
   "execution_count": 27,
   "metadata": {
    "colab": {
     "base_uri": "https://localhost:8080/"
    },
    "executionInfo": {
     "elapsed": 487,
     "status": "ok",
     "timestamp": 1635357070778,
     "user": {
      "displayName": "Yacine ASLIMI",
      "photoUrl": "https://lh3.googleusercontent.com/a/default-user=s64",
      "userId": "17203730376393528118"
     },
     "user_tz": -120
    },
    "id": "GBOSxaKw4oGw",
    "outputId": "e294f88f-9b98-48b1-86be-6a1653dfb8b2",
    "run_control": {
     "frozen": false,
     "read_only": false
    }
   },
   "outputs": [
    {
     "name": "stdout",
     "output_type": "stream",
     "text": [
      "26\n"
     ]
    }
   ],
   "source": [
    "print(addition(int1=2, int3=4, int2=6)) # sequence of these named arguments do not matter"
   ]
  },
  {
   "cell_type": "markdown",
   "metadata": {
    "id": "QHeKbRnL4oGy"
   },
   "source": [
    "<div class=\"alert alert-danger\">\n",
    "    <b>NOTE</b>: <br><br>\n",
    "    Default values are evaluated when the function is defined, not when it is called. This can be problematic when using mutable types (e.g. dictionary or list) and modifying them in the function body, since the modifications will be persistent across invocations of the function.\n",
    "\n",
    "Using an immutable type in a keyword argument:\n",
    "</div>"
   ]
  },
  {
   "cell_type": "code",
   "execution_count": 33,
   "metadata": {
    "executionInfo": {
     "elapsed": 436,
     "status": "ok",
     "timestamp": 1635357327179,
     "user": {
      "displayName": "Yacine ASLIMI",
      "photoUrl": "https://lh3.googleusercontent.com/a/default-user=s64",
      "userId": "17203730376393528118"
     },
     "user_tz": -120
    },
    "id": "edwLctTj4oGz",
    "run_control": {
     "frozen": false,
     "read_only": false
    }
   },
   "outputs": [],
   "source": [
    "bigx = 10\n",
    "def double_it(x=bigx):\n",
    "    return x * 2"
   ]
  },
  {
   "cell_type": "code",
   "execution_count": 34,
   "metadata": {
    "colab": {
     "base_uri": "https://localhost:8080/"
    },
    "executionInfo": {
     "elapsed": 11,
     "status": "ok",
     "timestamp": 1635357327581,
     "user": {
      "displayName": "Yacine ASLIMI",
      "photoUrl": "https://lh3.googleusercontent.com/a/default-user=s64",
      "userId": "17203730376393528118"
     },
     "user_tz": -120
    },
    "id": "KIh7Jisk4hRh",
    "outputId": "06df540d-ce30-4052-bb63-2a55d9b6fbe9"
   },
   "outputs": [
    {
     "data": {
      "text/plain": [
       "20"
      ]
     },
     "execution_count": 34,
     "metadata": {},
     "output_type": "execute_result"
    }
   ],
   "source": [
    "double_it()"
   ]
  },
  {
   "cell_type": "code",
   "execution_count": 35,
   "metadata": {
    "colab": {
     "base_uri": "https://localhost:8080/"
    },
    "executionInfo": {
     "elapsed": 9,
     "status": "ok",
     "timestamp": 1635357328483,
     "user": {
      "displayName": "Yacine ASLIMI",
      "photoUrl": "https://lh3.googleusercontent.com/a/default-user=s64",
      "userId": "17203730376393528118"
     },
     "user_tz": -120
    },
    "id": "VklbBwbX4kyh",
    "outputId": "d770837e-3c35-433e-a1d9-ed8884b4dcc3"
   },
   "outputs": [
    {
     "name": "stdout",
     "output_type": "stream",
     "text": [
      "Variable                     Type        Data/Info\n",
      "--------------------------------------------------\n",
      "a                            int         3\n",
      "addition                     function    <function addition at 0x7f5df44f8710>\n",
      "b                            int         6\n",
      "bigx                         int         10\n",
      "calcAreaSquare               function    <function calcAreaSquare at 0x7f5df455dcb0>\n",
      "double_it                    function    <function double_it at 0x7f5df45243b0>\n",
      "the_answer_to_the_universe   function    <function the_answer_to_t<...>iverse at 0x7f5df453ce60>\n"
     ]
    }
   ],
   "source": [
    "%whos"
   ]
  },
  {
   "cell_type": "code",
   "execution_count": 36,
   "metadata": {
    "colab": {
     "base_uri": "https://localhost:8080/"
    },
    "executionInfo": {
     "elapsed": 360,
     "status": "ok",
     "timestamp": 1635357334711,
     "user": {
      "displayName": "Yacine ASLIMI",
      "photoUrl": "https://lh3.googleusercontent.com/a/default-user=s64",
      "userId": "17203730376393528118"
     },
     "user_tz": -120
    },
    "id": "S5ErhKMn4cV4",
    "outputId": "4409ec1c-a5a7-49d2-878f-52e970ba0b17"
   },
   "outputs": [
    {
     "data": {
      "text/plain": [
       "20"
      ]
     },
     "execution_count": 36,
     "metadata": {},
     "output_type": "execute_result"
    }
   ],
   "source": [
    "bigx = 1e9\n",
    "double_it()"
   ]
  },
  {
   "cell_type": "code",
   "execution_count": 37,
   "metadata": {
    "colab": {
     "base_uri": "https://localhost:8080/"
    },
    "executionInfo": {
     "elapsed": 380,
     "status": "ok",
     "timestamp": 1635357337477,
     "user": {
      "displayName": "Yacine ASLIMI",
      "photoUrl": "https://lh3.googleusercontent.com/a/default-user=s64",
      "userId": "17203730376393528118"
     },
     "user_tz": -120
    },
    "id": "jV8I7WG04ro7",
    "outputId": "37a979fd-28d8-4b14-9edf-a12de7ddcd89"
   },
   "outputs": [
    {
     "name": "stdout",
     "output_type": "stream",
     "text": [
      "Variable                     Type        Data/Info\n",
      "--------------------------------------------------\n",
      "a                            int         3\n",
      "addition                     function    <function addition at 0x7f5df44f8710>\n",
      "b                            int         6\n",
      "bigx                         float       1000000000.0\n",
      "calcAreaSquare               function    <function calcAreaSquare at 0x7f5df455dcb0>\n",
      "double_it                    function    <function double_it at 0x7f5df45243b0>\n",
      "the_answer_to_the_universe   function    <function the_answer_to_t<...>iverse at 0x7f5df453ce60>\n"
     ]
    }
   ],
   "source": [
    "%whos"
   ]
  },
  {
   "cell_type": "code",
   "execution_count": 38,
   "metadata": {
    "colab": {
     "base_uri": "https://localhost:8080/"
    },
    "executionInfo": {
     "elapsed": 366,
     "status": "ok",
     "timestamp": 1635357358920,
     "user": {
      "displayName": "Yacine ASLIMI",
      "photoUrl": "https://lh3.googleusercontent.com/a/default-user=s64",
      "userId": "17203730376393528118"
     },
     "user_tz": -120
    },
    "id": "uJfgPbB15N0m",
    "outputId": "f032770b-9b75-4af5-f289-65061d0233e7"
   },
   "outputs": [
    {
     "data": {
      "text/plain": [
       "20"
      ]
     },
     "execution_count": 38,
     "metadata": {},
     "output_type": "execute_result"
    }
   ],
   "source": [
    "double_it()"
   ]
  },
  {
   "cell_type": "markdown",
   "metadata": {
    "id": "3WIj0Jmr4oG0"
   },
   "source": [
    "Using an mutable type in a keyword argument (and modifying it inside the function body)"
   ]
  },
  {
   "cell_type": "code",
   "execution_count": 57,
   "metadata": {
    "executionInfo": {
     "elapsed": 380,
     "status": "ok",
     "timestamp": 1635357709191,
     "user": {
      "displayName": "Yacine ASLIMI",
      "photoUrl": "https://lh3.googleusercontent.com/a/default-user=s64",
      "userId": "17203730376393528118"
     },
     "user_tz": -120
    },
    "id": "WdzgaIlw4oG1",
    "run_control": {
     "frozen": false,
     "read_only": false
    }
   },
   "outputs": [],
   "source": [
    "def add_to_dict(args={'a': 0, 'b': 0}):\n",
    "    for i in args.keys(): #### POur chaque clé\n",
    "        args[i] = args[i] + 1 #### valeur de la clé s'incrément de 1\n",
    "    print(args)"
   ]
  },
  {
   "cell_type": "code",
   "execution_count": 60,
   "metadata": {
    "colab": {
     "base_uri": "https://localhost:8080/"
    },
    "executionInfo": {
     "elapsed": 369,
     "status": "ok",
     "timestamp": 1635357722158,
     "user": {
      "displayName": "Yacine ASLIMI",
      "photoUrl": "https://lh3.googleusercontent.com/a/default-user=s64",
      "userId": "17203730376393528118"
     },
     "user_tz": -120
    },
    "id": "ITl2VI2Y5um2",
    "outputId": "ab1b0bef-668a-4683-d23f-deeb977773dc"
   },
   "outputs": [
    {
     "name": "stdout",
     "output_type": "stream",
     "text": [
      "{'a': 3, 'b': 3}\n"
     ]
    }
   ],
   "source": [
    "add_to_dict()"
   ]
  },
  {
   "cell_type": "code",
   "execution_count": 49,
   "metadata": {
    "colab": {
     "base_uri": "https://localhost:8080/"
    },
    "executionInfo": {
     "elapsed": 393,
     "status": "ok",
     "timestamp": 1635357591612,
     "user": {
      "displayName": "Yacine ASLIMI",
      "photoUrl": "https://lh3.googleusercontent.com/a/default-user=s64",
      "userId": "17203730376393528118"
     },
     "user_tz": -120
    },
    "id": "H4i24sPt6HR2",
    "outputId": "bd3d8c33-d951-463c-9fe4-f9789d231bf8"
   },
   "outputs": [
    {
     "name": "stdout",
     "output_type": "stream",
     "text": [
      "Variable                     Type        Data/Info\n",
      "--------------------------------------------------\n",
      "a                            int         3\n",
      "add_to_dict                  function    <function add_to_dict at 0x7f5df4529320>\n",
      "addition                     function    <function addition at 0x7f5df44f8710>\n",
      "b                            int         6\n",
      "bigx                         float       1000000000.0\n",
      "calcAreaSquare               function    <function calcAreaSquare at 0x7f5df455dcb0>\n",
      "double_it                    function    <function double_it at 0x7f5df45243b0>\n",
      "the_answer_to_the_universe   function    <function the_answer_to_t<...>iverse at 0x7f5df453ce60>\n"
     ]
    }
   ],
   "source": [
    "%whos"
   ]
  },
  {
   "cell_type": "code",
   "execution_count": null,
   "metadata": {
    "id": "44LApA6k4oG3",
    "run_control": {
     "frozen": false,
     "read_only": false
    }
   },
   "outputs": [],
   "source": [
    "add_to_dict\n",
    "add_to_dict()\n",
    "add_to_dict()\n",
    "add_to_dict()"
   ]
  },
  {
   "cell_type": "code",
   "execution_count": null,
   "metadata": {
    "id": "dfOVjPqs4oG7",
    "run_control": {
     "frozen": false,
     "read_only": false
    }
   },
   "outputs": [],
   "source": [
    "#the {'a': 1, 'b': 2} was created in the memory on the moment that the definition was evaluated"
   ]
  },
  {
   "cell_type": "code",
   "execution_count": null,
   "metadata": {
    "id": "kSRtztU44oG8",
    "run_control": {
     "frozen": false,
     "read_only": false
    }
   },
   "outputs": [],
   "source": [
    "def add_to_dict(args=None):\n",
    "    if not args:\n",
    "        args = {'a': 1, 'b': 2}\n",
    "        \n",
    "    for i in args.keys():\n",
    "        args[i] += 1\n",
    "        \n",
    "    print(args)"
   ]
  },
  {
   "cell_type": "code",
   "execution_count": null,
   "metadata": {
    "id": "qUMfvO3b4oG9",
    "run_control": {
     "frozen": false,
     "read_only": false
    }
   },
   "outputs": [],
   "source": [
    "add_to_dict\n",
    "add_to_dict()\n",
    "add_to_dict()"
   ]
  },
  {
   "cell_type": "markdown",
   "metadata": {
    "id": "1qFKUpei4oG-"
   },
   "source": [
    "### Variable number of parameters"
   ]
  },
  {
   "cell_type": "markdown",
   "metadata": {
    "id": "c50eJzc94oHA"
   },
   "source": [
    "\n",
    "Special forms of parameters:\n",
    "\n",
    "* *args: any number of positional arguments packed into a tuple\n",
    "* **kwargs: any number of keyword arguments packed into a dictionary\n",
    "\n"
   ]
  },
  {
   "cell_type": "code",
   "execution_count": null,
   "metadata": {
    "id": "H67nSh5b4oHD",
    "run_control": {
     "frozen": false,
     "read_only": false
    }
   },
   "outputs": [],
   "source": [
    "def variable_args(*args, **kwargs):\n",
    "    print('args is', args)\n",
    "    print('kwargs is', kwargs)\n",
    "\n",
    "variable_args('one', 'two', x=1, y=2, z=3)"
   ]
  },
  {
   "cell_type": "markdown",
   "metadata": {
    "id": "Vlh-GN9m4oHF"
   },
   "source": [
    "### Docstrings"
   ]
  },
  {
   "cell_type": "markdown",
   "metadata": {
    "id": "lwhk254Z4oHG"
   },
   "source": [
    "Documentation about what the function does and its parameters. General convention:"
   ]
  },
  {
   "cell_type": "code",
   "execution_count": null,
   "metadata": {
    "id": "8hPS9ww34oHH",
    "run_control": {
     "frozen": false,
     "read_only": false
    }
   },
   "outputs": [],
   "source": [
    "def funcname(params):\n",
    "    \"\"\"Concise one-line sentence describing the function.\n",
    "    \n",
    "    Extended summary which can contain multiple paragraphs.\n",
    "    \"\"\"\n",
    "    # function body\n",
    "    pass\n",
    "\n",
    "funcname?"
   ]
  },
  {
   "cell_type": "markdown",
   "metadata": {
    "id": "wkFhNHUW4oHI"
   },
   "source": [
    "### Functions are objects"
   ]
  },
  {
   "cell_type": "markdown",
   "metadata": {
    "id": "ax055Tc44oHI"
   },
   "source": [
    "\n",
    "Functions are first-class objects, which means they can be:\n",
    "\n",
    "* assigned to a variable\n",
    "* an item in a list (or any collection)\n",
    "* passed as an argument to another function.\n",
    "\n"
   ]
  },
  {
   "cell_type": "code",
   "execution_count": null,
   "metadata": {
    "id": "2vOfOyNz4oHJ",
    "run_control": {
     "frozen": false,
     "read_only": false
    }
   },
   "outputs": [],
   "source": [
    "va = variable_args\n",
    "va('three', x=1, y=2)"
   ]
  },
  {
   "cell_type": "markdown",
   "metadata": {
    "id": "QCCEWRhe4oHL"
   },
   "source": [
    "### Methods"
   ]
  },
  {
   "cell_type": "markdown",
   "metadata": {
    "id": "2_VsXtDw4oHN"
   },
   "source": [
    "Methods are functions attached to objects. You’ve seen these in our examples on lists, dictionaries, strings, etc...\n",
    "\n",
    "Calling them can be done by dir(object):"
   ]
  },
  {
   "cell_type": "markdown",
   "metadata": {
    "id": "NnFw5ZZa4oHP"
   },
   "source": [
    "-------------------------------"
   ]
  },
  {
   "cell_type": "code",
   "execution_count": null,
   "metadata": {
    "id": "sMCFkGRc4oHQ",
    "run_control": {
     "frozen": false,
     "read_only": false
    }
   },
   "outputs": [],
   "source": [
    "dd = {'antea': 3, 'IMDC': 2, 'arcadis': 4, 'witteveen': 5, 'grontmij': 1}"
   ]
  },
  {
   "cell_type": "markdown",
   "metadata": {
    "id": "oZeeli-A4oHQ"
   },
   "source": [
    "<div class=\"alert alert-success\">\n",
    "    <b>EXERCISE</b>: Make a function of the exercise in the previous notebook: Given the dictionary `dd`, check if a key is already existing in the dictionary and raise an exception if the key already exist. Otherwise, return the dict with the element added.\n",
    "</div>"
   ]
  },
  {
   "cell_type": "code",
   "execution_count": null,
   "metadata": {
    "id": "rNMoL9Lb4oHR"
   },
   "outputs": [],
   "source": []
  },
  {
   "cell_type": "code",
   "execution_count": null,
   "metadata": {
    "id": "JuZG9u2h4oHR",
    "run_control": {
     "frozen": false,
     "read_only": false
    }
   },
   "outputs": [],
   "source": [
    "check_for_key(dd, 'deme')"
   ]
  },
  {
   "cell_type": "code",
   "execution_count": null,
   "metadata": {
    "id": "DqK17HjH4oHS",
    "run_control": {
     "frozen": false,
     "read_only": false
    }
   },
   "outputs": [],
   "source": [
    "#check_for_key(dd, 'antea') # uncomment this line"
   ]
  },
  {
   "cell_type": "markdown",
   "metadata": {
    "id": "eiUFFYWb4oHS"
   },
   "source": [
    "-----------------------------"
   ]
  },
  {
   "cell_type": "markdown",
   "metadata": {
    "collapsed": true,
    "id": "3eD-aCmK4oHT"
   },
   "source": [
    "## Object oriented Programming"
   ]
  },
  {
   "cell_type": "markdown",
   "metadata": {
    "id": "WYYc8OwL4oHU"
   },
   "source": [
    "Wondering what OO is? A very nice introduction is given here: http://py.processing.org/tutorials/objects/"
   ]
  },
  {
   "cell_type": "markdown",
   "metadata": {
    "collapsed": true,
    "id": "K9m9dUPI4oHV"
   },
   "source": [
    "Python supports object-oriented programming (OOP). The goals of OOP are:\n",
    "\n",
    "* to organize the code, and\n",
    "* to re-use code in similar contexts.\n",
    "\n"
   ]
  },
  {
   "cell_type": "markdown",
   "metadata": {
    "id": "6_eeAQhV4oHW"
   },
   "source": [
    "Here is a small example: we create a Student class, which is an object gathering several custom functions (**methods**) and variables (**attributes**), we will be able to use:"
   ]
  },
  {
   "cell_type": "code",
   "execution_count": null,
   "metadata": {
    "id": "KJ5W4YiE4oHW",
    "run_control": {
     "frozen": false,
     "read_only": false
    }
   },
   "outputs": [],
   "source": [
    "class Employee():  #object\n",
    "    \n",
    "    def __init__(self, name, wage=60.):\n",
    "        \"\"\"\n",
    "        Employee class to save the amount of hours worked and related earnings\n",
    "        \"\"\"\n",
    "        self.name = name\n",
    "        self.wage = wage\n",
    "        \n",
    "        self.hours = 0.        \n",
    "        \n",
    "    def worked(self, hours):\n",
    "        \"\"\"add worked hours on a project\n",
    "        \"\"\"\n",
    "        try:\n",
    "            hours = float(hours)\n",
    "        except:\n",
    "            raise Exception(\"Hours not convertable to float!\")\n",
    "            \n",
    "        self.hours += hours\n",
    "        \n",
    "    def calc_earnings(self):\n",
    "        \"\"\"\n",
    "        Calculate earnings\n",
    "        \"\"\"\n",
    "        return self.hours *self.wage"
   ]
  },
  {
   "cell_type": "code",
   "execution_count": null,
   "metadata": {
    "id": "EJnpFjid4oHY",
    "run_control": {
     "frozen": false,
     "read_only": false
    }
   },
   "outputs": [],
   "source": [
    "bert = Employee('bert')"
   ]
  },
  {
   "cell_type": "code",
   "execution_count": null,
   "metadata": {
    "id": "s0ulMcuA4oHZ",
    "run_control": {
     "frozen": false,
     "read_only": false
    }
   },
   "outputs": [],
   "source": [
    "bert.worked(10.)\n",
    "bert.worked(20.)\n",
    "bert.wage = 80."
   ]
  },
  {
   "cell_type": "code",
   "execution_count": null,
   "metadata": {
    "id": "WtPZ5-ms4oHa",
    "run_control": {
     "frozen": false,
     "read_only": false
    }
   },
   "outputs": [],
   "source": [
    "bert.calc_earnings()"
   ]
  },
  {
   "cell_type": "code",
   "execution_count": null,
   "metadata": {
    "id": "irqemtKu4oHb",
    "run_control": {
     "frozen": false,
     "read_only": false
    }
   },
   "outputs": [],
   "source": [
    "dir(Employee)"
   ]
  },
  {
   "cell_type": "markdown",
   "metadata": {
    "id": "RDl0Y60h4oHd"
   },
   "source": [
    "It is just the same al all the other objects we worked with!"
   ]
  },
  {
   "cell_type": "markdown",
   "metadata": {
    "id": "WCTGnVR14oHd"
   },
   "source": [
    "---------------------------------------"
   ]
  },
  {
   "cell_type": "markdown",
   "metadata": {
    "id": "AJDS7asl4oHe"
   },
   "source": [
    "<div class=\"alert alert-success\">\n",
    "    <b>EXERCISE</b>: Extend the class `Employee` with a projects attribute, which is a dictionary. Projects can be added by the method `new_project`. Hours are contributed to a specific project\n",
    "</div>"
   ]
  },
  {
   "cell_type": "code",
   "execution_count": null,
   "metadata": {
    "id": "_4GiXTPl4oHf"
   },
   "outputs": [],
   "source": []
  },
  {
   "cell_type": "code",
   "execution_count": null,
   "metadata": {
    "id": "WhiSM6yu4oHf",
    "run_control": {
     "frozen": false,
     "read_only": false
    }
   },
   "outputs": [],
   "source": [
    "bert = Employee('bert')\n",
    "bert.new_project('vmm')"
   ]
  },
  {
   "cell_type": "code",
   "execution_count": null,
   "metadata": {
    "id": "BWpBlnOA4oHg",
    "run_control": {
     "frozen": false,
     "read_only": false
    }
   },
   "outputs": [],
   "source": [
    "bert.worked(10., 'vmm')"
   ]
  },
  {
   "cell_type": "code",
   "execution_count": null,
   "metadata": {
    "id": "3i3hVCuN4oHh",
    "run_control": {
     "frozen": false,
     "read_only": false
    }
   },
   "outputs": [],
   "source": [
    "bert.calc_earnings()"
   ]
  },
  {
   "cell_type": "code",
   "execution_count": null,
   "metadata": {
    "id": "T0MRvxdn4oHi",
    "run_control": {
     "frozen": false,
     "read_only": false
    }
   },
   "outputs": [],
   "source": [
    "bert.new_project('pwc')"
   ]
  },
  {
   "cell_type": "code",
   "execution_count": null,
   "metadata": {
    "id": "NbMuZ5UG4oHj",
    "run_control": {
     "frozen": false,
     "read_only": false
    }
   },
   "outputs": [],
   "source": [
    "bert.info()"
   ]
  },
  {
   "cell_type": "code",
   "execution_count": null,
   "metadata": {
    "id": "naFJ9G2b4oHk",
    "run_control": {
     "frozen": false,
     "read_only": false
    }
   },
   "outputs": [],
   "source": [
    "bert.worked(3., 'pwc')"
   ]
  },
  {
   "cell_type": "markdown",
   "metadata": {
    "collapsed": true,
    "id": "gzKwrDhp4oHl"
   },
   "source": [
    "---------------------------------------"
   ]
  }
 ],
 "metadata": {
  "celltoolbar": "Nbtutor - export exercises",
  "colab": {
   "name": "03-functions-Enoncé (3).ipynb",
   "provenance": []
  },
  "kernelspec": {
   "display_name": "Python 3",
   "language": "python",
   "name": "python3"
  },
  "language_info": {
   "codemirror_mode": {
    "name": "ipython",
    "version": 3
   },
   "file_extension": ".py",
   "mimetype": "text/x-python",
   "name": "python",
   "nbconvert_exporter": "python",
   "pygments_lexer": "ipython3",
   "version": "3.8.8"
  },
  "nav_menu": {},
  "toc": {
   "navigate_menu": true,
   "number_sections": true,
   "sideBar": true,
   "threshold": 6,
   "toc_cell": false,
   "toc_section_display": "block",
   "toc_window_display": false
  }
 },
 "nbformat": 4,
 "nbformat_minor": 1
}
