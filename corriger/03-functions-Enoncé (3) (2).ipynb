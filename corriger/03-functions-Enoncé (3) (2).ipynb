{
 "cells": [
  {
   "cell_type": "markdown",
   "metadata": {
    "id": "OhMBE7P44oF_"
   },
   "source": [
    "# Python the basics: functions\n",
    "\n",
    "> *DS Data manipulation, analysis and visualisation in Python*  \n",
    "> *September, 2020*\n"
   ]
  },
  {
   "cell_type": "markdown",
   "metadata": {
    "id": "6x3rRKU34oGM"
   },
   "source": [
    "## Functions"
   ]
  },
  {
   "cell_type": "markdown",
   "metadata": {
    "id": "zBMldMON4oGO"
   },
   "source": [
    "### Function definition"
   ]
  },
  {
   "cell_type": "markdown",
   "metadata": {
    "id": "coHRg8yW4oGP"
   },
   "source": [
    "Function blocks must be indented as other control-flow blocks"
   ]
  },
  {
   "cell_type": "code",
   "execution_count": 1,
   "metadata": {
    "id": "CFMzUCcJ0dhG"
   },
   "outputs": [],
   "source": [
    "a = 3\n",
    "b = 6"
   ]
  },
  {
   "cell_type": "code",
   "execution_count": 2,
   "metadata": {
    "colab": {
     "base_uri": "https://localhost:8080/"
    },
    "executionInfo": {
     "elapsed": 375,
     "status": "ok",
     "timestamp": 1635356138979,
     "user": {
      "displayName": "Yacine ASLIMI",
      "photoUrl": "https://lh3.googleusercontent.com/a/default-user=s64",
      "userId": "17203730376393528118"
     },
     "user_tz": -120
    },
    "id": "rmLtVQAi0jF-",
    "outputId": "0c1e9398-d605-40eb-ddbc-3d4090349530"
   },
   "outputs": [
    {
     "data": {
      "text/plain": [
       "9"
      ]
     },
     "execution_count": 2,
     "metadata": {},
     "output_type": "execute_result"
    }
   ],
   "source": [
    "a + b"
   ]
  },
  {
   "cell_type": "code",
   "execution_count": 3,
   "metadata": {
    "id": "h7ZHzfQX0sV3"
   },
   "outputs": [],
   "source": [
    "#### CRéation de la fonction\n",
    "def addition(a, b): ### Définir une fonction avec 2 arguments (a et b)\n",
    "  print(a+b) #### Afficher en sortie la somme des 2"
   ]
  },
  {
   "cell_type": "code",
   "execution_count": 4,
   "metadata": {
    "colab": {
     "base_uri": "https://localhost:8080/"
    },
    "executionInfo": {
     "elapsed": 666,
     "status": "ok",
     "timestamp": 1636108909181,
     "user": {
      "displayName": "Yacine ASLIMI",
      "photoUrl": "https://lh3.googleusercontent.com/a/default-user=s64",
      "userId": "17203730376393528118"
     },
     "user_tz": -60
    },
    "id": "cPnUeInt1Kat",
    "outputId": "966355ac-534a-4cba-bd93-08aef550fc87"
   },
   "outputs": [
    {
     "name": "stdout",
     "output_type": "stream",
     "text": [
      "9\n"
     ]
    }
   ],
   "source": [
    "#### Appel de la fonction\n",
    "addition(3, 6)"
   ]
  },
  {
   "cell_type": "code",
   "execution_count": 5,
   "metadata": {
    "colab": {
     "base_uri": "https://localhost:8080/"
    },
    "executionInfo": {
     "elapsed": 303,
     "status": "ok",
     "timestamp": 1636109025432,
     "user": {
      "displayName": "Yacine ASLIMI",
      "photoUrl": "https://lh3.googleusercontent.com/a/default-user=s64",
      "userId": "17203730376393528118"
     },
     "user_tz": -60
    },
    "id": "GGqtmpzi1bUO",
    "outputId": "24f2742d-4103-488e-e23b-4c9d3cb31386"
   },
   "outputs": [
    {
     "name": "stdout",
     "output_type": "stream",
     "text": [
      "15\n"
     ]
    }
   ],
   "source": [
    "#### Appel de la fonction\n",
    "addition(6, 9)"
   ]
  },
  {
   "cell_type": "code",
   "execution_count": 6,
   "metadata": {
    "colab": {
     "base_uri": "https://localhost:8080/"
    },
    "executionInfo": {
     "elapsed": 562,
     "status": "ok",
     "timestamp": 1636109027296,
     "user": {
      "displayName": "Yacine ASLIMI",
      "photoUrl": "https://lh3.googleusercontent.com/a/default-user=s64",
      "userId": "17203730376393528118"
     },
     "user_tz": -60
    },
    "id": "-HGxueVU1gtY",
    "outputId": "ee55a374-3579-4f24-a3a4-fc1e865a9316"
   },
   "outputs": [
    {
     "name": "stdout",
     "output_type": "stream",
     "text": [
      "94\n"
     ]
    }
   ],
   "source": [
    "#### Appel de la fonction\n",
    "addition(88, 6)"
   ]
  },
  {
   "cell_type": "code",
   "execution_count": 7,
   "metadata": {
    "colab": {
     "base_uri": "https://localhost:8080/"
    },
    "executionInfo": {
     "elapsed": 324,
     "status": "ok",
     "timestamp": 1636109029712,
     "user": {
      "displayName": "Yacine ASLIMI",
      "photoUrl": "https://lh3.googleusercontent.com/a/default-user=s64",
      "userId": "17203730376393528118"
     },
     "user_tz": -60
    },
    "id": "QvpKJwlx1ppr",
    "outputId": "89f2709d-c8b5-442e-bdcd-a290d4469a83"
   },
   "outputs": [
    {
     "name": "stdout",
     "output_type": "stream",
     "text": [
      "Variable   Type        Data/Info\n",
      "--------------------------------\n",
      "a          int         3\n",
      "addition   function    <function addition at 0x000002C46058B160>\n",
      "b          int         6\n"
     ]
    }
   ],
   "source": [
    "%whos"
   ]
  },
  {
   "cell_type": "code",
   "execution_count": 8,
   "metadata": {
    "id": "rr34ghy64oGQ",
    "run_control": {
     "frozen": false,
     "read_only": false
    }
   },
   "outputs": [],
   "source": [
    "def the_answer_to_the_universe(): #### Fonction sans argument\n",
    "    print(42)"
   ]
  },
  {
   "cell_type": "code",
   "execution_count": 9,
   "metadata": {
    "colab": {
     "base_uri": "https://localhost:8080/"
    },
    "executionInfo": {
     "elapsed": 432,
     "status": "ok",
     "timestamp": 1636109056689,
     "user": {
      "displayName": "Yacine ASLIMI",
      "photoUrl": "https://lh3.googleusercontent.com/a/default-user=s64",
      "userId": "17203730376393528118"
     },
     "user_tz": -60
    },
    "id": "xrBZsZ-p117a",
    "outputId": "5742dd11-a4df-4c4f-b958-1a1b08d8d791"
   },
   "outputs": [
    {
     "name": "stdout",
     "output_type": "stream",
     "text": [
      "42\n"
     ]
    }
   ],
   "source": [
    "the_answer_to_the_universe() #### Affiche la sortie"
   ]
  },
  {
   "cell_type": "markdown",
   "metadata": {
    "id": "0lVd_y9u4oGU"
   },
   "source": [
    "**Note**: the syntax to define a function:\n",
    "\n",
    "* the def keyword;\n",
    "* is followed by the function’s name, then\n",
    "* the arguments of the function are given between parentheses followed by a colon.\n",
    "* the function body;\n",
    "* and return object for optionally returning values.\n"
   ]
  },
  {
   "cell_type": "markdown",
   "metadata": {
    "id": "LpJoZqme4oGY"
   },
   "source": [
    "### Return statement"
   ]
  },
  {
   "cell_type": "markdown",
   "metadata": {
    "id": "_OvFdUu24oGZ"
   },
   "source": [
    "Functions can *optionally* return values"
   ]
  },
  {
   "cell_type": "code",
   "execution_count": 10,
   "metadata": {
    "id": "y4T2Kc174oGd",
    "run_control": {
     "frozen": false,
     "read_only": false
    }
   },
   "outputs": [],
   "source": [
    "def calcAreaSquare(edge): #### Définition de l'air d'un carré\n",
    "    return edge**2 #### Aire du carré"
   ]
  },
  {
   "cell_type": "code",
   "execution_count": 11,
   "metadata": {
    "colab": {
     "base_uri": "https://localhost:8080/"
    },
    "executionInfo": {
     "elapsed": 337,
     "status": "ok",
     "timestamp": 1636109125920,
     "user": {
      "displayName": "Yacine ASLIMI",
      "photoUrl": "https://lh3.googleusercontent.com/a/default-user=s64",
      "userId": "17203730376393528118"
     },
     "user_tz": -60
    },
    "id": "94nXhbeT2M0q",
    "outputId": "6377ecf5-265b-4936-f3f0-b46708393745"
   },
   "outputs": [
    {
     "data": {
      "text/plain": [
       "5.289999999999999"
      ]
     },
     "execution_count": 11,
     "metadata": {},
     "output_type": "execute_result"
    }
   ],
   "source": [
    "calcAreaSquare(2.3) #### Appel de la fonction: coté 2,3"
   ]
  },
  {
   "cell_type": "markdown",
   "metadata": {
    "id": "RBMqxYdI4oGf"
   },
   "source": [
    "### Parameters"
   ]
  },
  {
   "cell_type": "markdown",
   "metadata": {
    "id": "EwM8JsIj4oGg"
   },
   "source": [
    "Mandatory parameters (positional arguments)"
   ]
  },
  {
   "cell_type": "code",
   "execution_count": 12,
   "metadata": {
    "id": "K_QVntPK4oGh",
    "run_control": {
     "frozen": false,
     "read_only": false
    }
   },
   "outputs": [],
   "source": [
    "def double_it(x): ### Argument :affcher x et x est obligatoire\n",
    "    return 2*x"
   ]
  },
  {
   "cell_type": "code",
   "execution_count": 13,
   "metadata": {
    "colab": {
     "base_uri": "https://localhost:8080/"
    },
    "executionInfo": {
     "elapsed": 301,
     "status": "ok",
     "timestamp": 1636109161476,
     "user": {
      "displayName": "Yacine ASLIMI",
      "photoUrl": "https://lh3.googleusercontent.com/a/default-user=s64",
      "userId": "17203730376393528118"
     },
     "user_tz": -60
    },
    "id": "G8_eJxtJ2vDD",
    "outputId": "5c786e17-f6a1-4497-fe5c-0898c2d489d0"
   },
   "outputs": [
    {
     "data": {
      "text/plain": [
       "6"
      ]
     },
     "execution_count": 13,
     "metadata": {},
     "output_type": "execute_result"
    }
   ],
   "source": [
    "double_it(3)"
   ]
  },
  {
   "cell_type": "code",
   "execution_count": 14,
   "metadata": {
    "colab": {
     "base_uri": "https://localhost:8080/",
     "height": 162
    },
    "executionInfo": {
     "elapsed": 300,
     "status": "error",
     "timestamp": 1636109177739,
     "user": {
      "displayName": "Yacine ASLIMI",
      "photoUrl": "https://lh3.googleusercontent.com/a/default-user=s64",
      "userId": "17203730376393528118"
     },
     "user_tz": -60
    },
    "id": "fvE83H1Y4oGn",
    "outputId": "c1bb0d74-aa37-4f45-f932-e914a51b6ef6",
    "run_control": {
     "frozen": false,
     "read_only": false
    }
   },
   "outputs": [
    {
     "ename": "TypeError",
     "evalue": "double_it() missing 1 required positional argument: 'x'",
     "output_type": "error",
     "traceback": [
      "\u001b[1;31m---------------------------------------------------------------------------\u001b[0m",
      "\u001b[1;31mTypeError\u001b[0m                                 Traceback (most recent call last)",
      "\u001b[1;32m<ipython-input-14-7e40baa67e25>\u001b[0m in \u001b[0;36m<module>\u001b[1;34m\u001b[0m\n\u001b[1;32m----> 1\u001b[1;33m \u001b[0mdouble_it\u001b[0m\u001b[1;33m(\u001b[0m\u001b[1;33m)\u001b[0m\u001b[1;33m\u001b[0m\u001b[1;33m\u001b[0m\u001b[0m\n\u001b[0m",
      "\u001b[1;31mTypeError\u001b[0m: double_it() missing 1 required positional argument: 'x'"
     ]
    }
   ],
   "source": [
    "double_it()"
   ]
  },
  {
   "cell_type": "markdown",
   "metadata": {
    "id": "VhC_37oB4oGq"
   },
   "source": [
    "Optional parameters (keyword or named arguments)\n",
    "\n",
    "The order of the keyword arguments does not matter, but it is good practice to use the same ordering as the function's definition\n",
    "\n",
    "*Keyword arguments* are a very convenient feature for defining functions with a variable number of arguments, especially when default values are to be used in most calls to the function."
   ]
  },
  {
   "cell_type": "code",
   "execution_count": 15,
   "metadata": {
    "id": "Ia8OJ87o4oGs",
    "run_control": {
     "frozen": false,
     "read_only": false
    }
   },
   "outputs": [],
   "source": [
    "def double_it (x=1): ### Par défaut, la valeur de l'argument x vaudra 1\n",
    "    return 2*x"
   ]
  },
  {
   "cell_type": "code",
   "execution_count": 17,
   "metadata": {
    "colab": {
     "base_uri": "https://localhost:8080/"
    },
    "executionInfo": {
     "elapsed": 310,
     "status": "ok",
     "timestamp": 1636109266682,
     "user": {
      "displayName": "Yacine ASLIMI",
      "photoUrl": "https://lh3.googleusercontent.com/a/default-user=s64",
      "userId": "17203730376393528118"
     },
     "user_tz": -60
    },
    "id": "BZgpWmvP3FFb",
    "outputId": "90346a36-e6f3-474e-944d-838ea74eae59"
   },
   "outputs": [
    {
     "name": "stdout",
     "output_type": "stream",
     "text": [
      "6\n"
     ]
    }
   ],
   "source": [
    "print(double_it(3)) #### Si un argument est présent, argument *2"
   ]
  },
  {
   "cell_type": "code",
   "execution_count": 18,
   "metadata": {
    "colab": {
     "base_uri": "https://localhost:8080/"
    },
    "executionInfo": {
     "elapsed": 352,
     "status": "ok",
     "timestamp": 1636109252815,
     "user": {
      "displayName": "Yacine ASLIMI",
      "photoUrl": "https://lh3.googleusercontent.com/a/default-user=s64",
      "userId": "17203730376393528118"
     },
     "user_tz": -60
    },
    "id": "yU8LuHSB4oGt",
    "outputId": "acf7d70a-85b5-4859-d713-cbc2f368ceff",
    "run_control": {
     "frozen": false,
     "read_only": false
    }
   },
   "outputs": [
    {
     "name": "stdout",
     "output_type": "stream",
     "text": [
      "2\n"
     ]
    }
   ],
   "source": [
    "print(double_it()) ### Pas d'argument ici => Par défaut, l'argument associé est 1"
   ]
  },
  {
   "cell_type": "code",
   "execution_count": 19,
   "metadata": {
    "id": "jFp7BJJg4oGu",
    "run_control": {
     "frozen": false,
     "read_only": false
    }
   },
   "outputs": [],
   "source": [
    "def addition(int1=1, int2=1, int3=1): #### Par défaut, les argument valent 1\n",
    "    return int1 + 2*int2 + 3*int3"
   ]
  },
  {
   "cell_type": "code",
   "execution_count": 20,
   "metadata": {
    "colab": {
     "base_uri": "https://localhost:8080/"
    },
    "executionInfo": {
     "elapsed": 341,
     "status": "ok",
     "timestamp": 1636109307623,
     "user": {
      "displayName": "Yacine ASLIMI",
      "photoUrl": "https://lh3.googleusercontent.com/a/default-user=s64",
      "userId": "17203730376393528118"
     },
     "user_tz": -60
    },
    "id": "uynBRpLS32lE",
    "outputId": "d002709f-e203-4b9e-8cbf-1d83563a8b3f"
   },
   "outputs": [
    {
     "name": "stdout",
     "output_type": "stream",
     "text": [
      "6\n"
     ]
    }
   ],
   "source": [
    "print(addition()) #### Par défaut, 6"
   ]
  },
  {
   "cell_type": "code",
   "execution_count": null,
   "metadata": {
    "colab": {
     "base_uri": "https://localhost:8080/"
    },
    "executionInfo": {
     "elapsed": 352,
     "status": "ok",
     "timestamp": 1636109322035,
     "user": {
      "displayName": "Yacine ASLIMI",
      "photoUrl": "https://lh3.googleusercontent.com/a/default-user=s64",
      "userId": "17203730376393528118"
     },
     "user_tz": -60
    },
    "id": "WpMLCn1p3seY",
    "outputId": "12a72f5c-52aa-4311-862b-cb80b72d4835"
   },
   "outputs": [
    {
     "name": "stdout",
     "output_type": "stream",
     "text": [
      "12\n"
     ]
    }
   ],
   "source": [
    "print(addition(2, 2, 2))"
   ]
  },
  {
   "cell_type": "code",
   "execution_count": null,
   "metadata": {
    "colab": {
     "base_uri": "https://localhost:8080/"
    },
    "executionInfo": {
     "elapsed": 333,
     "status": "ok",
     "timestamp": 1636109334441,
     "user": {
      "displayName": "Yacine ASLIMI",
      "photoUrl": "https://lh3.googleusercontent.com/a/default-user=s64",
      "userId": "17203730376393528118"
     },
     "user_tz": -60
    },
    "id": "GBOSxaKw4oGw",
    "outputId": "312d1945-4bfa-4a36-8fca-d16d90649751",
    "run_control": {
     "frozen": false,
     "read_only": false
    }
   },
   "outputs": [
    {
     "name": "stdout",
     "output_type": "stream",
     "text": [
      "26\n"
     ]
    }
   ],
   "source": [
    "print(addition(int1=2, int3=4, int2=6)) # sequence of these named arguments do not matter"
   ]
  },
  {
   "cell_type": "code",
   "execution_count": 21,
   "metadata": {},
   "outputs": [],
   "source": [
    "def additional(int1=1, int2=1, int3=1): #### Par défaut, les argument valent 1\n",
    "    return (int1 + 2*int2 + 3*int3)"
   ]
  },
  {
   "cell_type": "code",
   "execution_count": 22,
   "metadata": {},
   "outputs": [
    {
     "data": {
      "text/plain": [
       "14"
      ]
     },
     "execution_count": 22,
     "metadata": {},
     "output_type": "execute_result"
    }
   ],
   "source": [
    "additional(1,2,3)"
   ]
  },
  {
   "cell_type": "markdown",
   "metadata": {
    "id": "QHeKbRnL4oGy"
   },
   "source": [
    "<div class=\"alert alert-danger\">\n",
    "    <b>NOTE</b>: <br><br>\n",
    "    Default values are evaluated when the function is defined, not when it is called. This can be problematic when using mutable types (e.g. dictionary or list) and modifying them in the function body, since the modifications will be persistent across invocations of the function.\n",
    "\n",
    "Using an immutable type in a keyword argument:\n",
    "</div>"
   ]
  },
  {
   "cell_type": "code",
   "execution_count": 23,
   "metadata": {
    "id": "edwLctTj4oGz",
    "run_control": {
     "frozen": false,
     "read_only": false
    }
   },
   "outputs": [],
   "source": [
    "bigx = 10\n",
    "def double_it(x=bigx): #### Argument: valeur en mémoire au moment ou double_it a été exécuté\n",
    "    return x * 2"
   ]
  },
  {
   "cell_type": "code",
   "execution_count": 24,
   "metadata": {
    "colab": {
     "base_uri": "https://localhost:8080/"
    },
    "executionInfo": {
     "elapsed": 48,
     "status": "ok",
     "timestamp": 1636109378016,
     "user": {
      "displayName": "Yacine ASLIMI",
      "photoUrl": "https://lh3.googleusercontent.com/a/default-user=s64",
      "userId": "17203730376393528118"
     },
     "user_tz": -60
    },
    "id": "KIh7Jisk4hRh",
    "outputId": "36740fdb-5b1c-47f0-8e92-e2ed7f445a10"
   },
   "outputs": [
    {
     "data": {
      "text/plain": [
       "20"
      ]
     },
     "execution_count": 24,
     "metadata": {},
     "output_type": "execute_result"
    }
   ],
   "source": [
    "double_it() #### Pas d'argument: Arg par défaut"
   ]
  },
  {
   "cell_type": "code",
   "execution_count": 25,
   "metadata": {
    "colab": {
     "base_uri": "https://localhost:8080/"
    },
    "executionInfo": {
     "elapsed": 11,
     "status": "ok",
     "timestamp": 1636109379746,
     "user": {
      "displayName": "Yacine ASLIMI",
      "photoUrl": "https://lh3.googleusercontent.com/a/default-user=s64",
      "userId": "17203730376393528118"
     },
     "user_tz": -60
    },
    "id": "VklbBwbX4kyh",
    "outputId": "582b552e-cb19-4064-c582-2c8064f857f6"
   },
   "outputs": [
    {
     "name": "stdout",
     "output_type": "stream",
     "text": [
      "Variable                     Type        Data/Info\n",
      "--------------------------------------------------\n",
      "a                            int         3\n",
      "addition                     function    <function addition at 0x000002C460635E50>\n",
      "additional                   function    <function additional at 0x000002C460635D30>\n",
      "b                            int         6\n",
      "bigx                         int         10\n",
      "calcAreaSquare               function    <function calcAreaSquare at 0x000002C46058B820>\n",
      "double_it                    function    <function double_it at 0x000002C46058BB80>\n",
      "the_answer_to_the_universe   function    <function the_answer_to_t<...>se at 0x000002C46058BA60>\n"
     ]
    }
   ],
   "source": [
    "%whos"
   ]
  },
  {
   "cell_type": "code",
   "execution_count": 26,
   "metadata": {
    "colab": {
     "base_uri": "https://localhost:8080/"
    },
    "executionInfo": {
     "elapsed": 358,
     "status": "ok",
     "timestamp": 1636109467265,
     "user": {
      "displayName": "Yacine ASLIMI",
      "photoUrl": "https://lh3.googleusercontent.com/a/default-user=s64",
      "userId": "17203730376393528118"
     },
     "user_tz": -60
    },
    "id": "S5ErhKMn4cV4",
    "outputId": "9780f853-aa3b-4762-af4e-b712f3f4b6c4"
   },
   "outputs": [
    {
     "data": {
      "text/plain": [
       "20"
      ]
     },
     "execution_count": 26,
     "metadata": {},
     "output_type": "execute_result"
    }
   ],
   "source": [
    "bigx = 1e9 #### Modification de bigx\n",
    "double_it()"
   ]
  },
  {
   "cell_type": "code",
   "execution_count": 27,
   "metadata": {
    "id": "Fa2yhnlwzjoY"
   },
   "outputs": [],
   "source": [
    "def double_it(x=bigx): #### Argument: valeur en mémoire au moment ou double_it a été exécuté\n",
    "    return x * 2"
   ]
  },
  {
   "cell_type": "code",
   "execution_count": 28,
   "metadata": {
    "colab": {
     "base_uri": "https://localhost:8080/"
    },
    "executionInfo": {
     "elapsed": 29,
     "status": "ok",
     "timestamp": 1636109469772,
     "user": {
      "displayName": "Yacine ASLIMI",
      "photoUrl": "https://lh3.googleusercontent.com/a/default-user=s64",
      "userId": "17203730376393528118"
     },
     "user_tz": -60
    },
    "id": "jV8I7WG04ro7",
    "outputId": "33f541fe-2b9b-48dd-f8de-d81702d1fdfa"
   },
   "outputs": [
    {
     "name": "stdout",
     "output_type": "stream",
     "text": [
      "Variable                     Type        Data/Info\n",
      "--------------------------------------------------\n",
      "a                            int         3\n",
      "addition                     function    <function addition at 0x000002C460635E50>\n",
      "additional                   function    <function additional at 0x000002C460635D30>\n",
      "b                            int         6\n",
      "bigx                         float       1000000000.0\n",
      "calcAreaSquare               function    <function calcAreaSquare at 0x000002C46058B820>\n",
      "double_it                    function    <function double_it at 0x000002C46054BB80>\n",
      "the_answer_to_the_universe   function    <function the_answer_to_t<...>se at 0x000002C46058BA60>\n"
     ]
    }
   ],
   "source": [
    "%whos"
   ]
  },
  {
   "cell_type": "code",
   "execution_count": 29,
   "metadata": {
    "colab": {
     "base_uri": "https://localhost:8080/"
    },
    "executionInfo": {
     "elapsed": 326,
     "status": "ok",
     "timestamp": 1636109484250,
     "user": {
      "displayName": "Yacine ASLIMI",
      "photoUrl": "https://lh3.googleusercontent.com/a/default-user=s64",
      "userId": "17203730376393528118"
     },
     "user_tz": -60
    },
    "id": "uJfgPbB15N0m",
    "outputId": "bfd70e29-b29f-4de7-e2bd-5364975657a4"
   },
   "outputs": [
    {
     "data": {
      "text/plain": [
       "2000000000.0"
      ]
     },
     "execution_count": 29,
     "metadata": {},
     "output_type": "execute_result"
    }
   ],
   "source": [
    "double_it()"
   ]
  },
  {
   "cell_type": "code",
   "execution_count": 101,
   "metadata": {},
   "outputs": [
    {
     "name": "stdout",
     "output_type": "stream",
     "text": [
      "{'A': 2, 'B': 3}\n"
     ]
    }
   ],
   "source": [
    "kwargs={'A':1,'B':2}\n",
    "for i in kwargs.keys(): #### POur chaque clé\n",
    "    kwargs[i] = kwargs[i] + 1 #### valeur de la clé s'incrément de 1\n",
    "print(kwargs)\n"
   ]
  },
  {
   "cell_type": "code",
   "execution_count": 105,
   "metadata": {},
   "outputs": [
    {
     "data": {
      "text/plain": [
       "2"
      ]
     },
     "execution_count": 105,
     "metadata": {},
     "output_type": "execute_result"
    }
   ],
   "source": [
    "kwargs['A']"
   ]
  },
  {
   "cell_type": "code",
   "execution_count": 103,
   "metadata": {},
   "outputs": [
    {
     "name": "stdout",
     "output_type": "stream",
     "text": [
      "{'A': 2, 'B': 3}\n"
     ]
    }
   ],
   "source": [
    "print(kwargs)"
   ]
  },
  {
   "cell_type": "code",
   "execution_count": 106,
   "metadata": {},
   "outputs": [],
   "source": [
    "def add_to_dict(kwargs={'a': 0, 'b': 0}):\n",
    "    for i in kwargs.keys(): #### POur chaque clé\n",
    "        kwargs[i] = kwargs[i] + 1 #### valeur de la clé s'incrément de 1\n",
    "    print(kwargs)\n"
   ]
  },
  {
   "cell_type": "code",
   "execution_count": 108,
   "metadata": {},
   "outputs": [
    {
     "name": "stdout",
     "output_type": "stream",
     "text": [
      "{'a': 2, 'b': 2}\n"
     ]
    }
   ],
   "source": [
    "add_to_dict()"
   ]
  },
  {
   "cell_type": "code",
   "execution_count": 93,
   "metadata": {},
   "outputs": [
    {
     "name": "stdout",
     "output_type": "stream",
     "text": [
      "a\t add\t add_to_dict\t addition\t additional\t b\t bigx\t calcAreaSquare\t double_it\t \n",
      "the_answer_to_the_universe\t variable_args\t \n"
     ]
    }
   ],
   "source": [
    "%who"
   ]
  },
  {
   "cell_type": "markdown",
   "metadata": {
    "id": "3WIj0Jmr4oG0"
   },
   "source": [
    "Using an mutable type in a keyword argument (and modifying it inside the function body)"
   ]
  },
  {
   "cell_type": "code",
   "execution_count": 30,
   "metadata": {
    "id": "WdzgaIlw4oG1",
    "run_control": {
     "frozen": false,
     "read_only": false
    }
   },
   "outputs": [],
   "source": [
    "def add_to_dict(args={'a': 0, 'b': 0}):\n",
    "    for i in args.keys(): #### POur chaque clé\n",
    "        args[i] = args[i] + 1 #### valeur de la clé s'incrément de 1\n",
    "    print(args)"
   ]
  },
  {
   "cell_type": "code",
   "execution_count": 109,
   "metadata": {
    "colab": {
     "base_uri": "https://localhost:8080/"
    },
    "executionInfo": {
     "elapsed": 305,
     "status": "ok",
     "timestamp": 1636109567872,
     "user": {
      "displayName": "Yacine ASLIMI",
      "photoUrl": "https://lh3.googleusercontent.com/a/default-user=s64",
      "userId": "17203730376393528118"
     },
     "user_tz": -60
    },
    "id": "ITl2VI2Y5um2",
    "outputId": "c11a5caf-6748-49bc-f528-861df4569a54"
   },
   "outputs": [
    {
     "name": "stdout",
     "output_type": "stream",
     "text": [
      "{'a': 3, 'b': 3}\n"
     ]
    }
   ],
   "source": [
    "add_to_dict()"
   ]
  },
  {
   "cell_type": "code",
   "execution_count": 110,
   "metadata": {},
   "outputs": [
    {
     "ename": "SyntaxError",
     "evalue": "invalid syntax (<ipython-input-110-0c91b3544180>, line 1)",
     "output_type": "error",
     "traceback": [
      "\u001b[1;36m  File \u001b[1;32m\"<ipython-input-110-0c91b3544180>\"\u001b[1;36m, line \u001b[1;32m1\u001b[0m\n\u001b[1;33m    def add()\u001b[0m\n\u001b[1;37m             ^\u001b[0m\n\u001b[1;31mSyntaxError\u001b[0m\u001b[1;31m:\u001b[0m invalid syntax\n"
     ]
    }
   ],
   "source": [
    "def add()"
   ]
  },
  {
   "cell_type": "code",
   "execution_count": null,
   "metadata": {},
   "outputs": [],
   "source": []
  },
  {
   "cell_type": "code",
   "execution_count": null,
   "metadata": {
    "colab": {
     "base_uri": "https://localhost:8080/"
    },
    "executionInfo": {
     "elapsed": 333,
     "status": "ok",
     "timestamp": 1636109571416,
     "user": {
      "displayName": "Yacine ASLIMI",
      "photoUrl": "https://lh3.googleusercontent.com/a/default-user=s64",
      "userId": "17203730376393528118"
     },
     "user_tz": -60
    },
    "id": "H4i24sPt6HR2",
    "outputId": "9c1b8dec-723f-44a8-9f9e-5eaf418cd66f"
   },
   "outputs": [
    {
     "name": "stdout",
     "output_type": "stream",
     "text": [
      "Variable                     Type        Data/Info\n",
      "--------------------------------------------------\n",
      "add_to_dict                  function    <function add_to_dict at 0x7f849f731830>\n",
      "addition                     function    <function addition at 0x7f849f731710>\n",
      "bigx                         float       1000000000.0\n",
      "calcAreaSquare               function    <function calcAreaSquare at 0x7f849f7934d0>\n",
      "double_it                    function    <function double_it at 0x7f849f731f80>\n",
      "the_answer_to_the_universe   function    <function the_answer_to_t<...>iverse at 0x7f84a4255050>\n"
     ]
    }
   ],
   "source": [
    "%whos"
   ]
  },
  {
   "cell_type": "code",
   "execution_count": null,
   "metadata": {
    "colab": {
     "base_uri": "https://localhost:8080/"
    },
    "executionInfo": {
     "elapsed": 7,
     "status": "ok",
     "timestamp": 1636109588143,
     "user": {
      "displayName": "Yacine ASLIMI",
      "photoUrl": "https://lh3.googleusercontent.com/a/default-user=s64",
      "userId": "17203730376393528118"
     },
     "user_tz": -60
    },
    "id": "44LApA6k4oG3",
    "outputId": "3a32dc97-2d34-4eea-e2a3-2d2f92e66a53",
    "run_control": {
     "frozen": false,
     "read_only": false
    }
   },
   "outputs": [
    {
     "name": "stdout",
     "output_type": "stream",
     "text": [
      "{'a': 4, 'b': 4}\n",
      "{'a': 5, 'b': 5}\n",
      "{'a': 6, 'b': 6}\n"
     ]
    }
   ],
   "source": [
    "add_to_dict\n",
    "add_to_dict()\n",
    "add_to_dict()\n",
    "add_to_dict()"
   ]
  },
  {
   "cell_type": "code",
   "execution_count": null,
   "metadata": {
    "id": "dfOVjPqs4oG7",
    "run_control": {
     "frozen": false,
     "read_only": false
    }
   },
   "outputs": [],
   "source": [
    "#the {'a': 1, 'b': 2} was created in the memory on the moment that the definition was evaluated"
   ]
  },
  {
   "cell_type": "code",
   "execution_count": 53,
   "metadata": {
    "id": "kSRtztU44oG8",
    "run_control": {
     "frozen": false,
     "read_only": false
    }
   },
   "outputs": [],
   "source": [
    "def add_to_dict(args=None):\n",
    "    if not args: #### S'il n'y a pas d'argument\n",
    "        args = {'a': 1, 'b': 2} #### Appeler ce dictionaaire\n",
    "        \n",
    "    for i in args.keys(): #### Pour chaque valeur de chaque clé du dictionnaire\n",
    "        args[i] =  args[i] +1 #### j'incréméente de 1 la valeur\n",
    "         \n",
    "    print(args)"
   ]
  },
  {
   "cell_type": "code",
   "execution_count": 54,
   "metadata": {
    "colab": {
     "base_uri": "https://localhost:8080/"
    },
    "executionInfo": {
     "elapsed": 11,
     "status": "ok",
     "timestamp": 1636109648096,
     "user": {
      "displayName": "Yacine ASLIMI",
      "photoUrl": "https://lh3.googleusercontent.com/a/default-user=s64",
      "userId": "17203730376393528118"
     },
     "user_tz": -60
    },
    "id": "qUMfvO3b4oG9",
    "outputId": "b86a77b5-f785-4073-f7c4-c328a8659bcc",
    "run_control": {
     "frozen": false,
     "read_only": false
    }
   },
   "outputs": [
    {
     "name": "stdout",
     "output_type": "stream",
     "text": [
      "{'a': 2, 'b': 3}\n"
     ]
    }
   ],
   "source": [
    "add_to_dict() ### Pas d'argument"
   ]
  },
  {
   "cell_type": "code",
   "execution_count": null,
   "metadata": {},
   "outputs": [],
   "source": [
    "def abc(args)"
   ]
  },
  {
   "cell_type": "code",
   "execution_count": null,
   "metadata": {},
   "outputs": [],
   "source": []
  },
  {
   "cell_type": "code",
   "execution_count": null,
   "metadata": {},
   "outputs": [],
   "source": []
  },
  {
   "cell_type": "code",
   "execution_count": null,
   "metadata": {},
   "outputs": [],
   "source": []
  },
  {
   "cell_type": "markdown",
   "metadata": {
    "id": "1qFKUpei4oG-"
   },
   "source": [
    "### Variable number of parameters"
   ]
  },
  {
   "cell_type": "markdown",
   "metadata": {
    "id": "c50eJzc94oHA"
   },
   "source": [
    "\n",
    "Special forms of parameters:\n",
    "\n",
    "* *args: any number of positional arguments packed into a tuple\n",
    "* **kwargs: any number of keyword arguments packed into a dictionary\n",
    "\n"
   ]
  },
  {
   "cell_type": "code",
   "execution_count": 111,
   "metadata": {
    "colab": {
     "base_uri": "https://localhost:8080/",
     "height": 128
    },
    "executionInfo": {
     "elapsed": 320,
     "status": "error",
     "timestamp": 1636109766188,
     "user": {
      "displayName": "Yacine ASLIMI",
      "photoUrl": "https://lh3.googleusercontent.com/a/default-user=s64",
      "userId": "17203730376393528118"
     },
     "user_tz": -60
    },
    "id": "H67nSh5b4oHD",
    "outputId": "64e37b4f-278c-4fe8-9c6c-1e3990a59dfa",
    "run_control": {
     "frozen": false,
     "read_only": false
    }
   },
   "outputs": [
    {
     "name": "stdout",
     "output_type": "stream",
     "text": [
      "args is ('one', 'two')\n",
      "kwargs is {'x': 1, 'y': 2, 'z': 3}\n"
     ]
    }
   ],
   "source": [
    "def variable_args(*args, **kwargs):\n",
    "    print('args is', args)\n",
    "    print('kwargs is', kwargs)\n",
    "\n",
    "variable_args('one', 'two', x=1, y=2, z=3)"
   ]
  },
  {
   "cell_type": "code",
   "execution_count": 112,
   "metadata": {},
   "outputs": [
    {
     "name": "stdout",
     "output_type": "stream",
     "text": [
      "('A', 'B')\n",
      "{'a': 1, 'b': 2, 'c': 3}\n"
     ]
    }
   ],
   "source": [
    "def add (*args, **kwargs):\n",
    "    print(args)\n",
    "    print(kwargs)\n",
    "add('A','B',a=1,b=2,c=3)"
   ]
  },
  {
   "cell_type": "code",
   "execution_count": null,
   "metadata": {},
   "outputs": [],
   "source": []
  },
  {
   "cell_type": "markdown",
   "metadata": {
    "id": "Vlh-GN9m4oHF"
   },
   "source": [
    "### Docstrings"
   ]
  },
  {
   "cell_type": "markdown",
   "metadata": {
    "id": "lwhk254Z4oHG"
   },
   "source": [
    "Documentation about what the function does and its parameters. General convention:"
   ]
  },
  {
   "cell_type": "code",
   "execution_count": null,
   "metadata": {
    "id": "8hPS9ww34oHH",
    "run_control": {
     "frozen": false,
     "read_only": false
    }
   },
   "outputs": [],
   "source": [
    "def funcname(params):\n",
    "    \"\"\"Concise one-line sentence describing the function.\n",
    "    \n",
    "    Extended summary which can contain multiple paragraphs.\n",
    "    \"\"\"\n",
    "    # function body\n",
    "    pass\n",
    "\n",
    "funcname?"
   ]
  },
  {
   "cell_type": "markdown",
   "metadata": {
    "id": "wkFhNHUW4oHI"
   },
   "source": [
    "### Functions are objects"
   ]
  },
  {
   "cell_type": "markdown",
   "metadata": {
    "id": "ax055Tc44oHI"
   },
   "source": [
    "\n",
    "Functions are first-class objects, which means they can be:\n",
    "\n",
    "* assigned to a variable\n",
    "* an item in a list (or any collection)\n",
    "* passed as an argument to another function.\n",
    "\n"
   ]
  },
  {
   "cell_type": "code",
   "execution_count": 113,
   "metadata": {
    "colab": {
     "base_uri": "https://localhost:8080/"
    },
    "executionInfo": {
     "elapsed": 855,
     "status": "ok",
     "timestamp": 1636110140132,
     "user": {
      "displayName": "Yacine ASLIMI",
      "photoUrl": "https://lh3.googleusercontent.com/a/default-user=s64",
      "userId": "17203730376393528118"
     },
     "user_tz": -60
    },
    "id": "7VztkYEm2grg",
    "outputId": "0fcdf2b7-3ec6-4d7a-a20e-351a7eca44ae"
   },
   "outputs": [
    {
     "data": {
      "text/plain": [
       "[1, 3, 8, 9, 89]"
      ]
     },
     "execution_count": 113,
     "metadata": {},
     "output_type": "execute_result"
    }
   ],
   "source": [
    "a = [1, 3, 8, 9, 89]\n",
    "a"
   ]
  },
  {
   "cell_type": "code",
   "execution_count": 114,
   "metadata": {
    "colab": {
     "base_uri": "https://localhost:8080/"
    },
    "executionInfo": {
     "elapsed": 25,
     "status": "ok",
     "timestamp": 1636110140534,
     "user": {
      "displayName": "Yacine ASLIMI",
      "photoUrl": "https://lh3.googleusercontent.com/a/default-user=s64",
      "userId": "17203730376393528118"
     },
     "user_tz": -60
    },
    "id": "fRd_woqr2meg",
    "outputId": "f8e45319-8327-481f-f572-8ab608955565"
   },
   "outputs": [
    {
     "data": {
      "text/plain": [
       "22.0"
      ]
     },
     "execution_count": 114,
     "metadata": {},
     "output_type": "execute_result"
    }
   ],
   "source": [
    "import numpy as np\n",
    "np.mean(a)"
   ]
  },
  {
   "cell_type": "code",
   "execution_count": 115,
   "metadata": {
    "id": "k6w_a4Un2vXU"
   },
   "outputs": [],
   "source": [
    "m = np.mean #### Renommer une fonction et récupérer ses arguments\n"
   ]
  },
  {
   "cell_type": "code",
   "execution_count": 116,
   "metadata": {
    "colab": {
     "base_uri": "https://localhost:8080/"
    },
    "executionInfo": {
     "elapsed": 14,
     "status": "ok",
     "timestamp": 1636110140873,
     "user": {
      "displayName": "Yacine ASLIMI",
      "photoUrl": "https://lh3.googleusercontent.com/a/default-user=s64",
      "userId": "17203730376393528118"
     },
     "user_tz": -60
    },
    "id": "Jtee5fS520E2",
    "outputId": "a0ce3bee-aef2-4427-eac6-71d152737c34"
   },
   "outputs": [
    {
     "data": {
      "text/plain": [
       "22.0"
      ]
     },
     "execution_count": 116,
     "metadata": {},
     "output_type": "execute_result"
    }
   ],
   "source": [
    "m(a)"
   ]
  },
  {
   "cell_type": "code",
   "execution_count": 117,
   "metadata": {
    "colab": {
     "base_uri": "https://localhost:8080/"
    },
    "executionInfo": {
     "elapsed": 9,
     "status": "ok",
     "timestamp": 1635876848215,
     "user": {
      "displayName": "Yacine ASLIMI",
      "photoUrl": "https://lh3.googleusercontent.com/a/default-user=s64",
      "userId": "17203730376393528118"
     },
     "user_tz": -60
    },
    "id": "2vOfOyNz4oHJ",
    "outputId": "c9f09588-3c66-4d2a-cd1a-1c913ae47705",
    "run_control": {
     "frozen": false,
     "read_only": false
    }
   },
   "outputs": [
    {
     "name": "stdout",
     "output_type": "stream",
     "text": [
      "args is ('three',)\n",
      "kwargs is {'x': 1, 'y': 2}\n"
     ]
    }
   ],
   "source": [
    "va = variable_args\n",
    "va('three', x=1, y=2)"
   ]
  },
  {
   "cell_type": "code",
   "execution_count": null,
   "metadata": {
    "id": "hEZbbETG3cO_"
   },
   "outputs": [],
   "source": []
  },
  {
   "cell_type": "markdown",
   "metadata": {
    "id": "QCCEWRhe4oHL"
   },
   "source": [
    "### Methods"
   ]
  },
  {
   "cell_type": "markdown",
   "metadata": {
    "id": "2_VsXtDw4oHN"
   },
   "source": [
    "Methods are functions attached to objects. You’ve seen these in our examples on lists, dictionaries, strings, etc...\n",
    "\n",
    "Calling them can be done by dir(object):"
   ]
  },
  {
   "cell_type": "markdown",
   "metadata": {
    "id": "NnFw5ZZa4oHP"
   },
   "source": [
    "-------------------------------"
   ]
  },
  {
   "cell_type": "code",
   "execution_count": 118,
   "metadata": {
    "executionInfo": {
     "elapsed": 5,
     "status": "ok",
     "timestamp": 1636792504656,
     "user": {
      "displayName": "Yacine ASLIMI",
      "photoUrl": "https://lh3.googleusercontent.com/a/default-user=s64",
      "userId": "17203730376393528118"
     },
     "user_tz": -60
    },
    "id": "sMCFkGRc4oHQ",
    "run_control": {
     "frozen": false,
     "read_only": false
    }
   },
   "outputs": [],
   "source": [
    "dd = {'antea': 3, 'IMDC': 2, 'arcadis': 4, 'witteveen': 5, 'grontmij': 1}"
   ]
  },
  {
   "cell_type": "markdown",
   "metadata": {
    "id": "oZeeli-A4oHQ"
   },
   "source": [
    "<div class=\"alert alert-success\">\n",
    "    <b>EXERCISE</b>: Make a function of the exercise in the previous notebook: Given the dictionary `dd`, check if a key is already existing in the dictionary and raise an exception if the key already exist. Otherwise, return the dict with the element added.\n",
    "</div>"
   ]
  },
  {
   "cell_type": "code",
   "execution_count": 119,
   "metadata": {
    "colab": {
     "base_uri": "https://localhost:8080/"
    },
    "executionInfo": {
     "elapsed": 440,
     "status": "ok",
     "timestamp": 1636110215938,
     "user": {
      "displayName": "Yacine ASLIMI",
      "photoUrl": "https://lh3.googleusercontent.com/a/default-user=s64",
      "userId": "17203730376393528118"
     },
     "user_tz": -60
    },
    "id": "glKiq5OI9YBv",
    "outputId": "cf22eb20-0b5e-4953-87df-e40d3adfc562"
   },
   "outputs": [
    {
     "data": {
      "text/plain": [
       "{'antea': 3, 'IMDC': 2, 'arcadis': 4, 'witteveen': 5, 'grontmij': 1}"
      ]
     },
     "execution_count": 119,
     "metadata": {},
     "output_type": "execute_result"
    }
   ],
   "source": [
    "dd"
   ]
  },
  {
   "cell_type": "code",
   "execution_count": 120,
   "metadata": {
    "id": "-TcKGAsX9ZsL"
   },
   "outputs": [],
   "source": [
    "dd[\"hello\"] = 98"
   ]
  },
  {
   "cell_type": "code",
   "execution_count": 121,
   "metadata": {
    "colab": {
     "base_uri": "https://localhost:8080/"
    },
    "executionInfo": {
     "elapsed": 465,
     "status": "ok",
     "timestamp": 1636110232069,
     "user": {
      "displayName": "Yacine ASLIMI",
      "photoUrl": "https://lh3.googleusercontent.com/a/default-user=s64",
      "userId": "17203730376393528118"
     },
     "user_tz": -60
    },
    "id": "9QJdhkah9e7N",
    "outputId": "d4c786fa-acf5-4172-b578-dc620578193b"
   },
   "outputs": [
    {
     "data": {
      "text/plain": [
       "{'antea': 3,\n",
       " 'IMDC': 2,\n",
       " 'arcadis': 4,\n",
       " 'witteveen': 5,\n",
       " 'grontmij': 1,\n",
       " 'hello': 98}"
      ]
     },
     "execution_count": 121,
     "metadata": {},
     "output_type": "execute_result"
    }
   ],
   "source": [
    "dd"
   ]
  },
  {
   "cell_type": "code",
   "execution_count": 122,
   "metadata": {
    "id": "rNMoL9Lb4oHR"
   },
   "outputs": [],
   "source": [
    "### Fonction : 2 arguments dd, clé\n",
    "#### SOrtie: Print"
   ]
  },
  {
   "cell_type": "code",
   "execution_count": 124,
   "metadata": {
    "id": "1fJVlSf63Apr"
   },
   "outputs": [],
   "source": [
    "def in_dico(dico, cle):\n",
    "  ### CAs 1: Si la clé est dans le dictionnaire alors \n",
    "  #### Afficher un print (In the dictionnary)\n",
    "  if (cle in dico):\n",
    "    print(\"In the dictionnary\")\n",
    "  #### Cas 2: Si la clé n'est pas dans le dictionnaire, \n",
    "  ##### Afficher a clé n'est pas dans le dictionaire\n",
    "  else:\n",
    "    print(\"Not in the dictionary\")"
   ]
  },
  {
   "cell_type": "code",
   "execution_count": 129,
   "metadata": {
    "id": "RxiA9Yo39FEC"
   },
   "outputs": [],
   "source": [
    "def check_for_key(dico,key):\n",
    "    if (key in dico):\n",
    "        print('Yes')\n",
    "    else:\n",
    "        print('No')"
   ]
  },
  {
   "cell_type": "code",
   "execution_count": 130,
   "metadata": {
    "colab": {
     "base_uri": "https://localhost:8080/"
    },
    "executionInfo": {
     "elapsed": 10,
     "status": "ok",
     "timestamp": 1636110363196,
     "user": {
      "displayName": "Yacine ASLIMI",
      "photoUrl": "https://lh3.googleusercontent.com/a/default-user=s64",
      "userId": "17203730376393528118"
     },
     "user_tz": -60
    },
    "id": "JcpJZTto3MAn",
    "outputId": "45b65b05-a784-4719-cf0b-dc3740dc90a7"
   },
   "outputs": [
    {
     "name": "stdout",
     "output_type": "stream",
     "text": [
      "In the dictionnary\n"
     ]
    }
   ],
   "source": [
    "in_dico(dd, \"antea\")"
   ]
  },
  {
   "cell_type": "code",
   "execution_count": 131,
   "metadata": {
    "id": "JuZG9u2h4oHR",
    "run_control": {
     "frozen": false,
     "read_only": false
    }
   },
   "outputs": [
    {
     "name": "stdout",
     "output_type": "stream",
     "text": [
      "No\n"
     ]
    }
   ],
   "source": [
    "check_for_key(dd, 'deme')"
   ]
  },
  {
   "cell_type": "code",
   "execution_count": 132,
   "metadata": {
    "id": "DqK17HjH4oHS",
    "run_control": {
     "frozen": false,
     "read_only": false
    }
   },
   "outputs": [],
   "source": [
    "#check_for_key(dd, 'antea') # uncomment this line"
   ]
  },
  {
   "cell_type": "code",
   "execution_count": 133,
   "metadata": {
    "executionInfo": {
     "elapsed": 269,
     "status": "ok",
     "timestamp": 1636792556911,
     "user": {
      "displayName": "Yacine ASLIMI",
      "photoUrl": "https://lh3.googleusercontent.com/a/default-user=s64",
      "userId": "17203730376393528118"
     },
     "user_tz": -60
    },
    "id": "4vxKuPrH9GZH"
   },
   "outputs": [],
   "source": [
    "##### Variante du code\n",
    "\n",
    "\n",
    "def in_dico(dico, cle):\n",
    "  ### CAs 1: Si la clé est dans le dictionnaire alors \n",
    "  #### Afficher un print (In the dictionnary)\n",
    "  if (cle in dico):\n",
    "    raise Exception(\"In the dictionnary\")\n",
    "  #### Cas 2: Si la clé n'est pas dans le dictionnaire, \n",
    "  ##### Afficher a clé n'est pas dans le dictionaire\n",
    "  else:\n",
    "    print(\"Not in the dictionary\")"
   ]
  },
  {
   "cell_type": "code",
   "execution_count": 4,
   "metadata": {
    "executionInfo": {
     "elapsed": 448,
     "status": "ok",
     "timestamp": 1636792559834,
     "user": {
      "displayName": "Yacine ASLIMI",
      "photoUrl": "https://lh3.googleusercontent.com/a/default-user=s64",
      "userId": "17203730376393528118"
     },
     "user_tz": -60
    },
    "id": "VX9nfx0J-KP_"
   },
   "outputs": [],
   "source": [
    "dd = {'antea': 3, 'IMDC': 2, 'arcadis': 4, 'witteveen': 5, 'grontmij': 1}"
   ]
  },
  {
   "cell_type": "code",
   "execution_count": 6,
   "metadata": {
    "colab": {
     "base_uri": "https://localhost:8080/",
     "height": 292
    },
    "executionInfo": {
     "elapsed": 266,
     "status": "error",
     "timestamp": 1636792582294,
     "user": {
      "displayName": "Yacine ASLIMI",
      "photoUrl": "https://lh3.googleusercontent.com/a/default-user=s64",
      "userId": "17203730376393528118"
     },
     "user_tz": -60
    },
    "id": "vCKh5eF6yrjP",
    "outputId": "19a3718f-7aaa-4aee-f3ad-08fc76103c39"
   },
   "outputs": [
    {
     "ename": "Exception",
     "evalue": "ignored",
     "output_type": "error",
     "traceback": [
      "\u001b[0;31m---------------------------------------------------------------------------\u001b[0m",
      "\u001b[0;31mException\u001b[0m                                 Traceback (most recent call last)",
      "\u001b[0;32m<ipython-input-6-02167f5602fa>\u001b[0m in \u001b[0;36m<module>\u001b[0;34m()\u001b[0m\n\u001b[0;32m----> 1\u001b[0;31m \u001b[0min_dico\u001b[0m\u001b[0;34m(\u001b[0m\u001b[0mdd\u001b[0m\u001b[0;34m,\u001b[0m \u001b[0;34m'antea'\u001b[0m\u001b[0;34m)\u001b[0m \u001b[0;31m#### CAs 1: clé dans le dictionnaire\u001b[0m\u001b[0;34m\u001b[0m\u001b[0;34m\u001b[0m\u001b[0m\n\u001b[0m",
      "\u001b[0;32m<ipython-input-3-739838b8545c>\u001b[0m in \u001b[0;36min_dico\u001b[0;34m(dico, cle)\u001b[0m\n\u001b[1;32m      6\u001b[0m   \u001b[0;31m#### Afficher un print (In the dictionnary)\u001b[0m\u001b[0;34m\u001b[0m\u001b[0;34m\u001b[0m\u001b[0;34m\u001b[0m\u001b[0m\n\u001b[1;32m      7\u001b[0m   \u001b[0;32mif\u001b[0m \u001b[0;34m(\u001b[0m\u001b[0mcle\u001b[0m \u001b[0;32min\u001b[0m \u001b[0mdico\u001b[0m\u001b[0;34m)\u001b[0m\u001b[0;34m:\u001b[0m\u001b[0;34m\u001b[0m\u001b[0;34m\u001b[0m\u001b[0m\n\u001b[0;32m----> 8\u001b[0;31m     \u001b[0;32mraise\u001b[0m \u001b[0mException\u001b[0m\u001b[0;34m(\u001b[0m\u001b[0;34m\"In the dictionnary\"\u001b[0m\u001b[0;34m)\u001b[0m\u001b[0;34m\u001b[0m\u001b[0;34m\u001b[0m\u001b[0m\n\u001b[0m\u001b[1;32m      9\u001b[0m   \u001b[0;31m#### Cas 2: Si la clé n'est pas dans le dictionnaire,\u001b[0m\u001b[0;34m\u001b[0m\u001b[0;34m\u001b[0m\u001b[0;34m\u001b[0m\u001b[0m\n\u001b[1;32m     10\u001b[0m   \u001b[0;31m##### Afficher a clé n'est pas dans le dictionaire\u001b[0m\u001b[0;34m\u001b[0m\u001b[0;34m\u001b[0m\u001b[0;34m\u001b[0m\u001b[0m\n",
      "\u001b[0;31mException\u001b[0m: In the dictionnary"
     ]
    }
   ],
   "source": [
    "in_dico(dd, 'antea') #### CAs 1: clé dans le dictionnaire"
   ]
  },
  {
   "cell_type": "code",
   "execution_count": 7,
   "metadata": {
    "colab": {
     "base_uri": "https://localhost:8080/"
    },
    "executionInfo": {
     "elapsed": 214,
     "status": "ok",
     "timestamp": 1636792637326,
     "user": {
      "displayName": "Yacine ASLIMI",
      "photoUrl": "https://lh3.googleusercontent.com/a/default-user=s64",
      "userId": "17203730376393528118"
     },
     "user_tz": -60
    },
    "id": "guyb9gpGcVy6",
    "outputId": "98f68e9e-bf54-4f56-edd3-0560bf4e6840"
   },
   "outputs": [
    {
     "name": "stdout",
     "output_type": "stream",
     "text": [
      "Not in the dictionary\n"
     ]
    }
   ],
   "source": [
    "in_dico(dd,\"hello\") #### print not in the dictionnary"
   ]
  },
  {
   "cell_type": "code",
   "execution_count": 8,
   "metadata": {
    "executionInfo": {
     "elapsed": 214,
     "status": "ok",
     "timestamp": 1636792793329,
     "user": {
      "displayName": "Yacine ASLIMI",
      "photoUrl": "https://lh3.googleusercontent.com/a/default-user=s64",
      "userId": "17203730376393528118"
     },
     "user_tz": -60
    },
    "id": "c_2b48Zg9oK3"
   },
   "outputs": [],
   "source": [
    "##### Variante du code 2 --> Ajout du dictionnaire\n",
    "\n",
    "\n",
    "def in_dico_(dico, cle, valeur):\n",
    "  ### CAs 1: Si la clé est dans le dictionnaire alors \n",
    "  #### Afficher un print (In the dictionnary)\n",
    "  if (cle in dico):\n",
    "    raise Exception(\"In the dictionnary\")\n",
    "  #### Cas 2: Si la clé n'est pas dans le dictionnaire, \n",
    "  ##### Afficher a clé n'est pas dans le dictionaire\n",
    "  else:\n",
    "    dico[cle] = valeur #### AJout de la clé et de la valeur à dd\n",
    "    print(\"Not in the dictionary\")\n",
    "    print(dd) #### Afficher le dicionnaire"
   ]
  },
  {
   "cell_type": "code",
   "execution_count": 12,
   "metadata": {
    "colab": {
     "base_uri": "https://localhost:8080/",
     "height": 292
    },
    "executionInfo": {
     "elapsed": 256,
     "status": "error",
     "timestamp": 1636792894842,
     "user": {
      "displayName": "Yacine ASLIMI",
      "photoUrl": "https://lh3.googleusercontent.com/a/default-user=s64",
      "userId": "17203730376393528118"
     },
     "user_tz": -60
    },
    "id": "9B-jmA-u9OUt",
    "outputId": "983ddb3d-c42d-4952-8c85-7c07e31cbe08"
   },
   "outputs": [
    {
     "ename": "Exception",
     "evalue": "ignored",
     "output_type": "error",
     "traceback": [
      "\u001b[0;31m---------------------------------------------------------------------------\u001b[0m",
      "\u001b[0;31mException\u001b[0m                                 Traceback (most recent call last)",
      "\u001b[0;32m<ipython-input-12-fc54c2333a47>\u001b[0m in \u001b[0;36m<module>\u001b[0;34m()\u001b[0m\n\u001b[0;32m----> 1\u001b[0;31m \u001b[0min_dico_\u001b[0m\u001b[0;34m(\u001b[0m\u001b[0mdd\u001b[0m\u001b[0;34m,\u001b[0m \u001b[0;34m\"Hi\"\u001b[0m\u001b[0;34m,\u001b[0m \u001b[0;36m67\u001b[0m\u001b[0;34m)\u001b[0m \u001b[0;31m### Ajout d'une nouvelle clé\u001b[0m\u001b[0;34m\u001b[0m\u001b[0;34m\u001b[0m\u001b[0m\n\u001b[0m",
      "\u001b[0;32m<ipython-input-8-cbfcbc43082d>\u001b[0m in \u001b[0;36min_dico_\u001b[0;34m(dico, cle, valeur)\u001b[0m\n\u001b[1;32m      6\u001b[0m   \u001b[0;31m#### Afficher un print (In the dictionnary)\u001b[0m\u001b[0;34m\u001b[0m\u001b[0;34m\u001b[0m\u001b[0;34m\u001b[0m\u001b[0m\n\u001b[1;32m      7\u001b[0m   \u001b[0;32mif\u001b[0m \u001b[0;34m(\u001b[0m\u001b[0mcle\u001b[0m \u001b[0;32min\u001b[0m \u001b[0mdico\u001b[0m\u001b[0;34m)\u001b[0m\u001b[0;34m:\u001b[0m\u001b[0;34m\u001b[0m\u001b[0;34m\u001b[0m\u001b[0m\n\u001b[0;32m----> 8\u001b[0;31m     \u001b[0;32mraise\u001b[0m \u001b[0mException\u001b[0m\u001b[0;34m(\u001b[0m\u001b[0;34m\"In the dictionnary\"\u001b[0m\u001b[0;34m)\u001b[0m\u001b[0;34m\u001b[0m\u001b[0;34m\u001b[0m\u001b[0m\n\u001b[0m\u001b[1;32m      9\u001b[0m   \u001b[0;31m#### Cas 2: Si la clé n'est pas dans le dictionnaire,\u001b[0m\u001b[0;34m\u001b[0m\u001b[0;34m\u001b[0m\u001b[0;34m\u001b[0m\u001b[0m\n\u001b[1;32m     10\u001b[0m   \u001b[0;31m##### Afficher a clé n'est pas dans le dictionaire\u001b[0m\u001b[0;34m\u001b[0m\u001b[0;34m\u001b[0m\u001b[0;34m\u001b[0m\u001b[0m\n",
      "\u001b[0;31mException\u001b[0m: In the dictionnary"
     ]
    }
   ],
   "source": [
    "in_dico_(dd, \"Hi\", 67) ### Ajout d'une nouvelle clé"
   ]
  },
  {
   "cell_type": "code",
   "execution_count": 11,
   "metadata": {
    "colab": {
     "base_uri": "https://localhost:8080/",
     "height": 292
    },
    "executionInfo": {
     "elapsed": 246,
     "status": "error",
     "timestamp": 1636792869240,
     "user": {
      "displayName": "Yacine ASLIMI",
      "photoUrl": "https://lh3.googleusercontent.com/a/default-user=s64",
      "userId": "17203730376393528118"
     },
     "user_tz": -60
    },
    "id": "unBzLzZadJ8Y",
    "outputId": "559b73cd-8977-41a2-a882-3227536e3c11"
   },
   "outputs": [
    {
     "ename": "Exception",
     "evalue": "ignored",
     "output_type": "error",
     "traceback": [
      "\u001b[0;31m---------------------------------------------------------------------------\u001b[0m",
      "\u001b[0;31mException\u001b[0m                                 Traceback (most recent call last)",
      "\u001b[0;32m<ipython-input-11-f3c056f30362>\u001b[0m in \u001b[0;36m<module>\u001b[0;34m()\u001b[0m\n\u001b[0;32m----> 1\u001b[0;31m \u001b[0min_dico_\u001b[0m\u001b[0;34m(\u001b[0m\u001b[0mdd\u001b[0m\u001b[0;34m,\u001b[0m \u001b[0;34m\"antea\"\u001b[0m\u001b[0;34m,\u001b[0m \u001b[0;36m4\u001b[0m\u001b[0;34m)\u001b[0m\u001b[0;34m\u001b[0m\u001b[0;34m\u001b[0m\u001b[0m\n\u001b[0m",
      "\u001b[0;32m<ipython-input-8-cbfcbc43082d>\u001b[0m in \u001b[0;36min_dico_\u001b[0;34m(dico, cle, valeur)\u001b[0m\n\u001b[1;32m      6\u001b[0m   \u001b[0;31m#### Afficher un print (In the dictionnary)\u001b[0m\u001b[0;34m\u001b[0m\u001b[0;34m\u001b[0m\u001b[0;34m\u001b[0m\u001b[0m\n\u001b[1;32m      7\u001b[0m   \u001b[0;32mif\u001b[0m \u001b[0;34m(\u001b[0m\u001b[0mcle\u001b[0m \u001b[0;32min\u001b[0m \u001b[0mdico\u001b[0m\u001b[0;34m)\u001b[0m\u001b[0;34m:\u001b[0m\u001b[0;34m\u001b[0m\u001b[0;34m\u001b[0m\u001b[0m\n\u001b[0;32m----> 8\u001b[0;31m     \u001b[0;32mraise\u001b[0m \u001b[0mException\u001b[0m\u001b[0;34m(\u001b[0m\u001b[0;34m\"In the dictionnary\"\u001b[0m\u001b[0;34m)\u001b[0m\u001b[0;34m\u001b[0m\u001b[0;34m\u001b[0m\u001b[0m\n\u001b[0m\u001b[1;32m      9\u001b[0m   \u001b[0;31m#### Cas 2: Si la clé n'est pas dans le dictionnaire,\u001b[0m\u001b[0;34m\u001b[0m\u001b[0;34m\u001b[0m\u001b[0;34m\u001b[0m\u001b[0m\n\u001b[1;32m     10\u001b[0m   \u001b[0;31m##### Afficher a clé n'est pas dans le dictionaire\u001b[0m\u001b[0;34m\u001b[0m\u001b[0;34m\u001b[0m\u001b[0;34m\u001b[0m\u001b[0m\n",
      "\u001b[0;31mException\u001b[0m: In the dictionnary"
     ]
    }
   ],
   "source": [
    "in_dico_(dd, \"antea\", 4)"
   ]
  },
  {
   "cell_type": "code",
   "execution_count": null,
   "metadata": {
    "colab": {
     "base_uri": "https://localhost:8080/",
     "height": 278
    },
    "executionInfo": {
     "elapsed": 323,
     "status": "error",
     "timestamp": 1636110480628,
     "user": {
      "displayName": "Yacine ASLIMI",
      "photoUrl": "https://lh3.googleusercontent.com/a/default-user=s64",
      "userId": "17203730376393528118"
     },
     "user_tz": -60
    },
    "id": "OQuPzs3i-Uyy",
    "outputId": "10ccf738-ce5b-4c1e-8c29-b3eaca7498ee"
   },
   "outputs": [
    {
     "ename": "Exception",
     "evalue": "ignored",
     "output_type": "error",
     "traceback": [
      "\u001b[0;31m---------------------------------------------------------------------------\u001b[0m",
      "\u001b[0;31mException\u001b[0m                                 Traceback (most recent call last)",
      "\u001b[0;32m<ipython-input-67-fc54c2333a47>\u001b[0m in \u001b[0;36m<module>\u001b[0;34m()\u001b[0m\n\u001b[0;32m----> 1\u001b[0;31m \u001b[0min_dico_\u001b[0m\u001b[0;34m(\u001b[0m\u001b[0mdd\u001b[0m\u001b[0;34m,\u001b[0m \u001b[0;34m\"Hi\"\u001b[0m\u001b[0;34m,\u001b[0m \u001b[0;36m67\u001b[0m\u001b[0;34m)\u001b[0m \u001b[0;31m### Ajout d'une nouvelle clé\u001b[0m\u001b[0;34m\u001b[0m\u001b[0;34m\u001b[0m\u001b[0m\n\u001b[0m",
      "\u001b[0;32m<ipython-input-65-cbfcbc43082d>\u001b[0m in \u001b[0;36min_dico_\u001b[0;34m(dico, cle, valeur)\u001b[0m\n\u001b[1;32m      6\u001b[0m   \u001b[0;31m#### Afficher un print (In the dictionnary)\u001b[0m\u001b[0;34m\u001b[0m\u001b[0;34m\u001b[0m\u001b[0;34m\u001b[0m\u001b[0m\n\u001b[1;32m      7\u001b[0m   \u001b[0;32mif\u001b[0m \u001b[0;34m(\u001b[0m\u001b[0mcle\u001b[0m \u001b[0;32min\u001b[0m \u001b[0mdico\u001b[0m\u001b[0;34m)\u001b[0m\u001b[0;34m:\u001b[0m\u001b[0;34m\u001b[0m\u001b[0;34m\u001b[0m\u001b[0m\n\u001b[0;32m----> 8\u001b[0;31m     \u001b[0;32mraise\u001b[0m \u001b[0mException\u001b[0m\u001b[0;34m(\u001b[0m\u001b[0;34m\"In the dictionnary\"\u001b[0m\u001b[0;34m)\u001b[0m\u001b[0;34m\u001b[0m\u001b[0;34m\u001b[0m\u001b[0m\n\u001b[0m\u001b[1;32m      9\u001b[0m   \u001b[0;31m#### Cas 2: Si la clé n'est pas dans le dictionnaire,\u001b[0m\u001b[0;34m\u001b[0m\u001b[0;34m\u001b[0m\u001b[0;34m\u001b[0m\u001b[0m\n\u001b[1;32m     10\u001b[0m   \u001b[0;31m##### Afficher a clé n'est pas dans le dictionaire\u001b[0m\u001b[0;34m\u001b[0m\u001b[0;34m\u001b[0m\u001b[0;34m\u001b[0m\u001b[0m\n",
      "\u001b[0;31mException\u001b[0m: In the dictionnary"
     ]
    }
   ],
   "source": [
    "in_dico_(dd, \"Hi\", 67) ### Ajout d'une nouvelle clé"
   ]
  },
  {
   "cell_type": "code",
   "execution_count": 13,
   "metadata": {
    "executionInfo": {
     "elapsed": 238,
     "status": "ok",
     "timestamp": 1636792970118,
     "user": {
      "displayName": "Yacine ASLIMI",
      "photoUrl": "https://lh3.googleusercontent.com/a/default-user=s64",
      "userId": "17203730376393528118"
     },
     "user_tz": -60
    },
    "id": "Pd7_XY4--a8c"
   },
   "outputs": [],
   "source": [
    "##### Variante du code 2 --> Ajout du dictionnaire\n",
    "\n",
    "\n",
    "def in_dico_(dico, cle, valeur):\n",
    "  ### CAs 1: Si la clé est dans le dictionnaire alors \n",
    "  #### Afficher un print (In the dictionnary)\n",
    "  if (cle in dico):\n",
    "    #raise Exception(\"In the dictionnary\")\n",
    "  #### Cas 1: POur chaque élement de mon objet (Pas nécéssaire)\n",
    "    #### Si la clé dans l'argument de la fonction est dans les clé du dictionnaire (in)\n",
    "    #### Je récupéère la clé, clé = concat(clé, \"_\") et ajout au dicionnaire\n",
    "    cle = cle+\"_\"\n",
    "    dico[cle] = valeur\n",
    "    print(dico)\n",
    "  #### Cas 2: Si la clé n'est pas dans le dictionnaire, \n",
    "  ##### Afficher a clé n'est pas dans le dictionaire\n",
    "  else:\n",
    "    #### Cas 2: Si la clé n'est pas dans la liste \n",
    "    dico[cle] = valeur #### AJout de la clé et de la valeur à dd\n",
    "    print(\"Not in the dictionary\")\n",
    "    print(dico)"
   ]
  },
  {
   "cell_type": "code",
   "execution_count": 16,
   "metadata": {
    "colab": {
     "base_uri": "https://localhost:8080/"
    },
    "executionInfo": {
     "elapsed": 242,
     "status": "ok",
     "timestamp": 1636792995734,
     "user": {
      "displayName": "Yacine ASLIMI",
      "photoUrl": "https://lh3.googleusercontent.com/a/default-user=s64",
      "userId": "17203730376393528118"
     },
     "user_tz": -60
    },
    "id": "UohrNO579Oh5",
    "outputId": "541e472b-5e55-49fa-e685-ce4708196640"
   },
   "outputs": [
    {
     "name": "stdout",
     "output_type": "stream",
     "text": [
      "{'antea': 3, 'IMDC': 2, 'arcadis': 4, 'witteveen': 5, 'grontmij': 1, 'Hi': 67, 'ias': 7, 'ias_': 7}\n"
     ]
    }
   ],
   "source": [
    "in_dico_(dd, \"ias\", 7)"
   ]
  },
  {
   "cell_type": "code",
   "execution_count": 17,
   "metadata": {
    "colab": {
     "base_uri": "https://localhost:8080/"
    },
    "executionInfo": {
     "elapsed": 233,
     "status": "ok",
     "timestamp": 1636793039605,
     "user": {
      "displayName": "Yacine ASLIMI",
      "photoUrl": "https://lh3.googleusercontent.com/a/default-user=s64",
      "userId": "17203730376393528118"
     },
     "user_tz": -60
    },
    "id": "AtH8P-OCz-IQ",
    "outputId": "1be3dbbf-e07c-4bed-805d-7448cb02eb63"
   },
   "outputs": [
    {
     "name": "stdout",
     "output_type": "stream",
     "text": [
      "{'antea': 3, 'IMDC': 2, 'arcadis': 4, 'witteveen': 5, 'grontmij': 1, 'Hi': 67, 'ias': 7, 'ias_': 7, 'ias__': 7}\n"
     ]
    }
   ],
   "source": [
    "in_dico_(dd, \"ias_\", 7)"
   ]
  },
  {
   "cell_type": "code",
   "execution_count": null,
   "metadata": {
    "colab": {
     "base_uri": "https://localhost:8080/"
    },
    "executionInfo": {
     "elapsed": 184,
     "status": "ok",
     "timestamp": 1635959875290,
     "user": {
      "displayName": "Yacine ASLIMI",
      "photoUrl": "https://lh3.googleusercontent.com/a/default-user=s64",
      "userId": "17203730376393528118"
     },
     "user_tz": -60
    },
    "id": "sRaB34yLzpwe",
    "outputId": "66d7c0c4-4871-4025-e50e-8de3cdcb2b15"
   },
   "outputs": [
    {
     "data": {
      "text/plain": [
       "{'Hi': 67,\n",
       " 'IMDC': 2,\n",
       " 'antea': 3,\n",
       " 'arcadis': 4,\n",
       " 'grontmij': 1,\n",
       " 'hello': 98,\n",
       " 'ias': 7,\n",
       " 'ias_': 7,\n",
       " 'witteveen': 5}"
      ]
     },
     "execution_count": 31,
     "metadata": {},
     "output_type": "execute_result"
    }
   ],
   "source": [
    "dd"
   ]
  },
  {
   "cell_type": "markdown",
   "metadata": {
    "id": "XDhLEObh4cIp"
   },
   "source": [
    "#### Exercice 2: Pythagore: Calcul du troisième coté d'un triangle en utilisant une fonction"
   ]
  },
  {
   "cell_type": "code",
   "execution_count": null,
   "metadata": {
    "id": "5BcV9XKk3eGa"
   },
   "outputs": [],
   "source": [
    "#### Entrée: a, b (int) : note a, b int --> float, str, boolean, \n",
    "#### Sortie: c\n"
   ]
  },
  {
   "cell_type": "code",
   "execution_count": null,
   "metadata": {
    "id": "0RmL9xka3zMm"
   },
   "outputs": [],
   "source": [
    "#### Gestion des exceptions pours les cas suivants:\n",
    "\n",
    "#### Saisie d'une str dans les arguments de la fonction\n",
    "#### Sasie un nombre complexe\n",
    "#### Saisie d'un nombre négatif\n",
    "#### Saisie d'un très grand nombre\n",
    "#### Saisie d'un très petit nombre "
   ]
  },
  {
   "cell_type": "code",
   "execution_count": null,
   "metadata": {
    "id": "N24mCqiq3n2b"
   },
   "outputs": [],
   "source": [
    "def pythagore(a, b):#### Création de la fonction Pytagore\n",
    "  ##### Retourner hypothénuse d'un triangle rectangle\n",
    "  c = (a**2 + b**2)**(1/2)\n",
    "  return c\n"
   ]
  },
  {
   "cell_type": "code",
   "execution_count": null,
   "metadata": {
    "id": "2MAvIY9320mi"
   },
   "outputs": [],
   "source": [
    "*66544y3^^^==$$**ù^*6$$^**665565556***))=^%µ£¨*66666*"
   ]
  },
  {
   "cell_type": "code",
   "execution_count": null,
   "metadata": {
    "colab": {
     "base_uri": "https://localhost:8080/"
    },
    "executionInfo": {
     "elapsed": 244,
     "status": "ok",
     "timestamp": 1636471607857,
     "user": {
      "displayName": "Yacine ASLIMI",
      "photoUrl": "https://lh3.googleusercontent.com/a/default-user=s64",
      "userId": "17203730376393528118"
     },
     "user_tz": -60
    },
    "id": "A_JsXpk6BNOg",
    "outputId": "a4ac4d37-61b6-4952-866c-2d65040f91e1"
   },
   "outputs": [
    {
     "data": {
      "text/plain": [
       "5.0"
      ]
     },
     "execution_count": 10,
     "metadata": {},
     "output_type": "execute_result"
    }
   ],
   "source": [
    "pythagore(3, 4) #### FOnction 1: OK"
   ]
  },
  {
   "cell_type": "code",
   "execution_count": null,
   "metadata": {
    "colab": {
     "base_uri": "https://localhost:8080/",
     "height": 262
    },
    "executionInfo": {
     "elapsed": 251,
     "status": "error",
     "timestamp": 1635879623936,
     "user": {
      "displayName": "Yacine ASLIMI",
      "photoUrl": "https://lh3.googleusercontent.com/a/default-user=s64",
      "userId": "17203730376393528118"
     },
     "user_tz": -60
    },
    "id": "UK5AA9X-Bghg",
    "outputId": "ff66b94d-c5dd-445a-d43d-03064612d7ef"
   },
   "outputs": [
    {
     "ename": "TypeError",
     "evalue": "ignored",
     "output_type": "error",
     "traceback": [
      "\u001b[0;31m---------------------------------------------------------------------------\u001b[0m",
      "\u001b[0;31mTypeError\u001b[0m                                 Traceback (most recent call last)",
      "\u001b[0;32m<ipython-input-86-e83acc83f9ae>\u001b[0m in \u001b[0;36m<module>\u001b[0;34m()\u001b[0m\n\u001b[0;32m----> 1\u001b[0;31m \u001b[0mpythagore\u001b[0m\u001b[0;34m(\u001b[0m\u001b[0;36m3\u001b[0m\u001b[0;34m,\u001b[0m \u001b[0;34m\"e\"\u001b[0m\u001b[0;34m)\u001b[0m\u001b[0;34m\u001b[0m\u001b[0;34m\u001b[0m\u001b[0m\n\u001b[0m",
      "\u001b[0;32m<ipython-input-84-1574d1fa21fc>\u001b[0m in \u001b[0;36mpythagore\u001b[0;34m(a, b)\u001b[0m\n\u001b[1;32m      1\u001b[0m \u001b[0;32mdef\u001b[0m \u001b[0mpythagore\u001b[0m\u001b[0;34m(\u001b[0m\u001b[0ma\u001b[0m\u001b[0;34m,\u001b[0m \u001b[0mb\u001b[0m\u001b[0;34m)\u001b[0m\u001b[0;34m:\u001b[0m\u001b[0;31m#### Création de la fonction Pytagore\u001b[0m\u001b[0;34m\u001b[0m\u001b[0;34m\u001b[0m\u001b[0m\n\u001b[1;32m      2\u001b[0m   \u001b[0;31m##### Retourner hypothénuse d'un triangle rectangle\u001b[0m\u001b[0;34m\u001b[0m\u001b[0;34m\u001b[0m\u001b[0;34m\u001b[0m\u001b[0m\n\u001b[0;32m----> 3\u001b[0;31m   \u001b[0mc\u001b[0m \u001b[0;34m=\u001b[0m \u001b[0;34m(\u001b[0m\u001b[0ma\u001b[0m\u001b[0;34m**\u001b[0m\u001b[0;36m2\u001b[0m \u001b[0;34m+\u001b[0m \u001b[0mb\u001b[0m\u001b[0;34m**\u001b[0m\u001b[0;36m2\u001b[0m\u001b[0;34m)\u001b[0m\u001b[0;34m**\u001b[0m\u001b[0;34m(\u001b[0m\u001b[0;36m1\u001b[0m\u001b[0;34m/\u001b[0m\u001b[0;36m2\u001b[0m\u001b[0;34m)\u001b[0m\u001b[0;34m\u001b[0m\u001b[0;34m\u001b[0m\u001b[0m\n\u001b[0m\u001b[1;32m      4\u001b[0m   \u001b[0;32mreturn\u001b[0m \u001b[0mc\u001b[0m\u001b[0;34m\u001b[0m\u001b[0;34m\u001b[0m\u001b[0m\n",
      "\u001b[0;31mTypeError\u001b[0m: unsupported operand type(s) for ** or pow(): 'str' and 'int'"
     ]
    }
   ],
   "source": [
    "pythagore(3, \"e\")"
   ]
  },
  {
   "cell_type": "code",
   "execution_count": 22,
   "metadata": {
    "executionInfo": {
     "elapsed": 654,
     "status": "ok",
     "timestamp": 1636800574724,
     "user": {
      "displayName": "Yacine ASLIMI",
      "photoUrl": "https://lh3.googleusercontent.com/a/default-user=s64",
      "userId": "17203730376393528118"
     },
     "user_tz": -60
    },
    "id": "v8CAMFob3bKC"
   },
   "outputs": [],
   "source": [
    "def calcul(a, b):\n",
    "   c = (a**2 + b**2)**(1/2)\n",
    "   return c"
   ]
  },
  {
   "cell_type": "code",
   "execution_count": 23,
   "metadata": {
    "colab": {
     "base_uri": "https://localhost:8080/"
    },
    "executionInfo": {
     "elapsed": 25,
     "status": "ok",
     "timestamp": 1636800575283,
     "user": {
      "displayName": "Yacine ASLIMI",
      "photoUrl": "https://lh3.googleusercontent.com/a/default-user=s64",
      "userId": "17203730376393528118"
     },
     "user_tz": -60
    },
    "id": "bVCNShcD3jSE",
    "outputId": "added70e-0c99-48b4-8409-69bebd16b354"
   },
   "outputs": [
    {
     "data": {
      "text/plain": [
       "5.0"
      ]
     },
     "execution_count": 23,
     "metadata": {},
     "output_type": "execute_result"
    }
   ],
   "source": [
    "calcul(3, 4)"
   ]
  },
  {
   "cell_type": "code",
   "execution_count": 30,
   "metadata": {
    "executionInfo": {
     "elapsed": 218,
     "status": "ok",
     "timestamp": 1636800731098,
     "user": {
      "displayName": "Yacine ASLIMI",
      "photoUrl": "https://lh3.googleusercontent.com/a/default-user=s64",
      "userId": "17203730376393528118"
     },
     "user_tz": -60
    },
    "id": "mlRLUY4CBYa8"
   },
   "outputs": [],
   "source": [
    "def pythagore(a, b):#### Création de la fonction Pytagore\n",
    "  #### Variable en entrée: non str\n",
    "\n",
    "  #### Si a ou b est un str alors\n",
    "  #### Message erreur: Impossibilté saisir str dans la fonction\n",
    "\n",
    "  if (type(a)==str) or (type(b)==str):\n",
    "    print(\"Impossibilité de saisir un str dans la fonction\")\n",
    "    print(\"Veuillez saisir un valeur numérique:\")\n",
    "    if(type(a) == str) & (type(b) == int):\n",
    "      while ((type(a) == str) & (type(b) == int)): #### Tant que le type de a est un str et le tpe de b un non str\n",
    "        try:\n",
    "            a = int(input()) #### Saisie d'une nouvelle valeur pour a\n",
    "        except ValueError:\n",
    "            print(\"La str n'est pas castable en int\")\n",
    "            a = int(input())\n",
    "    elif (type(b) == str) & (type(a) == int):\n",
    "      \n",
    "        while (type(b) == str) & (type(a) == int):\n",
    "          try:\n",
    "            b = int(input()) #### Saisie d'une nouvelle valeur pour b\n",
    "          except ValueError:\n",
    "            print(\"La str n'est pas castable en int\")\n",
    "            b = int(input())\n",
    "    else:\n",
    "      a = int(input()) #### Saisie d'une nouvelle valeur pour a\n",
    "      b = int(input()) #### Saisie d'une nouvelle valeur pour b\n",
    "\n",
    "  return calcul(a, b) # ##### Retourner hypothénuse d'un triangle rectangle (Appel à la fonction calcul)\n",
    "  # else:\n",
    "  #   c = (a**2 + b**2)**(1/2)\n",
    "  #   return c\n"
   ]
  },
  {
   "cell_type": "code",
   "execution_count": 28,
   "metadata": {
    "colab": {
     "base_uri": "https://localhost:8080/"
    },
    "executionInfo": {
     "elapsed": 7182,
     "status": "ok",
     "timestamp": 1636800625135,
     "user": {
      "displayName": "Yacine ASLIMI",
      "photoUrl": "https://lh3.googleusercontent.com/a/default-user=s64",
      "userId": "17203730376393528118"
     },
     "user_tz": -60
    },
    "id": "Q_RhVfBbCMLI",
    "outputId": "01720313-bc91-492b-f156-732603ec6fa6"
   },
   "outputs": [
    {
     "name": "stdout",
     "output_type": "stream",
     "text": [
      "Impossibilité de saisir un str dans la fonction\n",
      "Veuillez saisir un valeur numérique:\n",
      "a\n",
      "La str n'est pas castable en int\n",
      "3\n"
     ]
    },
    {
     "data": {
      "text/plain": [
       "5.0"
      ]
     },
     "execution_count": 28,
     "metadata": {},
     "output_type": "execute_result"
    }
   ],
   "source": [
    "pythagore(\"a\", 4) #### ok"
   ]
  },
  {
   "cell_type": "code",
   "execution_count": 31,
   "metadata": {
    "colab": {
     "base_uri": "https://localhost:8080/"
    },
    "executionInfo": {
     "elapsed": 4384,
     "status": "ok",
     "timestamp": 1636800751537,
     "user": {
      "displayName": "Yacine ASLIMI",
      "photoUrl": "https://lh3.googleusercontent.com/a/default-user=s64",
      "userId": "17203730376393528118"
     },
     "user_tz": -60
    },
    "id": "wiiJssDo4GdQ",
    "outputId": "00fbd42d-b46f-48b6-b79e-2151afdce4e5"
   },
   "outputs": [
    {
     "name": "stdout",
     "output_type": "stream",
     "text": [
      "Impossibilité de saisir un str dans la fonction\n",
      "Veuillez saisir un valeur numérique:\n",
      "a\n",
      "La str n'est pas castable en int\n",
      "2\n"
     ]
    },
    {
     "data": {
      "text/plain": [
       "3.605551275463989"
      ]
     },
     "execution_count": 31,
     "metadata": {},
     "output_type": "execute_result"
    }
   ],
   "source": [
    "pythagore(3, \"a\") #### ok"
   ]
  },
  {
   "cell_type": "code",
   "execution_count": 32,
   "metadata": {
    "colab": {
     "base_uri": "https://localhost:8080/"
    },
    "executionInfo": {
     "elapsed": 5444,
     "status": "ok",
     "timestamp": 1636800763430,
     "user": {
      "displayName": "Yacine ASLIMI",
      "photoUrl": "https://lh3.googleusercontent.com/a/default-user=s64",
      "userId": "17203730376393528118"
     },
     "user_tz": -60
    },
    "id": "JMSza_4d4QLS",
    "outputId": "c8f00c8d-5bb9-4d52-ca25-18bae737533a"
   },
   "outputs": [
    {
     "name": "stdout",
     "output_type": "stream",
     "text": [
      "Impossibilité de saisir un str dans la fonction\n",
      "Veuillez saisir un valeur numérique:\n",
      "3\n",
      "4\n"
     ]
    },
    {
     "data": {
      "text/plain": [
       "5.0"
      ]
     },
     "execution_count": 32,
     "metadata": {},
     "output_type": "execute_result"
    }
   ],
   "source": [
    "pythagore(\"a\", \"b\")"
   ]
  },
  {
   "cell_type": "code",
   "execution_count": 33,
   "metadata": {
    "colab": {
     "base_uri": "https://localhost:8080/"
    },
    "executionInfo": {
     "elapsed": 14,
     "status": "ok",
     "timestamp": 1636800763652,
     "user": {
      "displayName": "Yacine ASLIMI",
      "photoUrl": "https://lh3.googleusercontent.com/a/default-user=s64",
      "userId": "17203730376393528118"
     },
     "user_tz": -60
    },
    "id": "O8nCbYw47Fmw",
    "outputId": "ea800a82-fafd-4c14-c33b-ed328de1a6f6"
   },
   "outputs": [
    {
     "data": {
      "text/plain": [
       "(1+4j)"
      ]
     },
     "execution_count": 33,
     "metadata": {},
     "output_type": "execute_result"
    }
   ],
   "source": [
    "1 +4j"
   ]
  },
  {
   "cell_type": "code",
   "execution_count": null,
   "metadata": {
    "colab": {
     "base_uri": "https://localhost:8080/"
    },
    "executionInfo": {
     "elapsed": 385,
     "status": "ok",
     "timestamp": 1636715617677,
     "user": {
      "displayName": "Yacine ASLIMI",
      "photoUrl": "https://lh3.googleusercontent.com/a/default-user=s64",
      "userId": "17203730376393528118"
     },
     "user_tz": -60
    },
    "id": "xxzqudAY7WCO",
    "outputId": "0dc853d2-907a-41a9-9dc0-e3eb647a5875"
   },
   "outputs": [
    {
     "data": {
      "text/plain": [
       "1.0"
      ]
     },
     "execution_count": 34,
     "metadata": {},
     "output_type": "execute_result"
    }
   ],
   "source": [
    "(1+4j).real"
   ]
  },
  {
   "cell_type": "code",
   "execution_count": 35,
   "metadata": {
    "executionInfo": {
     "elapsed": 253,
     "status": "ok",
     "timestamp": 1636803153776,
     "user": {
      "displayName": "Yacine ASLIMI",
      "photoUrl": "https://lh3.googleusercontent.com/a/default-user=s64",
      "userId": "17203730376393528118"
     },
     "user_tz": -60
    },
    "id": "IjYXUK1_65gR"
   },
   "outputs": [],
   "source": [
    "def is_cplx(a, b):\n",
    "  #### Si les nombre entrée sont complexes\n",
    "  if (type(a) == complex) and (type(b) ==int):\n",
    "     a = a.real #### On prend la partie réelle du nombre et on réaffecte la valeur de a avec\n",
    "  elif (type(b) == complex)  and (type(a) ==int):\n",
    "     b = b.real #### On prend la partie réelle du nombre et on réaffecte la valeur de b avec\n",
    "  else:\n",
    "     a = a.real #### Partie réelle des deux nombres\n",
    "     b = b.real\n",
    "     return a, b\n"
   ]
  },
  {
   "cell_type": "code",
   "execution_count": 37,
   "metadata": {
    "colab": {
     "base_uri": "https://localhost:8080/"
    },
    "executionInfo": {
     "elapsed": 252,
     "status": "ok",
     "timestamp": 1636803159503,
     "user": {
      "displayName": "Yacine ASLIMI",
      "photoUrl": "https://lh3.googleusercontent.com/a/default-user=s64",
      "userId": "17203730376393528118"
     },
     "user_tz": -60
    },
    "id": "VQFYtVEf8Qmv",
    "outputId": "73617214-858b-4d42-9920-12d5ba7b70d8"
   },
   "outputs": [
    {
     "data": {
      "text/plain": [
       "1.0"
      ]
     },
     "execution_count": 37,
     "metadata": {},
     "output_type": "execute_result"
    }
   ],
   "source": [
    "is_cplx(1 + 6j, 5 + 7j)[0]"
   ]
  },
  {
   "cell_type": "code",
   "execution_count": 38,
   "metadata": {
    "colab": {
     "base_uri": "https://localhost:8080/"
    },
    "executionInfo": {
     "elapsed": 248,
     "status": "ok",
     "timestamp": 1636803170437,
     "user": {
      "displayName": "Yacine ASLIMI",
      "photoUrl": "https://lh3.googleusercontent.com/a/default-user=s64",
      "userId": "17203730376393528118"
     },
     "user_tz": -60
    },
    "id": "mlfTFOJ2EkCE",
    "outputId": "1332ea07-8c6b-410d-ce9d-d239e83e0851"
   },
   "outputs": [
    {
     "data": {
      "text/plain": [
       "5.0"
      ]
     },
     "execution_count": 38,
     "metadata": {},
     "output_type": "execute_result"
    }
   ],
   "source": [
    "is_cplx(1 + 6j, 5 + 7j)[1]"
   ]
  },
  {
   "cell_type": "code",
   "execution_count": 39,
   "metadata": {
    "executionInfo": {
     "elapsed": 227,
     "status": "ok",
     "timestamp": 1636803233441,
     "user": {
      "displayName": "Yacine ASLIMI",
      "photoUrl": "https://lh3.googleusercontent.com/a/default-user=s64",
      "userId": "17203730376393528118"
     },
     "user_tz": -60
    },
    "id": "i86VMwTc6lr5"
   },
   "outputs": [],
   "source": [
    "def pythagore(a, b):#### Création de la fonction Pytagore\n",
    "  #### Variable en entrée: non str\n",
    "  ##############################################################################################\n",
    "  #### Cas 1: Chaine de caractère\n",
    "  ##############################################################################################\n",
    "  #### Si a ou b est un str alors\n",
    "  #### Message erreur: Impossibilté saisir str dans la fonction\n",
    "\n",
    "  if (type(a)==str) or (type(b)==str):\n",
    "    print(\"Impossibilité de saisir un str dans la fonction\")\n",
    "    print(\"Veuillez saisir un valeur numérique:\")\n",
    "    if(type(a) == str) & (type(b) == int):\n",
    "      a = int(input()) #### Saisie d'une nouvelle valeur pour a\n",
    "    elif (type(b) == str) & (type(a) == int):\n",
    "      b = int(input()) #### Saisie d'une nouvelle valeur pour b\n",
    "    else:\n",
    "      a = int(input()) #### Saisie d'une nouvelle valeur pour a\n",
    "      b = int(input()) #### Saisie d'une nouvelle valeur pour b\n",
    "  \n",
    "  ############################################################################################\"\"\n",
    "  #### Cas 2: Complexe\n",
    "  ##############################################################################################\n",
    "  elif (type(a) == complex) or (type(b) ==complex): #### Si l'une des deux valeurs saisie est cplx\n",
    "    is_cplx(a,b)\n",
    "    print(is_cplx(a,b)[0])\n",
    "    print(is_cplx(a,b)[1])\n",
    "    a = is_cplx(a,b)[0] #### Partie réelle du premier nombre complexe\n",
    "    b = is_cplx(a,b)[1] #### Partie réelle du second nombre complexe\n",
    "  return calcul(a, b) # ##### Retourner hypothénuse d'un triangle rectangle (Appel à la fonction calcul)\n",
    "  # else:\n",
    "  #   c = (a**2 + b**2)**(1/2)\n",
    "  #   return c\n"
   ]
  },
  {
   "cell_type": "code",
   "execution_count": 40,
   "metadata": {
    "colab": {
     "base_uri": "https://localhost:8080/",
     "height": 132
    },
    "executionInfo": {
     "elapsed": 12,
     "status": "error",
     "timestamp": 1636803234468,
     "user": {
      "displayName": "Yacine ASLIMI",
      "photoUrl": "https://lh3.googleusercontent.com/a/default-user=s64",
      "userId": "17203730376393528118"
     },
     "user_tz": -60
    },
    "id": "2gR5WnATjkvf",
    "outputId": "a280e5e8-077a-4b34-cc94-baf54c885f2a"
   },
   "outputs": [
    {
     "ename": "SyntaxError",
     "evalue": "ignored",
     "output_type": "error",
     "traceback": [
      "\u001b[0;36m  File \u001b[0;32m\"<ipython-input-40-f38b7c815bab>\"\u001b[0;36m, line \u001b[0;32m1\u001b[0m\n\u001b[0;31m    1 - 9    j\u001b[0m\n\u001b[0m             ^\u001b[0m\n\u001b[0;31mSyntaxError\u001b[0m\u001b[0;31m:\u001b[0m invalid syntax\n"
     ]
    }
   ],
   "source": [
    "1 - 9    j"
   ]
  },
  {
   "cell_type": "code",
   "execution_count": 41,
   "metadata": {
    "executionInfo": {
     "elapsed": 5,
     "status": "ok",
     "timestamp": 1636803235576,
     "user": {
      "displayName": "Yacine ASLIMI",
      "photoUrl": "https://lh3.googleusercontent.com/a/default-user=s64",
      "userId": "17203730376393528118"
     },
     "user_tz": -60
    },
    "id": "C3kL130KjwQA"
   },
   "outputs": [],
   "source": [
    "#\"1 - 9    j\".replace(\" \", \"\")"
   ]
  },
  {
   "cell_type": "code",
   "execution_count": 42,
   "metadata": {
    "executionInfo": {
     "elapsed": 30,
     "status": "ok",
     "timestamp": 1636803236833,
     "user": {
      "displayName": "Yacine ASLIMI",
      "photoUrl": "https://lh3.googleusercontent.com/a/default-user=s64",
      "userId": "17203730376393528118"
     },
     "user_tz": -60
    },
    "id": "iHLAxN5Dj3Hd"
   },
   "outputs": [],
   "source": [
    "#complex(\"1 - 9    j\".replace(\" \", \"\"))"
   ]
  },
  {
   "cell_type": "code",
   "execution_count": 43,
   "metadata": {
    "colab": {
     "base_uri": "https://localhost:8080/"
    },
    "executionInfo": {
     "elapsed": 18,
     "status": "ok",
     "timestamp": 1636803237426,
     "user": {
      "displayName": "Yacine ASLIMI",
      "photoUrl": "https://lh3.googleusercontent.com/a/default-user=s64",
      "userId": "17203730376393528118"
     },
     "user_tz": -60
    },
    "id": "-G5bkBg19v9N",
    "outputId": "f115b49c-5718-4de6-d6ad-e0553b810b36"
   },
   "outputs": [
    {
     "data": {
      "text/plain": [
       "1.0"
      ]
     },
     "execution_count": 43,
     "metadata": {},
     "output_type": "execute_result"
    }
   ],
   "source": [
    "is_cplx(1 + 6j, 5 + 7j)[0] ### Premier élement"
   ]
  },
  {
   "cell_type": "code",
   "execution_count": 44,
   "metadata": {
    "colab": {
     "base_uri": "https://localhost:8080/"
    },
    "executionInfo": {
     "elapsed": 295,
     "status": "ok",
     "timestamp": 1636803239069,
     "user": {
      "displayName": "Yacine ASLIMI",
      "photoUrl": "https://lh3.googleusercontent.com/a/default-user=s64",
      "userId": "17203730376393528118"
     },
     "user_tz": -60
    },
    "id": "D0IBcs_l919U",
    "outputId": "81e6510c-5e9b-476b-82a5-3b3843dbcbce"
   },
   "outputs": [
    {
     "data": {
      "text/plain": [
       "5.0"
      ]
     },
     "execution_count": 44,
     "metadata": {},
     "output_type": "execute_result"
    }
   ],
   "source": [
    "is_cplx(1 + 6j, 5 + 7j)[1] ### Deuxième élement"
   ]
  },
  {
   "cell_type": "code",
   "execution_count": 45,
   "metadata": {
    "colab": {
     "base_uri": "https://localhost:8080/"
    },
    "executionInfo": {
     "elapsed": 271,
     "status": "ok",
     "timestamp": 1636803249904,
     "user": {
      "displayName": "Yacine ASLIMI",
      "photoUrl": "https://lh3.googleusercontent.com/a/default-user=s64",
      "userId": "17203730376393528118"
     },
     "user_tz": -60
    },
    "id": "bniFgmv46l1u",
    "outputId": "20e34e98-5f9d-40a1-fd23-e772b84b9729"
   },
   "outputs": [
    {
     "name": "stdout",
     "output_type": "stream",
     "text": [
      "3.0\n",
      "4.0\n"
     ]
    },
    {
     "data": {
      "text/plain": [
       "5.0"
      ]
     },
     "execution_count": 45,
     "metadata": {},
     "output_type": "execute_result"
    }
   ],
   "source": [
    "pythagore(3 + 6j, 4 + 7j) ### Test pour les nombre complexe : ok"
   ]
  },
  {
   "cell_type": "code",
   "execution_count": null,
   "metadata": {
    "colab": {
     "base_uri": "https://localhost:8080/"
    },
    "executionInfo": {
     "elapsed": 10384,
     "status": "ok",
     "timestamp": 1636481182157,
     "user": {
      "displayName": "Yacine ASLIMI",
      "photoUrl": "https://lh3.googleusercontent.com/a/default-user=s64",
      "userId": "17203730376393528118"
     },
     "user_tz": -60
    },
    "id": "_iv7z3vt6l-A",
    "outputId": "07eff4d3-a1c0-403b-d015-96f6daa087ee"
   },
   "outputs": [
    {
     "name": "stdout",
     "output_type": "stream",
     "text": [
      "Impossibilité de saisir un str dans la fonction\n",
      "Veuillez saisir un valeur numérique:\n",
      "1\n",
      "1\n"
     ]
    },
    {
     "data": {
      "text/plain": [
       "1.4142135623730951"
      ]
     },
     "execution_count": 20,
     "metadata": {},
     "output_type": "execute_result"
    }
   ],
   "source": [
    "#### Test sur les str\n",
    "#pythagore(\"a\", 4) \n",
    "pythagore(\"a\", \"b\") #### Test ok"
   ]
  },
  {
   "cell_type": "code",
   "execution_count": null,
   "metadata": {
    "id": "xinKkxer6mQ2"
   },
   "outputs": [],
   "source": [
    "#### Saisie d'un nombre négatif: ok\n",
    "#### Saisie d'un très grand nombre\n",
    "#### Saisie d'un très petit nombre "
   ]
  },
  {
   "cell_type": "code",
   "execution_count": null,
   "metadata": {
    "id": "Vcb4i9s__1Y3"
   },
   "outputs": [],
   "source": [
    "def neg(a,b):\n",
    "  #### Si l'une des deux valeurs est négative alors\n",
    "  if (a < 0) and (b > 0):\n",
    "    a = abs(a)\n",
    "    #b = abs(b)    #### on passe cette valeur à la valeur absolue\n",
    "    return (a, b) #### On calcul c\n",
    "  elif (a > 0) and (b < 0): #### Si b est négatif\n",
    "    b = abs(b) \n",
    "    return (a, b)\n",
    "  else:\n",
    "    a = abs(a)\n",
    "    b = abs(b) \n",
    "    return(a, b)"
   ]
  },
  {
   "cell_type": "code",
   "execution_count": null,
   "metadata": {
    "colab": {
     "base_uri": "https://localhost:8080/"
    },
    "executionInfo": {
     "elapsed": 217,
     "status": "ok",
     "timestamp": 1636481385910,
     "user": {
      "displayName": "Yacine ASLIMI",
      "photoUrl": "https://lh3.googleusercontent.com/a/default-user=s64",
      "userId": "17203730376393528118"
     },
     "user_tz": -60
    },
    "id": "cX87n4Gm_u10",
    "outputId": "a5f45f5d-4f1d-4d0f-85cc-b1df56925e15"
   },
   "outputs": [
    {
     "data": {
      "text/plain": [
       "(3, 4)"
      ]
     },
     "execution_count": 31,
     "metadata": {},
     "output_type": "execute_result"
    }
   ],
   "source": [
    "neg(-3, -4)"
   ]
  },
  {
   "cell_type": "code",
   "execution_count": null,
   "metadata": {
    "colab": {
     "base_uri": "https://localhost:8080/"
    },
    "executionInfo": {
     "elapsed": 209,
     "status": "ok",
     "timestamp": 1636481389800,
     "user": {
      "displayName": "Yacine ASLIMI",
      "photoUrl": "https://lh3.googleusercontent.com/a/default-user=s64",
      "userId": "17203730376393528118"
     },
     "user_tz": -60
    },
    "id": "K5pMHusvEBAi",
    "outputId": "9deab466-0813-454c-a86f-b8860a022020"
   },
   "outputs": [
    {
     "data": {
      "text/plain": [
       "3"
      ]
     },
     "execution_count": 32,
     "metadata": {},
     "output_type": "execute_result"
    }
   ],
   "source": [
    "neg(-3, 4)[0]"
   ]
  },
  {
   "cell_type": "code",
   "execution_count": null,
   "metadata": {
    "colab": {
     "base_uri": "https://localhost:8080/"
    },
    "executionInfo": {
     "elapsed": 19,
     "status": "ok",
     "timestamp": 1636481390949,
     "user": {
      "displayName": "Yacine ASLIMI",
      "photoUrl": "https://lh3.googleusercontent.com/a/default-user=s64",
      "userId": "17203730376393528118"
     },
     "user_tz": -60
    },
    "id": "g5i3j0Sj_u5u",
    "outputId": "e73468b4-6dbe-4596-80b0-a39fc06cef74"
   },
   "outputs": [
    {
     "data": {
      "text/plain": [
       "4"
      ]
     },
     "execution_count": 33,
     "metadata": {},
     "output_type": "execute_result"
    }
   ],
   "source": [
    "neg(3, -4) [1]"
   ]
  },
  {
   "cell_type": "code",
   "execution_count": null,
   "metadata": {
    "colab": {
     "base_uri": "https://localhost:8080/"
    },
    "executionInfo": {
     "elapsed": 217,
     "status": "ok",
     "timestamp": 1636481392682,
     "user": {
      "displayName": "Yacine ASLIMI",
      "photoUrl": "https://lh3.googleusercontent.com/a/default-user=s64",
      "userId": "17203730376393528118"
     },
     "user_tz": -60
    },
    "id": "wHdCV9CB_vC9",
    "outputId": "59896b78-4cc1-4a91-c08a-fae28570e04a"
   },
   "outputs": [
    {
     "data": {
      "text/plain": [
       "(3, 4)"
      ]
     },
     "execution_count": 34,
     "metadata": {},
     "output_type": "execute_result"
    }
   ],
   "source": [
    "neg(-3, -4) #### Test OK pour les valeur négative "
   ]
  },
  {
   "cell_type": "code",
   "execution_count": null,
   "metadata": {
    "id": "XMmXtz01BL4_"
   },
   "outputs": [],
   "source": [
    "def pythagore(a, b):#### Création de la fonction Pytagore\n",
    "  #### Variable en entrée: non str\n",
    "  ##############################################################################################\n",
    "  #### Cas 1: Chaine de caractère\n",
    "  ##############################################################################################\n",
    "  #### Si a ou b est un str alors\n",
    "  #### Message erreur: Impossibilté saisir str dans la fonction\n",
    "\n",
    "  if (type(a)==str) or (type(b)==str):\n",
    "    print(\"Impossibilité de saisir un str dans la fonction\")\n",
    "    print(\"Veuillez saisir un valeur numérique:\")\n",
    "    if(type(a) == str) & (type(b) == int):\n",
    "      a = int(input()) #### Saisie d'une nouvelle valeur pour a\n",
    "    elif (type(b) == str) & (type(a) == int):\n",
    "      b = int(input()) #### Saisie d'une nouvelle valeur pour b\n",
    "    else:\n",
    "      a = int(input()) #### Saisie d'une nouvelle valeur pour a\n",
    "      b = int(input()) #### Saisie d'une nouvelle valeur pour b\n",
    "  \n",
    "  ############################################################################################\"\"\n",
    "  #### Cas 2: Complexe\n",
    "  ##############################################################################################\n",
    "  elif (type(a) == complex) or (type(b) ==complex): #### Si l'une des deux valeurs saisie est cplx\n",
    "    is_cplx(a,b)\n",
    "    print(is_cplx(a,b)[0])\n",
    "    print(is_cplx(a,b)[1])\n",
    "    a = is_cplx(a,b)[0] #### Partie réelle du premier nombre complexe\n",
    "    b = is_cplx(a,b)[1] #### Partie réelle du second nombre complexe\n",
    "  \n",
    "  ############################################################################################\"\"\n",
    "  #### Cas 3: Entier Négatif\n",
    "  ##############################################################################################\n",
    "  elif (type(a) in [int, float]) and (type(b) in [int, float]):\n",
    "    #neg(a, b) #### Résultat de l'opération\n",
    "    a = neg(a,b)[0] #### Varaible a (valeur absolue)\n",
    "    b = neg(a,b)[1] #### Variable b (valeur absolue)\n",
    "    # print(a)\n",
    "    # print(b)\n",
    "    # print(neg(a, b))\n",
    "\n",
    "  ###########################################################################################\"\"\n",
    "  #### Cas 4: Longeur de la variable \n",
    "  ##############################################################################################\n",
    "  elif (len(str(b)) > 16) or (len(str(a)) > 16): #### Si la longeur de l'une des deux variables est > à 16\n",
    "    limit_digit(a, b)\n",
    "    a = limit_digit(a, b)[0] #### J'affiche a\n",
    "    b = limit_digit(a, b)[1] ### J'affiche b\n",
    "\n",
    "  return calcul(a, b) # ##### Retourner hypothénuse d'un triangle rectangle (Appel à la fonction calcul)\n",
    "  # else:\n",
    "  #   c = (a**2 + b**2)**(1/2)\n",
    "  #   return c\n"
   ]
  },
  {
   "cell_type": "code",
   "execution_count": null,
   "metadata": {
    "id": "BrtqSmcsB1Hm"
   },
   "outputs": [],
   "source": [
    "a = \"4\""
   ]
  },
  {
   "cell_type": "code",
   "execution_count": null,
   "metadata": {
    "colab": {
     "base_uri": "https://localhost:8080/"
    },
    "executionInfo": {
     "elapsed": 221,
     "status": "ok",
     "timestamp": 1635964873584,
     "user": {
      "displayName": "Yacine ASLIMI",
      "photoUrl": "https://lh3.googleusercontent.com/a/default-user=s64",
      "userId": "17203730376393528118"
     },
     "user_tz": -60
    },
    "id": "V2_-O3YvBMHk",
    "outputId": "4652c68a-718f-480b-c55a-db2e0bc36c1b"
   },
   "outputs": [
    {
     "data": {
      "text/plain": [
       "False"
      ]
     },
     "execution_count": 237,
     "metadata": {},
     "output_type": "execute_result"
    }
   ],
   "source": [
    "type(a) in [int, float]"
   ]
  },
  {
   "cell_type": "code",
   "execution_count": null,
   "metadata": {
    "colab": {
     "base_uri": "https://localhost:8080/"
    },
    "executionInfo": {
     "elapsed": 341,
     "status": "ok",
     "timestamp": 1635964874296,
     "user": {
      "displayName": "Yacine ASLIMI",
      "photoUrl": "https://lh3.googleusercontent.com/a/default-user=s64",
      "userId": "17203730376393528118"
     },
     "user_tz": -60
    },
    "id": "yp9YfDiXBMM2",
    "outputId": "a1ab775e-81e7-4e98-a4ec-b93572e1260a"
   },
   "outputs": [
    {
     "data": {
      "text/plain": [
       "5.0"
      ]
     },
     "execution_count": 238,
     "metadata": {},
     "output_type": "execute_result"
    }
   ],
   "source": [
    "pythagore(3., 4.) ### Ok int #### Ok float"
   ]
  },
  {
   "cell_type": "code",
   "execution_count": null,
   "metadata": {
    "colab": {
     "base_uri": "https://localhost:8080/"
    },
    "executionInfo": {
     "elapsed": 25,
     "status": "ok",
     "timestamp": 1635964874297,
     "user": {
      "displayName": "Yacine ASLIMI",
      "photoUrl": "https://lh3.googleusercontent.com/a/default-user=s64",
      "userId": "17203730376393528118"
     },
     "user_tz": -60
    },
    "id": "BgbhF5EECSqd",
    "outputId": "7fd9a9b4-463c-4744-e138-25a2006c1c44"
   },
   "outputs": [
    {
     "data": {
      "text/plain": [
       "5.0"
      ]
     },
     "execution_count": 239,
     "metadata": {},
     "output_type": "execute_result"
    }
   ],
   "source": [
    "pythagore(-4, 3.) ### Ok int ### ok float"
   ]
  },
  {
   "cell_type": "code",
   "execution_count": null,
   "metadata": {
    "colab": {
     "base_uri": "https://localhost:8080/"
    },
    "executionInfo": {
     "elapsed": 17,
     "status": "ok",
     "timestamp": 1635964874298,
     "user": {
      "displayName": "Yacine ASLIMI",
      "photoUrl": "https://lh3.googleusercontent.com/a/default-user=s64",
      "userId": "17203730376393528118"
     },
     "user_tz": -60
    },
    "id": "sLP9VPpoCSvL",
    "outputId": "47c16e68-6c40-4ec7-e9f0-62ee10f71851"
   },
   "outputs": [
    {
     "data": {
      "text/plain": [
       "5.0"
      ]
     },
     "execution_count": 240,
     "metadata": {},
     "output_type": "execute_result"
    }
   ],
   "source": [
    "pythagore(-4., -3.) #### ok int #### ok float"
   ]
  },
  {
   "cell_type": "code",
   "execution_count": null,
   "metadata": {
    "id": "rM1rP59HCSzf"
   },
   "outputs": [],
   "source": [
    "#### Cas 4: Saisie d'un très grand nombre"
   ]
  },
  {
   "cell_type": "code",
   "execution_count": null,
   "metadata": {
    "colab": {
     "base_uri": "https://localhost:8080/"
    },
    "executionInfo": {
     "elapsed": 223,
     "status": "ok",
     "timestamp": 1635965263345,
     "user": {
      "displayName": "Yacine ASLIMI",
      "photoUrl": "https://lh3.googleusercontent.com/a/default-user=s64",
      "userId": "17203730376393528118"
     },
     "user_tz": -60
    },
    "id": "j3D9ziW3G860",
    "outputId": "1c131b5d-0f7c-40b4-fa75-ef0834ebe14e"
   },
   "outputs": [
    {
     "name": "stdout",
     "output_type": "stream",
     "text": [
      "100000000000000000000000000000000000000000000000000000000000000000000000000000000000000000000000000000000000000000000000000000000000000000000000000000000000000000000000000000000000000000000000000000000000000000000000000000000000000000000000000000000000000000000000000000000000000000000000000000000000000000000000000000000000000000000000000000000000000000000000000000000000000000000000000000000000000000000000000000000000000000000000000000000000000000000000000000000000000000000000000000000000000000000000000000000000000000000000000000000000000000000000000000000000000000000000000000000000000000000000000000000000000000000000000000000000000000000000000000000000000000000000000000000000000000000000000000000000000000000000000000000000000000000000000000000000000000000000000000000000000000000000000000000000000000000000000002\n"
     ]
    }
   ],
   "source": [
    "print(99999999999999999999999999999999999999999999999999999999999999999999999999999999999999999999999999999999999999999999999999999999999999999999999999999999999999999999999999999999999999999999999999999999999999999999999999999999999999999999999999999999999999999999999999999999999999999999999999999999999999999999999999999999999999999999999999999999999999999999999999999999999999999999999999999999999999999999999999999999999999999999999999999999999999999999999999999999999999999999999999999999999999999999999999999999999999999999999999999999999999999999999999999999999999999999999999999999999999999999999999999999999999999999999999999999999999999999999999999999999999999999999999999999999999999999999999999999999999999999999999999999999999999999999999999999999999999999999999999999999999999999999999999999999999999999999999999 +1 +2)"
   ]
  },
  {
   "cell_type": "code",
   "execution_count": null,
   "metadata": {
    "colab": {
     "base_uri": "https://localhost:8080/"
    },
    "executionInfo": {
     "elapsed": 190,
     "status": "ok",
     "timestamp": 1635965304283,
     "user": {
      "displayName": "Yacine ASLIMI",
      "photoUrl": "https://lh3.googleusercontent.com/a/default-user=s64",
      "userId": "17203730376393528118"
     },
     "user_tz": -60
    },
    "id": "YbrTh23YG9G9",
    "outputId": "3e788145-c62f-435a-c051-ea56d76fd18d"
   },
   "outputs": [
    {
     "data": {
      "text/plain": [
       "2"
      ]
     },
     "execution_count": 251,
     "metadata": {},
     "output_type": "execute_result"
    }
   ],
   "source": [
    "##### Définir une limite sur le nombre de digit\n",
    "\n",
    "\n",
    "len([3,4])"
   ]
  },
  {
   "cell_type": "code",
   "execution_count": null,
   "metadata": {
    "colab": {
     "base_uri": "https://localhost:8080/"
    },
    "executionInfo": {
     "elapsed": 197,
     "status": "ok",
     "timestamp": 1635965330403,
     "user": {
      "displayName": "Yacine ASLIMI",
      "photoUrl": "https://lh3.googleusercontent.com/a/default-user=s64",
      "userId": "17203730376393528118"
     },
     "user_tz": -60
    },
    "id": "vsO-3ZaEG9K_",
    "outputId": "9b063176-84e7-464e-c04d-87de0f37b326"
   },
   "outputs": [
    {
     "data": {
      "text/plain": [
       "36"
      ]
     },
     "execution_count": 254,
     "metadata": {},
     "output_type": "execute_result"
    }
   ],
   "source": [
    "len(str(999999999999999999999999999999999993)) #### "
   ]
  },
  {
   "cell_type": "code",
   "execution_count": 46,
   "metadata": {
    "executionInfo": {
     "elapsed": 264,
     "status": "ok",
     "timestamp": 1636803447425,
     "user": {
      "displayName": "Yacine ASLIMI",
      "photoUrl": "https://lh3.googleusercontent.com/a/default-user=s64",
      "userId": "17203730376393528118"
     },
     "user_tz": -60
    },
    "id": "acWJbSJeG9Q1"
   },
   "outputs": [],
   "source": [
    "#### Fonction tq\n",
    "#### Si le nombre de digit est > à la borne alors \n",
    "#### 1) Reinput\n",
    "#### Correction nombre\n",
    "\n",
    "def limit_digit(a, b, borne):\n",
    "  #### Si le nombre de digit est > à la borne alors \n",
    "  if (len(str(a)) > borne ) : #### SI la longeur de la valeur numérique et stictement > à la borne\n",
    "    # print(\"Le nombre saisie comporte plus de 16 digit, Veuillez le resaisir.\")\n",
    "    # a = int(input())\n",
    "    while((len(str(a)) > borne)): #### Tant que la longeur de a est > à 16 et que l'objet est non entier ( and (type(a) not in [int, float])\n",
    "      print(\"Le nombre saisie comporte plus de {} digit, Veuillez le resaisir.\".format(borne)) ####Affiche un message d'erreur\n",
    "      a = int(input()) #### Resaisir la valeur\n",
    "  elif (len(str(b)) > borne ):\n",
    "    while((len(str(b)) > borne)): #### Tant que la longeur de a est > à 16 et que l'objet est non entier ( and (type(a) not in [int, float])\n",
    "      print(\"la longeur de b\", len(str(b)))\n",
    "      print(\"Le nombre saisie comporte plus de {} digit, Veuillez le resaisir.\".format(borne)) # ####Affiche un message d'erreur\n",
    "      b = int(input()) #### Resaisir la valeur\n",
    "      print(\"Hello\")\n",
    "  elif ((len(str(b)) > borne and len(str(a)) > borne) ): #### SI les longeurs de a et b sont > supérieurs à la borne\n",
    "    while((len(str(b)) > borne) and (len(str(a)) > borne)  ) : #### Tant que la longeur de a est > à 16 et que l'objet est non entier ( and (type(a) not in [int, float])\n",
    "      print(\"Le nombre saisie comporte plus de {} digit, Veuillez le resaisir.\".format(borne)) #####Affiche un message d'erreur\n",
    "      #### Resaisir la valeur\n",
    "      a = int(input())\n",
    "      b = a #### \n",
    "      print(\"Data\")\n",
    "      #return(a, b)\n",
    "      #b = int(input()\n",
    "  else:\n",
    "    pass\n",
    "\n",
    "  return (a, b)"
   ]
  },
  {
   "cell_type": "code",
   "execution_count": 47,
   "metadata": {
    "colab": {
     "base_uri": "https://localhost:8080/"
    },
    "executionInfo": {
     "elapsed": 17138,
     "status": "ok",
     "timestamp": 1636803466103,
     "user": {
      "displayName": "Yacine ASLIMI",
      "photoUrl": "https://lh3.googleusercontent.com/a/default-user=s64",
      "userId": "17203730376393528118"
     },
     "user_tz": -60
    },
    "id": "Bvdn1cUVANjj",
    "outputId": "5644ccfc-3ae7-4d60-c235-75b2cd98cfa0"
   },
   "outputs": [
    {
     "name": "stdout",
     "output_type": "stream",
     "text": [
      "Le nombre saisie comporte plus de 4 digit, Veuillez le resaisir.\n",
      "3333333\n",
      "Le nombre saisie comporte plus de 4 digit, Veuillez le resaisir.\n",
      "3333333\n",
      "Le nombre saisie comporte plus de 4 digit, Veuillez le resaisir.\n",
      "222\n"
     ]
    },
    {
     "data": {
      "text/plain": [
       "(222, 555677)"
      ]
     },
     "execution_count": 47,
     "metadata": {},
     "output_type": "execute_result"
    }
   ],
   "source": [
    "limit_digit(5888888888, 555677, 4) #### Test avec deux valeurs"
   ]
  },
  {
   "cell_type": "code",
   "execution_count": null,
   "metadata": {
    "colab": {
     "base_uri": "https://localhost:8080/"
    },
    "executionInfo": {
     "elapsed": 3705,
     "status": "ok",
     "timestamp": 1636483246435,
     "user": {
      "displayName": "Yacine ASLIMI",
      "photoUrl": "https://lh3.googleusercontent.com/a/default-user=s64",
      "userId": "17203730376393528118"
     },
     "user_tz": -60
    },
    "id": "PYgSYhkF9Oz5",
    "outputId": "c646d2a6-ae88-4362-eb85-3ec623473193"
   },
   "outputs": [
    {
     "name": "stdout",
     "output_type": "stream",
     "text": [
      "Le nombre saisie comporte plus de 2 digit, Veuillez le resaisir.\n",
      "2\n"
     ]
    },
    {
     "data": {
      "text/plain": [
       "(2, 2)"
      ]
     },
     "execution_count": 73,
     "metadata": {},
     "output_type": "execute_result"
    }
   ],
   "source": [
    "limit_digit(44444, 2, 2)"
   ]
  },
  {
   "cell_type": "code",
   "execution_count": null,
   "metadata": {
    "id": "7M6foM_aCjU8"
   },
   "outputs": [],
   "source": [
    "def pythagore(a, b):#### Création de la fonction Pytagore\n",
    "  #### Variable en entrée: non str\n",
    "  ##############################################################################################\n",
    "  #### Cas 1: Chaine de caractère\n",
    "  ##############################################################################################\n",
    "  #### Si a ou b est un str alors\n",
    "  #### Message erreur: Impossibilté saisir str dans la fonction\n",
    "\n",
    "  if (type(a)==str) or (type(b)==str):\n",
    "    print(\"Impossibilité de saisir un str dans la fonction\")\n",
    "    print(\"Veuillez saisir un valeur numérique:\")\n",
    "    if(type(a) == str) & (type(b) == int):\n",
    "      a = int(input()) #### Saisie d'une nouvelle valeur pour a\n",
    "    elif (type(b) == str) & (type(a) == int):\n",
    "      b = int(input()) #### Saisie d'une nouvelle valeur pour b\n",
    "    else:\n",
    "      a = int(input()) #### Saisie d'une nouvelle valeur pour a\n",
    "      b = int(input()) #### Saisie d'une nouvelle valeur pour b\n",
    "  \n",
    "  ############################################################################################\"\"\n",
    "  #### Cas 2: Complexe\n",
    "  ##############################################################################################\n",
    "  elif (type(a) == complex) or (type(b) ==complex): #### Si l'une des deux valeurs saisie est cplx\n",
    "    is_cplx(a,b)\n",
    "    print(is_cplx(a,b)[0])\n",
    "    print(is_cplx(a,b)[1])\n",
    "    a = is_cplx(a,b)[0] #### Partie réelle du premier nombre complexe\n",
    "    b = is_cplx(a,b)[1] #### Partie réelle du second nombre complexe\n",
    "  \n",
    "  ############################################################################################\"\"\n",
    "  #### Cas 3: Entier Négatif\n",
    "  ##############################################################################################\n",
    "  # elif (type(a) in [int, float]) and (type(b) in [int, float]):\n",
    "  #   #neg(a, b) #### Résultat de l'opération\n",
    "  #   a = neg(a,b)[0] #### Varaible a (valeur absolue)\n",
    "  #   b = neg(a,b)[1] #### Variable b (valeur absolue)\n",
    "  #   # print(a)\n",
    "  #   # print(b)\n",
    "  #   # print(neg(a, b))\n",
    "\n",
    "  ###########################################################################################\"\"\n",
    "  #### Cas 4: Longeur de la variable \n",
    "  ##############################################################################################\n",
    "  elif (len(str(b)) > 3) or (len(str(a)) > 3): #### Si la longeur de l'une des deux variables est > à 16\n",
    "    #limit_digit(a, b, 3)\n",
    "    a = limit_digit(a, b, 3)[0] #### J'affiche a\n",
    "    b = limit_digit(a, b, 3)[1] ### J'affiche b\n",
    "    print(a, \"la valeur de a\")\n",
    "    print(b, \"la valeur de b\")\n",
    "\n",
    "  return calcul(a, b) # ##### Retourner hypothénuse d'un triangle rectangle (Appel à la fonction calcul)\n",
    "  # else:\n",
    "  #   c = (a**2 + b**2)**(1/2)\n",
    "  #   return c\n"
   ]
  },
  {
   "cell_type": "code",
   "execution_count": null,
   "metadata": {
    "colab": {
     "base_uri": "https://localhost:8080/"
    },
    "executionInfo": {
     "elapsed": 333,
     "status": "ok",
     "timestamp": 1636715903870,
     "user": {
      "displayName": "Yacine ASLIMI",
      "photoUrl": "https://lh3.googleusercontent.com/a/default-user=s64",
      "userId": "17203730376393528118"
     },
     "user_tz": -60
    },
    "id": "VlqSy_kO3hov",
    "outputId": "37044188-fe5a-4f6c-919a-013e7c8e3614"
   },
   "outputs": [
    {
     "data": {
      "text/plain": [
       "2"
      ]
     },
     "execution_count": 46,
     "metadata": {},
     "output_type": "execute_result"
    }
   ],
   "source": [
    "round(2.50000000000000000000000001)"
   ]
  },
  {
   "cell_type": "code",
   "execution_count": null,
   "metadata": {
    "colab": {
     "base_uri": "https://localhost:8080/"
    },
    "executionInfo": {
     "elapsed": 12,
     "status": "ok",
     "timestamp": 1636484227521,
     "user": {
      "displayName": "Yacine ASLIMI",
      "photoUrl": "https://lh3.googleusercontent.com/a/default-user=s64",
      "userId": "17203730376393528118"
     },
     "user_tz": -60
    },
    "id": "YPQ_z4eaCjZa",
    "outputId": "e272dea4-83d9-4eff-9886-83bf1f2f2fb7"
   },
   "outputs": [
    {
     "data": {
      "text/plain": [
       "5.0"
      ]
     },
     "execution_count": 106,
     "metadata": {},
     "output_type": "execute_result"
    }
   ],
   "source": [
    "pythagore(3.000000000000000000000000000,4 )"
   ]
  },
  {
   "cell_type": "code",
   "execution_count": null,
   "metadata": {
    "colab": {
     "base_uri": "https://localhost:8080/"
    },
    "executionInfo": {
     "elapsed": 390,
     "status": "ok",
     "timestamp": 1636484228943,
     "user": {
      "displayName": "Yacine ASLIMI",
      "photoUrl": "https://lh3.googleusercontent.com/a/default-user=s64",
      "userId": "17203730376393528118"
     },
     "user_tz": -60
    },
    "id": "jDzzGRZaCjfa",
    "outputId": "86eead9d-9592-460e-f865-dd04f17508bc"
   },
   "outputs": [
    {
     "data": {
      "text/plain": [
       "5.0"
      ]
     },
     "execution_count": 107,
     "metadata": {},
     "output_type": "execute_result"
    }
   ],
   "source": [
    "pythagore(3,4.000000000000000000000000000000000 )"
   ]
  },
  {
   "cell_type": "code",
   "execution_count": null,
   "metadata": {
    "colab": {
     "base_uri": "https://localhost:8080/"
    },
    "executionInfo": {
     "elapsed": 2066,
     "status": "ok",
     "timestamp": 1636484850839,
     "user": {
      "displayName": "Yacine ASLIMI",
      "photoUrl": "https://lh3.googleusercontent.com/a/default-user=s64",
      "userId": "17203730376393528118"
     },
     "user_tz": -60
    },
    "id": "oTL9S7pMCjk6",
    "outputId": "21589f4d-21ec-4e0f-a756-236e89a7cbd2"
   },
   "outputs": [
    {
     "name": "stdout",
     "output_type": "stream",
     "text": [
      "Le nombre saisie comporte plus de 3 digit, Veuillez le resaisir.\n",
      "5\n",
      "5 la valeur de a\n",
      "4 la valeur de b\n"
     ]
    },
    {
     "data": {
      "text/plain": [
       "6.4031242374328485"
      ]
     },
     "execution_count": 129,
     "metadata": {},
     "output_type": "execute_result"
    }
   ],
   "source": [
    "pythagore(3000000000000000000000000000000000000,4 )"
   ]
  },
  {
   "cell_type": "code",
   "execution_count": null,
   "metadata": {
    "colab": {
     "base_uri": "https://localhost:8080/"
    },
    "executionInfo": {
     "elapsed": 9162,
     "status": "ok",
     "timestamp": 1636485001430,
     "user": {
      "displayName": "Yacine ASLIMI",
      "photoUrl": "https://lh3.googleusercontent.com/a/default-user=s64",
      "userId": "17203730376393528118"
     },
     "user_tz": -60
    },
    "id": "3ojr7UjVEMi9",
    "outputId": "ac0de587-faec-4dee-ea6b-4e39d34ce289"
   },
   "outputs": [
    {
     "name": "stdout",
     "output_type": "stream",
     "text": [
      "la longeur de b 37\n",
      "Le nombre saisie comporte plus de 3 digit, Veuillez le resaisir.\n",
      "4\n",
      "Hello\n",
      "la longeur de b 37\n",
      "Le nombre saisie comporte plus de 3 digit, Veuillez le resaisir.\n",
      "6\n",
      "Hello\n",
      "4 la valeur de a\n",
      "6 la valeur de b\n"
     ]
    },
    {
     "data": {
      "text/plain": [
       "7.211102550927978"
      ]
     },
     "execution_count": 137,
     "metadata": {},
     "output_type": "execute_result"
    }
   ],
   "source": [
    "pythagore(4, 3000000000000000000000000000000000000 )"
   ]
  },
  {
   "cell_type": "code",
   "execution_count": null,
   "metadata": {
    "id": "JCvVe6O9Cj-1"
   },
   "outputs": [],
   "source": []
  },
  {
   "cell_type": "code",
   "execution_count": null,
   "metadata": {
    "colab": {
     "base_uri": "https://localhost:8080/"
    },
    "executionInfo": {
     "elapsed": 221,
     "status": "ok",
     "timestamp": 1636482740709,
     "user": {
      "displayName": "Yacine ASLIMI",
      "photoUrl": "https://lh3.googleusercontent.com/a/default-user=s64",
      "userId": "17203730376393528118"
     },
     "user_tz": -60
    },
    "id": "naAUfUK6-Lyn",
    "outputId": "b1b12b35-cd8b-4c6c-f759-cbd5d5db3586"
   },
   "outputs": [
    {
     "data": {
      "text/plain": [
       "(44, 2)"
      ]
     },
     "execution_count": 67,
     "metadata": {},
     "output_type": "execute_result"
    }
   ],
   "source": [
    "limit_digit(44, 2, 2)"
   ]
  },
  {
   "cell_type": "code",
   "execution_count": null,
   "metadata": {
    "colab": {
     "base_uri": "https://localhost:8080/"
    },
    "executionInfo": {
     "elapsed": 220,
     "status": "ok",
     "timestamp": 1636482357949,
     "user": {
      "displayName": "Yacine ASLIMI",
      "photoUrl": "https://lh3.googleusercontent.com/a/default-user=s64",
      "userId": "17203730376393528118"
     },
     "user_tz": -60
    },
    "id": "nR8JI9jK8tSm",
    "outputId": "f6862047-35ff-48ba-f064-e00e43fd9bba"
   },
   "outputs": [
    {
     "data": {
      "text/plain": [
       "False"
      ]
     },
     "execution_count": 62,
     "metadata": {},
     "output_type": "execute_result"
    }
   ],
   "source": [
    "False and True"
   ]
  },
  {
   "cell_type": "code",
   "execution_count": null,
   "metadata": {
    "colab": {
     "base_uri": "https://localhost:8080/"
    },
    "executionInfo": {
     "elapsed": 12,
     "status": "ok",
     "timestamp": 1636481650067,
     "user": {
      "displayName": "Yacine ASLIMI",
      "photoUrl": "https://lh3.googleusercontent.com/a/default-user=s64",
      "userId": "17203730376393528118"
     },
     "user_tz": -60
    },
    "id": "4c7uJaDkG6Wv",
    "outputId": "d018e4d3-baa2-433b-8330-3e65467a6555"
   },
   "outputs": [
    {
     "data": {
      "text/plain": [
       "(3, 4)"
      ]
     },
     "execution_count": 42,
     "metadata": {},
     "output_type": "execute_result"
    }
   ],
   "source": [
    "limit_digit(3, 4, 1)"
   ]
  },
  {
   "cell_type": "code",
   "execution_count": null,
   "metadata": {
    "colab": {
     "base_uri": "https://localhost:8080/"
    },
    "executionInfo": {
     "elapsed": 200,
     "status": "ok",
     "timestamp": 1636482030743,
     "user": {
      "displayName": "Yacine ASLIMI",
      "photoUrl": "https://lh3.googleusercontent.com/a/default-user=s64",
      "userId": "17203730376393528118"
     },
     "user_tz": -60
    },
    "id": "uwJ9X-g_7bKS",
    "outputId": "77000b7b-429f-4c59-aa8c-1b17f731cb28"
   },
   "outputs": [
    {
     "data": {
      "text/plain": [
       "False"
      ]
     },
     "execution_count": 55,
     "metadata": {},
     "output_type": "execute_result"
    }
   ],
   "source": [
    "len(str(45)) > 2"
   ]
  },
  {
   "cell_type": "code",
   "execution_count": null,
   "metadata": {
    "colab": {
     "base_uri": "https://localhost:8080/"
    },
    "executionInfo": {
     "elapsed": 48909,
     "status": "ok",
     "timestamp": 1636482125897,
     "user": {
      "displayName": "Yacine ASLIMI",
      "photoUrl": "https://lh3.googleusercontent.com/a/default-user=s64",
      "userId": "17203730376393528118"
     },
     "user_tz": -60
    },
    "id": "nULAV2W2G6bp",
    "outputId": "8cf82857-1988-4ef4-cbf1-e54bb634fade"
   },
   "outputs": [
    {
     "name": "stdout",
     "output_type": "stream",
     "text": [
      "Le nombre saisie comporte plus de 16 digit, Veuillez le resaisir.\n",
      "4555\n",
      "Le nombre saisie comporte plus de 16 digit, Veuillez le resaisir.\n",
      "455\n",
      "Le nombre saisie comporte plus de 16 digit, Veuillez le resaisir.\n",
      "45\n"
     ]
    },
    {
     "data": {
      "text/plain": [
       "(45, 4)"
      ]
     },
     "execution_count": 57,
     "metadata": {},
     "output_type": "execute_result"
    }
   ],
   "source": [
    "limit_digit(9999999999, 4, 2) ### Borne de 2 "
   ]
  },
  {
   "cell_type": "code",
   "execution_count": null,
   "metadata": {
    "colab": {
     "base_uri": "https://localhost:8080/"
    },
    "executionInfo": {
     "elapsed": 16069,
     "status": "ok",
     "timestamp": 1636482258241,
     "user": {
      "displayName": "Yacine ASLIMI",
      "photoUrl": "https://lh3.googleusercontent.com/a/default-user=s64",
      "userId": "17203730376393528118"
     },
     "user_tz": -60
    },
    "id": "pDMNukRM8S-c",
    "outputId": "9bd9b800-063b-46bb-cea7-dc44a2867622"
   },
   "outputs": [
    {
     "name": "stdout",
     "output_type": "stream",
     "text": [
      "Le nombre saisie comporte plus de 16 digit, Veuillez le resaisir.\n",
      "5555\n",
      "Le nombre saisie comporte plus de 16 digit, Veuillez le resaisir.\n",
      "555\n",
      "Le nombre saisie comporte plus de 16 digit, Veuillez le resaisir.\n",
      "55\n"
     ]
    },
    {
     "data": {
      "text/plain": [
       "(9, 55)"
      ]
     },
     "execution_count": 59,
     "metadata": {},
     "output_type": "execute_result"
    }
   ],
   "source": [
    "limit_digit(9, 66666666666664, 2) ### Borne de 2 "
   ]
  },
  {
   "cell_type": "code",
   "execution_count": null,
   "metadata": {
    "colab": {
     "base_uri": "https://localhost:8080/"
    },
    "executionInfo": {
     "elapsed": 2452,
     "status": "ok",
     "timestamp": 1635966220226,
     "user": {
      "displayName": "Yacine ASLIMI",
      "photoUrl": "https://lh3.googleusercontent.com/a/default-user=s64",
      "userId": "17203730376393528118"
     },
     "user_tz": -60
    },
    "id": "6Zc2EoK7G6hq",
    "outputId": "a099a6d7-0ac6-4376-8311-ba1560940c25"
   },
   "outputs": [
    {
     "name": "stdout",
     "output_type": "stream",
     "text": [
      "Le nombre saisie comporte plus de 16 digit, Veuillez le resaisir.\n",
      "2\n"
     ]
    },
    {
     "data": {
      "text/plain": [
       "(2, 77777)"
      ]
     },
     "execution_count": 276,
     "metadata": {},
     "output_type": "execute_result"
    }
   ],
   "source": [
    "limit_digit(9999999999, 77777, 2)"
   ]
  },
  {
   "cell_type": "code",
   "execution_count": null,
   "metadata": {
    "colab": {
     "base_uri": "https://localhost:8080/"
    },
    "executionInfo": {
     "elapsed": 13545,
     "status": "ok",
     "timestamp": 1636482285684,
     "user": {
      "displayName": "Yacine ASLIMI",
      "photoUrl": "https://lh3.googleusercontent.com/a/default-user=s64",
      "userId": "17203730376393528118"
     },
     "user_tz": -60
    },
    "id": "MbRJrAT_G6nj",
    "outputId": "46006599-bb60-44df-d1a3-1770c59cfe73"
   },
   "outputs": [
    {
     "name": "stdout",
     "output_type": "stream",
     "text": [
      "Le nombre saisie comporte plus de 16 digit, Veuillez le resaisir.\n",
      "555\n",
      "Le nombre saisie comporte plus de 16 digit, Veuillez le resaisir.\n",
      "555\n",
      "Le nombre saisie comporte plus de 16 digit, Veuillez le resaisir.\n",
      "55\n"
     ]
    },
    {
     "data": {
      "text/plain": [
       "(55, 7777799999999)"
      ]
     },
     "execution_count": 60,
     "metadata": {},
     "output_type": "execute_result"
    }
   ],
   "source": [
    "limit_digit(9999999999, 7777799999999, 2)"
   ]
  },
  {
   "cell_type": "code",
   "execution_count": null,
   "metadata": {
    "colab": {
     "base_uri": "https://localhost:8080/"
    },
    "executionInfo": {
     "elapsed": 186,
     "status": "ok",
     "timestamp": 1635966449852,
     "user": {
      "displayName": "Yacine ASLIMI",
      "photoUrl": "https://lh3.googleusercontent.com/a/default-user=s64",
      "userId": "17203730376393528118"
     },
     "user_tz": -60
    },
    "id": "qqNv47KNG6rb",
    "outputId": "f87d2a04-681e-4aa3-a1b0-329b82d0cfc1"
   },
   "outputs": [
    {
     "data": {
      "text/plain": [
       "7777806428549.403"
      ]
     },
     "execution_count": 279,
     "metadata": {},
     "output_type": "execute_result"
    }
   ],
   "source": [
    "pythagore(9999999999, 7777799999999)"
   ]
  },
  {
   "cell_type": "code",
   "execution_count": null,
   "metadata": {
    "id": "ORWCfdtYG6vZ"
   },
   "outputs": [],
   "source": []
  },
  {
   "cell_type": "code",
   "execution_count": null,
   "metadata": {
    "id": "i9QyKXdS_vIk"
   },
   "outputs": [],
   "source": []
  },
  {
   "cell_type": "code",
   "execution_count": null,
   "metadata": {
    "colab": {
     "base_uri": "https://localhost:8080/",
     "height": 52
    },
    "executionInfo": {
     "elapsed": 3425,
     "status": "ok",
     "timestamp": 1635960723640,
     "user": {
      "displayName": "Yacine ASLIMI",
      "photoUrl": "https://lh3.googleusercontent.com/a/default-user=s64",
      "userId": "17203730376393528118"
     },
     "user_tz": -60
    },
    "id": "gslh1YLh220D",
    "outputId": "ae29059f-b97b-4df1-d539-79f952b70763"
   },
   "outputs": [
    {
     "name": "stdout",
     "output_type": "stream",
     "text": [
      "36\n"
     ]
    },
    {
     "data": {
      "application/vnd.google.colaboratory.intrinsic+json": {
       "type": "string"
      },
      "text/plain": [
       "'6'"
      ]
     },
     "execution_count": 43,
     "metadata": {},
     "output_type": "execute_result"
    }
   ],
   "source": [
    "input(3)"
   ]
  },
  {
   "cell_type": "code",
   "execution_count": null,
   "metadata": {
    "id": "9nOgiOvcDaWD"
   },
   "outputs": [],
   "source": [
    "a =  1 + 3j"
   ]
  },
  {
   "cell_type": "code",
   "execution_count": null,
   "metadata": {
    "colab": {
     "base_uri": "https://localhost:8080/"
    },
    "executionInfo": {
     "elapsed": 239,
     "status": "ok",
     "timestamp": 1635880155401,
     "user": {
      "displayName": "Yacine ASLIMI",
      "photoUrl": "https://lh3.googleusercontent.com/a/default-user=s64",
      "userId": "17203730376393528118"
     },
     "user_tz": -60
    },
    "id": "9j92w_0jDfpl",
    "outputId": "1973a869-dc58-407a-ff20-ae28f7a940c6"
   },
   "outputs": [
    {
     "data": {
      "text/plain": [
       "True"
      ]
     },
     "execution_count": 98,
     "metadata": {},
     "output_type": "execute_result"
    }
   ],
   "source": [
    "a.imag != 0"
   ]
  },
  {
   "cell_type": "code",
   "execution_count": null,
   "metadata": {
    "colab": {
     "base_uri": "https://localhost:8080/"
    },
    "executionInfo": {
     "elapsed": 243,
     "status": "ok",
     "timestamp": 1635880179871,
     "user": {
      "displayName": "Yacine ASLIMI",
      "photoUrl": "https://lh3.googleusercontent.com/a/default-user=s64",
      "userId": "17203730376393528118"
     },
     "user_tz": -60
    },
    "id": "rQvjZuXFDoEt",
    "outputId": "d5bfa82d-06ca-4b40-d446-27b050665a35"
   },
   "outputs": [
    {
     "data": {
      "text/plain": [
       "1.0"
      ]
     },
     "execution_count": 99,
     "metadata": {},
     "output_type": "execute_result"
    }
   ],
   "source": [
    "a.real"
   ]
  },
  {
   "cell_type": "code",
   "execution_count": null,
   "metadata": {
    "colab": {
     "base_uri": "https://localhost:8080/"
    },
    "executionInfo": {
     "elapsed": 253,
     "status": "ok",
     "timestamp": 1635880320294,
     "user": {
      "displayName": "Yacine ASLIMI",
      "photoUrl": "https://lh3.googleusercontent.com/a/default-user=s64",
      "userId": "17203730376393528118"
     },
     "user_tz": -60
    },
    "id": "67r15W-dECu-",
    "outputId": "8a459073-0fd7-4626-e95c-74c0906f216e"
   },
   "outputs": [
    {
     "name": "stdout",
     "output_type": "stream",
     "text": [
      "0\n",
      "1\n",
      "2\n",
      "3\n",
      "4\n",
      "5\n",
      "6\n",
      "7\n",
      "8\n"
     ]
    }
   ],
   "source": [
    "count = 0\n",
    "\n",
    "while (count <= 8):\n",
    "  print(count)\n",
    "  count = count +1 "
   ]
  },
  {
   "cell_type": "markdown",
   "metadata": {
    "id": "eiUFFYWb4oHS"
   },
   "source": [
    "-----------------------------"
   ]
  },
  {
   "cell_type": "markdown",
   "metadata": {
    "collapsed": true,
    "id": "3eD-aCmK4oHT"
   },
   "source": [
    "## Object oriented Programming"
   ]
  },
  {
   "cell_type": "markdown",
   "metadata": {
    "id": "WYYc8OwL4oHU"
   },
   "source": [
    "Wondering what OO is? A very nice introduction is given here: http://py.processing.org/tutorials/objects/"
   ]
  },
  {
   "cell_type": "markdown",
   "metadata": {
    "collapsed": true,
    "id": "K9m9dUPI4oHV"
   },
   "source": [
    "Python supports object-oriented programming (OOP). The goals of OOP are:\n",
    "\n",
    "* to organize the code, and\n",
    "* to re-use code in similar contexts.\n",
    "\n"
   ]
  },
  {
   "cell_type": "markdown",
   "metadata": {
    "id": "6_eeAQhV4oHW"
   },
   "source": [
    "Here is a small example: we create a Student class, which is an object gathering several custom functions (**methods**) and variables (**attributes**), we will be able to use:"
   ]
  },
  {
   "cell_type": "code",
   "execution_count": null,
   "metadata": {
    "id": "KJ5W4YiE4oHW",
    "run_control": {
     "frozen": false,
     "read_only": false
    }
   },
   "outputs": [],
   "source": [
    "class Employee():  #object\n",
    "    \n",
    "    def __init__(self, name, wage=60.):\n",
    "        \"\"\"\n",
    "        Employee class to save the amount of hours worked and related earnings\n",
    "        \"\"\"\n",
    "        self.name = name\n",
    "        self.wage = wage\n",
    "        \n",
    "        self.hours = 0.        \n",
    "        \n",
    "    def worked(self, hours):\n",
    "        \"\"\"add worked hours on a project\n",
    "        \"\"\"\n",
    "        try:\n",
    "            hours = float(hours)\n",
    "        except:\n",
    "            raise Exception(\"Hours not convertable to float!\")\n",
    "            \n",
    "        self.hours += hours\n",
    "        \n",
    "    def calc_earnings(self):\n",
    "        \"\"\"\n",
    "        Calculate earnings\n",
    "        \"\"\"\n",
    "        return self.hours *self.wage"
   ]
  },
  {
   "cell_type": "code",
   "execution_count": null,
   "metadata": {
    "id": "EJnpFjid4oHY",
    "run_control": {
     "frozen": false,
     "read_only": false
    }
   },
   "outputs": [],
   "source": [
    "bert = Employee('bert') #### Instantiation de l'objet\n",
    "bob = Employee('bob') #### Instantiation de l'objet"
   ]
  },
  {
   "cell_type": "code",
   "execution_count": null,
   "metadata": {
    "colab": {
     "base_uri": "https://localhost:8080/"
    },
    "executionInfo": {
     "elapsed": 24,
     "status": "ok",
     "timestamp": 1636565438876,
     "user": {
      "displayName": "Yacine ASLIMI",
      "photoUrl": "https://lh3.googleusercontent.com/a/default-user=s64",
      "userId": "17203730376393528118"
     },
     "user_tz": -60
    },
    "id": "NT3vZwVz4xTu",
    "outputId": "3fe121ef-34fe-4d0b-f066-c548dcd2a362"
   },
   "outputs": [
    {
     "name": "stdout",
     "output_type": "stream",
     "text": [
      "Variable   Type        Data/Info\n",
      "--------------------------------\n",
      "Employee   type        <class '__main__.Employee'>\n",
      "a          list        n=5\n",
      "b          int         2\n",
      "bert       Employee    <__main__.Employee object at 0x7f1755c4b090>\n",
      "bob        Employee    <__main__.Employee object at 0x7f1755c4bc10>\n"
     ]
    }
   ],
   "source": [
    "%whos"
   ]
  },
  {
   "cell_type": "code",
   "execution_count": null,
   "metadata": {
    "id": "cpOwMK7W5CRO"
   },
   "outputs": [],
   "source": [
    "a = [1, 2, 3, 4]\n",
    "b = 2\n",
    "a.append(b)"
   ]
  },
  {
   "cell_type": "code",
   "execution_count": null,
   "metadata": {
    "colab": {
     "base_uri": "https://localhost:8080/"
    },
    "executionInfo": {
     "elapsed": 11,
     "status": "ok",
     "timestamp": 1636565605284,
     "user": {
      "displayName": "Yacine ASLIMI",
      "photoUrl": "https://lh3.googleusercontent.com/a/default-user=s64",
      "userId": "17203730376393528118"
     },
     "user_tz": -60
    },
    "id": "iQ925uVS5NP8",
    "outputId": "1c12e2fb-47b9-43c1-db13-37e3858a8330"
   },
   "outputs": [
    {
     "data": {
      "text/plain": [
       "[1, 2, 3, 4, 2]"
      ]
     },
     "execution_count": 21,
     "metadata": {},
     "output_type": "execute_result"
    }
   ],
   "source": [
    "a"
   ]
  },
  {
   "cell_type": "code",
   "execution_count": null,
   "metadata": {
    "colab": {
     "base_uri": "https://localhost:8080/"
    },
    "executionInfo": {
     "elapsed": 208,
     "status": "ok",
     "timestamp": 1636565626955,
     "user": {
      "displayName": "Yacine ASLIMI",
      "photoUrl": "https://lh3.googleusercontent.com/a/default-user=s64",
      "userId": "17203730376393528118"
     },
     "user_tz": -60
    },
    "id": "A3MaPMkh6X1z",
    "outputId": "5d6864fe-6605-493d-c539-2d72f564fd28"
   },
   "outputs": [
    {
     "data": {
      "text/plain": [
       "[1, 2, 3, 4, 2, 2, 2, 2, 2]"
      ]
     },
     "execution_count": 26,
     "metadata": {},
     "output_type": "execute_result"
    }
   ],
   "source": [
    "a.append(b)\n",
    "a"
   ]
  },
  {
   "cell_type": "code",
   "execution_count": null,
   "metadata": {
    "id": "XGkvT9xj5S7Z"
   },
   "outputs": [],
   "source": [
    "bert.worked(30) #### Worked ---> AJout de 30 heures à l'employé bert"
   ]
  },
  {
   "cell_type": "code",
   "execution_count": null,
   "metadata": {
    "colab": {
     "base_uri": "https://localhost:8080/"
    },
    "executionInfo": {
     "elapsed": 316,
     "status": "ok",
     "timestamp": 1636565633724,
     "user": {
      "displayName": "Yacine ASLIMI",
      "photoUrl": "https://lh3.googleusercontent.com/a/default-user=s64",
      "userId": "17203730376393528118"
     },
     "user_tz": -60
    },
    "id": "rh2kgo-k5dEY",
    "outputId": "a97d825c-b698-4891-df54-ac8d41b2e58c"
   },
   "outputs": [
    {
     "data": {
      "text/plain": [
       "7200.0"
      ]
     },
     "execution_count": 28,
     "metadata": {},
     "output_type": "execute_result"
    }
   ],
   "source": [
    "bert.calc_earnings() #### Revenue calculé ici: 30*60 = 1800"
   ]
  },
  {
   "cell_type": "code",
   "execution_count": null,
   "metadata": {
    "id": "DBXaJJBN5vn9"
   },
   "outputs": [],
   "source": [
    "bert.worked(30) #### Worked ---> AJout de 30 heures à l'employé bert qui comptait deja 30 heures ==> 60 heures au global"
   ]
  },
  {
   "cell_type": "code",
   "execution_count": null,
   "metadata": {
    "colab": {
     "base_uri": "https://localhost:8080/"
    },
    "executionInfo": {
     "elapsed": 263,
     "status": "ok",
     "timestamp": 1636565640080,
     "user": {
      "displayName": "Yacine ASLIMI",
      "photoUrl": "https://lh3.googleusercontent.com/a/default-user=s64",
      "userId": "17203730376393528118"
     },
     "user_tz": -60
    },
    "id": "91wxRbSp6DTb",
    "outputId": "ef77efc7-f670-4798-fd0a-aa789b88b388"
   },
   "outputs": [
    {
     "data": {
      "text/plain": [
       "9000.0"
      ]
     },
     "execution_count": 30,
     "metadata": {},
     "output_type": "execute_result"
    }
   ],
   "source": [
    "bert.calc_earnings() #### Revenue calculé ici: 60*60= 3600"
   ]
  },
  {
   "cell_type": "code",
   "execution_count": null,
   "metadata": {
    "colab": {
     "base_uri": "https://localhost:8080/"
    },
    "executionInfo": {
     "elapsed": 319,
     "status": "ok",
     "timestamp": 1636565764645,
     "user": {
      "displayName": "Yacine ASLIMI",
      "photoUrl": "https://lh3.googleusercontent.com/a/default-user=s64",
      "userId": "17203730376393528118"
     },
     "user_tz": -60
    },
    "id": "fS8seg6U62Ys",
    "outputId": "c8ec8314-24f2-4968-acf4-67e67eb041d7"
   },
   "outputs": [
    {
     "data": {
      "text/plain": [
       "60.0"
      ]
     },
     "execution_count": 34,
     "metadata": {},
     "output_type": "execute_result"
    }
   ],
   "source": [
    "bert.wage = 80"
   ]
  },
  {
   "cell_type": "code",
   "execution_count": null,
   "metadata": {
    "colab": {
     "base_uri": "https://localhost:8080/"
    },
    "executionInfo": {
     "elapsed": 216,
     "status": "ok",
     "timestamp": 1636565796237,
     "user": {
      "displayName": "Yacine ASLIMI",
      "photoUrl": "https://lh3.googleusercontent.com/a/default-user=s64",
      "userId": "17203730376393528118"
     },
     "user_tz": -60
    },
    "id": "W0zoPQrn7CgW",
    "outputId": "afebd57c-8ece-4319-8f8d-ac5ef5a3b290"
   },
   "outputs": [
    {
     "data": {
      "text/plain": [
       "150.0"
      ]
     },
     "execution_count": 36,
     "metadata": {},
     "output_type": "execute_result"
    }
   ],
   "source": [
    "9000/60"
   ]
  },
  {
   "cell_type": "code",
   "execution_count": null,
   "metadata": {
    "id": "s0ulMcuA4oHZ",
    "run_control": {
     "frozen": false,
     "read_only": false
    }
   },
   "outputs": [],
   "source": [
    "# bert.worked(10.)\n",
    "# bert.worked(20.)\n",
    "bert.wage = 80.  #### Changement du wage par défaut --> 80"
   ]
  },
  {
   "cell_type": "code",
   "execution_count": null,
   "metadata": {
    "colab": {
     "base_uri": "https://localhost:8080/"
    },
    "executionInfo": {
     "elapsed": 205,
     "status": "ok",
     "timestamp": 1636565800135,
     "user": {
      "displayName": "Yacine ASLIMI",
      "photoUrl": "https://lh3.googleusercontent.com/a/default-user=s64",
      "userId": "17203730376393528118"
     },
     "user_tz": -60
    },
    "id": "WtPZ5-ms4oHa",
    "outputId": "d5b8be43-2f17-42b6-d8ae-381816ae45be",
    "run_control": {
     "frozen": false,
     "read_only": false
    }
   },
   "outputs": [
    {
     "data": {
      "text/plain": [
       "12000.0"
      ]
     },
     "execution_count": 37,
     "metadata": {},
     "output_type": "execute_result"
    }
   ],
   "source": [
    "bert.calc_earnings() ### Calcul des nouveaux revenus"
   ]
  },
  {
   "cell_type": "code",
   "execution_count": null,
   "metadata": {
    "colab": {
     "base_uri": "https://localhost:8080/"
    },
    "executionInfo": {
     "elapsed": 229,
     "status": "ok",
     "timestamp": 1636565808670,
     "user": {
      "displayName": "Yacine ASLIMI",
      "photoUrl": "https://lh3.googleusercontent.com/a/default-user=s64",
      "userId": "17203730376393528118"
     },
     "user_tz": -60
    },
    "id": "iRgaIVLy7GCk",
    "outputId": "5555177d-60c3-4a46-c6ce-38aad17e9a5c"
   },
   "outputs": [
    {
     "data": {
      "text/plain": [
       "12000"
      ]
     },
     "execution_count": 38,
     "metadata": {},
     "output_type": "execute_result"
    }
   ],
   "source": [
    "150*80"
   ]
  },
  {
   "cell_type": "code",
   "execution_count": null,
   "metadata": {
    "colab": {
     "base_uri": "https://localhost:8080/"
    },
    "executionInfo": {
     "elapsed": 205,
     "status": "ok",
     "timestamp": 1636565872255,
     "user": {
      "displayName": "Yacine ASLIMI",
      "photoUrl": "https://lh3.googleusercontent.com/a/default-user=s64",
      "userId": "17203730376393528118"
     },
     "user_tz": -60
    },
    "id": "irqemtKu4oHb",
    "outputId": "926d5b48-73a9-4959-94ea-a94ca110e386",
    "run_control": {
     "frozen": false,
     "read_only": false
    }
   },
   "outputs": [
    {
     "data": {
      "text/plain": [
       "['__class__',\n",
       " '__delattr__',\n",
       " '__dict__',\n",
       " '__dir__',\n",
       " '__doc__',\n",
       " '__eq__',\n",
       " '__format__',\n",
       " '__ge__',\n",
       " '__getattribute__',\n",
       " '__gt__',\n",
       " '__hash__',\n",
       " '__init__',\n",
       " '__init_subclass__',\n",
       " '__le__',\n",
       " '__lt__',\n",
       " '__module__',\n",
       " '__ne__',\n",
       " '__new__',\n",
       " '__reduce__',\n",
       " '__reduce_ex__',\n",
       " '__repr__',\n",
       " '__setattr__',\n",
       " '__sizeof__',\n",
       " '__str__',\n",
       " '__subclasshook__',\n",
       " '__weakref__',\n",
       " 'calc_earnings',\n",
       " 'worked']"
      ]
     },
     "execution_count": 39,
     "metadata": {},
     "output_type": "execute_result"
    }
   ],
   "source": [
    "dir(Employee) #### L'ensemble des méthodes associées à a classe Employee"
   ]
  },
  {
   "cell_type": "markdown",
   "metadata": {
    "id": "RDl0Y60h4oHd"
   },
   "source": [
    "It is just the same al all the other objects we worked with!"
   ]
  },
  {
   "cell_type": "markdown",
   "metadata": {
    "id": "WCTGnVR14oHd"
   },
   "source": [
    "---------------------------------------"
   ]
  },
  {
   "cell_type": "markdown",
   "metadata": {
    "id": "AJDS7asl4oHe"
   },
   "source": [
    "<div class=\"alert alert-success\">\n",
    "    <b>EXERCISE</b>: Extend the class `Employee` with a projects attribute, which is a dictionary. Projects can be added by the method `new_project`. Hours are contributed to a specific project\n",
    "</div>"
   ]
  },
  {
   "cell_type": "code",
   "execution_count": null,
   "metadata": {
    "id": "BL17R91g-gIB"
   },
   "outputs": [],
   "source": [
    "class Employee():  #object\n",
    "    \n",
    "    def __init__(self, name, wage=60.):\n",
    "        \"\"\"\n",
    "        Employee class to save the amount of hours worked and related earnings\n",
    "        \"\"\"\n",
    "        self.name = name\n",
    "        self.wage = wage\n",
    "        \n",
    "        self.hours = 0. \n",
    "        self.projects = {}   #### Attribu projet:  dictionnaire {\"nom du projet\": \"nombre d'heure associé\"}\n",
    "\n",
    "    def new_project(self, projectname):\n",
    "        \"\"\"\n",
    "        \"\"\"\n",
    "        if projectname in self.projects: #### Si le nom de projet existe\n",
    "            raise Exception(\"project already exist for\", self.name) ### Raise une exception pour informer de l'existance du nom de projet\n",
    "        else: #### Sinon\n",
    "            self.projects[projectname] = 0.     #### Sauvegarde le nom du projet dans un dictionnaire \n",
    "        \n",
    "    def worked(self, hours, projectname):#### Association du nombre d'heure et du projet\n",
    "        \"\"\"add worked hours on a project\n",
    "        \"\"\"\n",
    "        try:\n",
    "            hours = float(hours)\n",
    "        except:\n",
    "            raise Exception(\"Hours not convertable to float!\")\n",
    "            \n",
    "        self.hours += hours\n",
    "        \n",
    "    def calc_earnings(self):\n",
    "        \"\"\"\n",
    "        Calculate earnings\n",
    "        \"\"\"\n",
    "        return self.hours *self.wage\n",
    "    "
   ]
  },
  {
   "cell_type": "code",
   "execution_count": null,
   "metadata": {
    "colab": {
     "base_uri": "https://localhost:8080/"
    },
    "executionInfo": {
     "elapsed": 39,
     "status": "ok",
     "timestamp": 1636567921140,
     "user": {
      "displayName": "Yacine ASLIMI",
      "photoUrl": "https://lh3.googleusercontent.com/a/default-user=s64",
      "userId": "17203730376393528118"
     },
     "user_tz": -60
    },
    "id": "VoJcsLBdCVfl",
    "outputId": "59921d07-3e6d-4191-e318-bdab7fb56358"
   },
   "outputs": [
    {
     "name": "stdout",
     "output_type": "stream",
     "text": [
      "Variable   Type        Data/Info\n",
      "--------------------------------\n",
      "Employee   type        <class '__main__.Employee'>\n",
      "a          list        n=9\n",
      "b          int         2\n",
      "bert       Employee    <__main__.Employee object at 0x7f1755cb2ad0>\n",
      "bob        Employee    <__main__.Employee object at 0x7f1755d2de90>\n"
     ]
    }
   ],
   "source": [
    "%whos"
   ]
  },
  {
   "cell_type": "code",
   "execution_count": null,
   "metadata": {
    "id": "Pdx4TuXgCj5q"
   },
   "outputs": [],
   "source": [
    "bert.new_project(\"azee\") #### Error car l'objet bert doit etre recreer"
   ]
  },
  {
   "cell_type": "code",
   "execution_count": null,
   "metadata": {
    "id": "WhiSM6yu4oHf",
    "run_control": {
     "frozen": false,
     "read_only": false
    }
   },
   "outputs": [],
   "source": [
    "bert = Employee('bert') #### Récréation de bert\n",
    "bert.new_project('vmm') ### Ajout d'un projet"
   ]
  },
  {
   "cell_type": "code",
   "execution_count": null,
   "metadata": {
    "colab": {
     "base_uri": "https://localhost:8080/",
     "height": 292
    },
    "executionInfo": {
     "elapsed": 18,
     "status": "error",
     "timestamp": 1636567922597,
     "user": {
      "displayName": "Yacine ASLIMI",
      "photoUrl": "https://lh3.googleusercontent.com/a/default-user=s64",
      "userId": "17203730376393528118"
     },
     "user_tz": -60
    },
    "id": "t4uLPmt6C5sS",
    "outputId": "eeffe2b4-0d7c-4746-be6b-029c8079ea6d"
   },
   "outputs": [
    {
     "ename": "Exception",
     "evalue": "ignored",
     "output_type": "error",
     "traceback": [
      "\u001b[0;31m---------------------------------------------------------------------------\u001b[0m",
      "\u001b[0;31mException\u001b[0m                                 Traceback (most recent call last)",
      "\u001b[0;32m<ipython-input-72-422ecaa6c1e4>\u001b[0m in \u001b[0;36m<module>\u001b[0;34m()\u001b[0m\n\u001b[0;32m----> 1\u001b[0;31m \u001b[0mbert\u001b[0m\u001b[0;34m.\u001b[0m\u001b[0mnew_project\u001b[0m\u001b[0;34m(\u001b[0m\u001b[0;34m'vmm'\u001b[0m\u001b[0;34m)\u001b[0m \u001b[0;31m### Raise exception OK\u001b[0m\u001b[0;34m\u001b[0m\u001b[0;34m\u001b[0m\u001b[0m\n\u001b[0m",
      "\u001b[0;32m<ipython-input-68-944f2313dd56>\u001b[0m in \u001b[0;36mnew_project\u001b[0;34m(self, projectname)\u001b[0m\n\u001b[1;32m     15\u001b[0m         \"\"\"\n\u001b[1;32m     16\u001b[0m         \u001b[0;32mif\u001b[0m \u001b[0mprojectname\u001b[0m \u001b[0;32min\u001b[0m \u001b[0mself\u001b[0m\u001b[0;34m.\u001b[0m\u001b[0mprojects\u001b[0m\u001b[0;34m:\u001b[0m \u001b[0;31m#### Si le nom de projet existe\u001b[0m\u001b[0;34m\u001b[0m\u001b[0;34m\u001b[0m\u001b[0m\n\u001b[0;32m---> 17\u001b[0;31m             \u001b[0;32mraise\u001b[0m \u001b[0mException\u001b[0m\u001b[0;34m(\u001b[0m\u001b[0;34m\"project already exist for\"\u001b[0m\u001b[0;34m,\u001b[0m \u001b[0mself\u001b[0m\u001b[0;34m.\u001b[0m\u001b[0mname\u001b[0m\u001b[0;34m)\u001b[0m \u001b[0;31m### Raise une exception pour informer de l'existance du nom de projet\u001b[0m\u001b[0;34m\u001b[0m\u001b[0;34m\u001b[0m\u001b[0m\n\u001b[0m\u001b[1;32m     18\u001b[0m         \u001b[0;32melse\u001b[0m\u001b[0;34m:\u001b[0m \u001b[0;31m#### Sinon\u001b[0m\u001b[0;34m\u001b[0m\u001b[0;34m\u001b[0m\u001b[0m\n\u001b[1;32m     19\u001b[0m             \u001b[0mself\u001b[0m\u001b[0;34m.\u001b[0m\u001b[0mprojects\u001b[0m\u001b[0;34m[\u001b[0m\u001b[0mprojectname\u001b[0m\u001b[0;34m]\u001b[0m \u001b[0;34m=\u001b[0m \u001b[0;36m0.\u001b[0m     \u001b[0;31m#### Sauvegarde le nom du projet dans un dictionnaire\u001b[0m\u001b[0;34m\u001b[0m\u001b[0;34m\u001b[0m\u001b[0m\n",
      "\u001b[0;31mException\u001b[0m: ('project already exist for', 'bert')"
     ]
    }
   ],
   "source": [
    "bert.new_project('vmm') ### Raise exception OK"
   ]
  },
  {
   "cell_type": "code",
   "execution_count": null,
   "metadata": {
    "id": "BWpBlnOA4oHg",
    "run_control": {
     "frozen": false,
     "read_only": false
    }
   },
   "outputs": [],
   "source": [
    "bert.worked(10., 'vmm')"
   ]
  },
  {
   "cell_type": "code",
   "execution_count": null,
   "metadata": {
    "colab": {
     "base_uri": "https://localhost:8080/"
    },
    "executionInfo": {
     "elapsed": 16,
     "status": "ok",
     "timestamp": 1636567959532,
     "user": {
      "displayName": "Yacine ASLIMI",
      "photoUrl": "https://lh3.googleusercontent.com/a/default-user=s64",
      "userId": "17203730376393528118"
     },
     "user_tz": -60
    },
    "id": "3i3hVCuN4oHh",
    "outputId": "f2012fe7-e5f2-4b72-e1bc-e8eae98e7db4",
    "run_control": {
     "frozen": false,
     "read_only": false
    }
   },
   "outputs": [
    {
     "data": {
      "text/plain": [
       "1200.0"
      ]
     },
     "execution_count": 76,
     "metadata": {},
     "output_type": "execute_result"
    }
   ],
   "source": [
    "bert.calc_earnings() #### Revenu sur le projet vmm"
   ]
  },
  {
   "cell_type": "code",
   "execution_count": null,
   "metadata": {
    "id": "T0MRvxdn4oHi",
    "run_control": {
     "frozen": false,
     "read_only": false
    }
   },
   "outputs": [],
   "source": [
    "bert.new_project('pwc') ### Si le nombre d'heure n'est pas spécifié --> Le nombre d'heure total qui est utilisé"
   ]
  },
  {
   "cell_type": "code",
   "execution_count": null,
   "metadata": {
    "colab": {
     "base_uri": "https://localhost:8080/"
    },
    "executionInfo": {
     "elapsed": 206,
     "status": "ok",
     "timestamp": 1636567967735,
     "user": {
      "displayName": "Yacine ASLIMI",
      "photoUrl": "https://lh3.googleusercontent.com/a/default-user=s64",
      "userId": "17203730376393528118"
     },
     "user_tz": -60
    },
    "id": "GK9N6rRX_nYO",
    "outputId": "d6a566a6-bc0a-4690-ffcd-ec4475702881"
   },
   "outputs": [
    {
     "data": {
      "text/plain": [
       "1200.0"
      ]
     },
     "execution_count": 78,
     "metadata": {},
     "output_type": "execute_result"
    }
   ],
   "source": [
    "bert.calc_earnings()"
   ]
  },
  {
   "cell_type": "code",
   "execution_count": null,
   "metadata": {
    "id": "NbMuZ5UG4oHj",
    "run_control": {
     "frozen": false,
     "read_only": false
    }
   },
   "outputs": [],
   "source": [
    "#bert.info()"
   ]
  },
  {
   "cell_type": "code",
   "execution_count": null,
   "metadata": {
    "id": "naFJ9G2b4oHk",
    "run_control": {
     "frozen": false,
     "read_only": false
    }
   },
   "outputs": [],
   "source": [
    "bert.worked(3., 'pwc')"
   ]
  },
  {
   "cell_type": "code",
   "execution_count": null,
   "metadata": {
    "colab": {
     "base_uri": "https://localhost:8080/"
    },
    "executionInfo": {
     "elapsed": 254,
     "status": "ok",
     "timestamp": 1636567023804,
     "user": {
      "displayName": "Yacine ASLIMI",
      "photoUrl": "https://lh3.googleusercontent.com/a/default-user=s64",
      "userId": "17203730376393528118"
     },
     "user_tz": -60
    },
    "id": "anEGpChz_vXr",
    "outputId": "bd4da568-1c2d-4f21-e434-9e498bfec2d0"
   },
   "outputs": [
    {
     "data": {
      "text/plain": [
       "780.0"
      ]
     },
     "execution_count": 47,
     "metadata": {},
     "output_type": "execute_result"
    }
   ],
   "source": [
    "bert.calc_earnings()"
   ]
  },
  {
   "cell_type": "code",
   "execution_count": null,
   "metadata": {
    "id": "dTViG1XGA_Mo"
   },
   "outputs": [],
   "source": [
    "class Employee():  #object\n",
    "    \n",
    "    def __init__(self, name, wage=60.):\n",
    "        \"\"\"\n",
    "        Employee class to save the amount of hours worked and related earnings\n",
    "        \"\"\"\n",
    "        self.name = name\n",
    "        self.wage = wage\n",
    "        self.projects = {}  \n",
    "\n",
    "    def new_project(self, projectname):\n",
    "        \"\"\"\n",
    "        \"\"\"\n",
    "        if projectname in self.projects:\n",
    "            raise Exception(\"project already exist for\", self.name)\n",
    "        else:\n",
    "            self.projects[projectname] = 0.\n",
    "            \n",
    "        \n",
    "    def worked(self, hours, projectname):\n",
    "        \"\"\"add worked hours on a project\n",
    "        \"\"\"\n",
    "        try:\n",
    "            hours = float(hours)\n",
    "        except:\n",
    "            raise Exception(\"Hours not convertable to float!\")\n",
    "\n",
    "        if not projectname in self.projects:\n",
    "            raise Exception(\"project non-existing for\", self.name)\n",
    "            \n",
    "        self.projects[projectname] += hours\n",
    "        \n",
    "    def calc_earnings(self):\n",
    "        \"\"\"\n",
    "        Calculate earnings\n",
    "        \"\"\"\n",
    "        total_hours = 0\n",
    "        for val in self.projects.values():\n",
    "            total_hours += val\n",
    "            \n",
    "        return total_hours *self.wage\n",
    "    \n",
    "    def info(self):\n",
    "        \"\"\"\n",
    "        get info\n",
    "        \"\"\"\n",
    "        for proj, hour in self.projects.items():\n",
    "            print(hour, 'worked on project', proj)"
   ]
  },
  {
   "cell_type": "code",
   "execution_count": null,
   "metadata": {
    "id": "x8orQmzWBJkY"
   },
   "outputs": [],
   "source": [
    "bert  = Employee(\"bert\")"
   ]
  },
  {
   "cell_type": "code",
   "execution_count": null,
   "metadata": {
    "id": "apklkIbMBDqR"
   },
   "outputs": [],
   "source": [
    "bert.info()"
   ]
  },
  {
   "cell_type": "code",
   "execution_count": null,
   "metadata": {
    "colab": {
     "base_uri": "https://localhost:8080/"
    },
    "executionInfo": {
     "elapsed": 216,
     "status": "ok",
     "timestamp": 1636567423175,
     "user": {
      "displayName": "Yacine ASLIMI",
      "photoUrl": "https://lh3.googleusercontent.com/a/default-user=s64",
      "userId": "17203730376393528118"
     },
     "user_tz": -60
    },
    "id": "t1crBONZBOJw",
    "outputId": "38e475e7-f9a6-4b47-e846-cd39ed8a7562"
   },
   "outputs": [
    {
     "data": {
      "text/plain": [
       "0.0"
      ]
     },
     "execution_count": 55,
     "metadata": {},
     "output_type": "execute_result"
    }
   ],
   "source": [
    "bert.calc_earnings()"
   ]
  },
  {
   "cell_type": "markdown",
   "metadata": {
    "collapsed": true,
    "id": "gzKwrDhp4oHl"
   },
   "source": [
    "---------------------------------------"
   ]
  }
 ],
 "metadata": {
  "celltoolbar": "Nbtutor - export exercises",
  "colab": {
   "collapsed_sections": [],
   "name": "03-functions-Enoncé (3).ipynb",
   "provenance": []
  },
  "kernelspec": {
   "display_name": "Python 3",
   "language": "python",
   "name": "python3"
  },
  "language_info": {
   "codemirror_mode": {
    "name": "ipython",
    "version": 3
   },
   "file_extension": ".py",
   "mimetype": "text/x-python",
   "name": "python",
   "nbconvert_exporter": "python",
   "pygments_lexer": "ipython3",
   "version": "3.8.8"
  },
  "nav_menu": {},
  "toc": {
   "navigate_menu": true,
   "number_sections": true,
   "sideBar": true,
   "threshold": 6,
   "toc_cell": false,
   "toc_section_display": "block",
   "toc_window_display": false
  }
 },
 "nbformat": 4,
 "nbformat_minor": 1
}
